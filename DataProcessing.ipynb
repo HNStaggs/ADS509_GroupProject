{
 "cells": [
  {
   "cell_type": "markdown",
   "id": "2a616f8d-335e-4483-ada1-9f3f152aec75",
   "metadata": {},
   "source": [
    "# Call Data from Clinicaltrial.gov API"
   ]
  },
  {
   "cell_type": "code",
   "execution_count": 13,
   "id": "510e1deb-5929-4e0c-89b5-1f0c952ca9d2",
   "metadata": {},
   "outputs": [],
   "source": [
    "# Import libraries\n",
    "import requests\n",
    "import json\n",
    "import os\n",
    "import datetime\n",
    "import re\n",
    "import time\n",
    "from bs4 import BeautifulSoup\n",
    "from collections import defaultdict, Counter\n",
    "import random\n",
    "import shutil\n",
    "import pandas as pd"
   ]
  },
  {
   "cell_type": "markdown",
   "id": "a98c8924-309e-4346-a248-27cb16792cff",
   "metadata": {},
   "source": [
    "### Do a Test Call to API to check for bugs"
   ]
  },
  {
   "cell_type": "code",
   "execution_count": 38,
   "id": "ae896b9a-9808-487b-a408-965bdd83b01a",
   "metadata": {},
   "outputs": [
    {
     "name": "stdout",
     "output_type": "stream",
     "text": [
      "Request URL: https://clinicaltrials.gov/api/v2/studies?format=json&postFilter.overallStatus=COMPLETED&postFilter.advanced=%28AREA%5BStudyType%5DINTERVENTIONAL+OR+OBSERVATIONAL%29+AND+%28AREA%5BSex%5DMALE+OR+AREA%5BSex%5DFEMALE%29&fields=NCTId%7CCondition%7CPrimaryCompletionDate%7CBriefSummary%7CEnrollmentCount%7CSex%7CMinimumAge%7CMaximumAge&pageSize=5\n",
      "{\n",
      "  \"studies\": [\n",
      "    {\n",
      "      \"protocolSection\": {\n",
      "        \"identificationModule\": {\n",
      "          \"nctId\": \"NCT02178735\"\n",
      "        },\n",
      "        \"statusModule\": {\n",
      "          \"primaryCompletionDateStruct\": {\n",
      "            \"date\": \"2015-11\"\n",
      "          }\n",
      "        },\n",
      "        \"descriptionModule\": {\n",
      "          \"briefSummary\": \"To evaluate the clinical outcome and urodynamic effect of two novel vaginal tailored mesh surgeries.\"\n",
      "        },\n",
      "        \"conditionsModule\": {\n",
      "          \"conditions\": [\n",
      "            \"Pelvic Organ Prolapse\"\n",
      "          ]\n",
      "        },\n",
      "        \"designModule\": {\n",
      "          \"enrollmentInfo\": {\n",
      "            \"count\": 104\n",
      "          }\n",
      "        },\n",
      "        \"eligibilityModule\": {\n",
      "          \"sex\": \"FEMALE\",\n",
      "          \"minimumAge\": \"20 Years\",\n",
      "          \"maximumAge\": \"99 Years\"\n",
      "        }\n",
      "      }\n",
      "    },\n",
      "    {\n",
      "      \"protocolSection\": {\n",
      "        \"identificationModule\": {\n",
      "          \"nctId\": \"NCT02882035\"\n",
      "        },\n",
      "        \"statusModule\": {\n",
      "          \"primaryCompletionDateStruct\": {\n",
      "            \"date\": \"2015-07\"\n",
      "          }\n",
      "        },\n",
      "        \"descriptionModule\": {\n",
      "          \"briefSummary\": \"66 female patients undergoing breast cancer surgery were randomized in the Jules Bordet Institute, the Belgian oncology institute. One group received an opioid anesthesia, the other group an opioid free one. The hypothesis of this study was that opioid free anesthesia improves the postoperative quality of recovery of anesthesia.\"\n",
      "        },\n",
      "        \"conditionsModule\": {\n",
      "          \"conditions\": [\n",
      "            \"Anesthesia\"\n",
      "          ]\n",
      "        },\n",
      "        \"designModule\": {\n",
      "          \"enrollmentInfo\": {\n",
      "            \"count\": 66\n",
      "          }\n",
      "        },\n",
      "        \"eligibilityModule\": {\n",
      "          \"sex\": \"FEMALE\"\n",
      "        }\n",
      "      }\n",
      "    },\n",
      "    {\n",
      "      \"protocolSection\": {\n",
      "        \"identificationModule\": {\n",
      "          \"nctId\": \"NCT04312035\"\n",
      "        },\n",
      "        \"statusModule\": {\n",
      "          \"primaryCompletionDateStruct\": {\n",
      "            \"date\": \"2020-03-04\"\n",
      "          }\n",
      "        },\n",
      "        \"descriptionModule\": {\n",
      "          \"briefSummary\": \"The effect of mobilizations on decrease of peripheral and central sensitivity has been proven in KOA. Furthermore, the effect of conservative therapy has also been proven in the increase of pain threshold in KOA. However, no study has investigated the effect of these interventions combined till date in KOA.\\n\\nThe aim of the present study is to investigate the short-term and long-term effect of end-range mobilization in addition to conservative therapy on decrease of pressure pain threshold in KOA.\"\n",
      "        },\n",
      "        \"conditionsModule\": {\n",
      "          \"conditions\": [\n",
      "            \"Osteo Arthritis Knee\"\n",
      "          ]\n",
      "        },\n",
      "        \"designModule\": {\n",
      "          \"enrollmentInfo\": {\n",
      "            \"count\": 60\n",
      "          }\n",
      "        },\n",
      "        \"eligibilityModule\": {\n",
      "          \"sex\": \"FEMALE\",\n",
      "          \"minimumAge\": \"60 Years\",\n",
      "          \"maximumAge\": \"80 Years\"\n",
      "        }\n",
      "      }\n",
      "    },\n",
      "    {\n",
      "      \"protocolSection\": {\n",
      "        \"identificationModule\": {\n",
      "          \"nctId\": \"NCT00061035\"\n",
      "        },\n",
      "        \"statusModule\": {},\n",
      "        \"descriptionModule\": {\n",
      "          \"briefSummary\": \"Dr. Frederick Millard, MD, Associate Clinical Professor at the UCSD Cancer Center, will be conducting a 12-week study in advanced prostate cancer patients. The study will be held at the UCSD Medical Center and will test an experimental investigational gene therapy vaccine designed to make the patient's immune system react against telomerase, an enzyme expressed in prostate cancer cells.\"\n",
      "        },\n",
      "        \"conditionsModule\": {\n",
      "          \"conditions\": [\n",
      "            \"Prostatic Neoplasms\"\n",
      "          ]\n",
      "        },\n",
      "        \"designModule\": {\n",
      "          \"enrollmentInfo\": {\n",
      "            \"count\": 18\n",
      "          }\n",
      "        },\n",
      "        \"eligibilityModule\": {\n",
      "          \"sex\": \"MALE\",\n",
      "          \"minimumAge\": \"18 Years\"\n",
      "        }\n",
      "      }\n",
      "    },\n",
      "    {\n",
      "      \"protocolSection\": {\n",
      "        \"identificationModule\": {\n",
      "          \"nctId\": \"NCT00283335\"\n",
      "        },\n",
      "        \"statusModule\": {\n",
      "          \"primaryCompletionDateStruct\": {\n",
      "            \"date\": \"1998-09\"\n",
      "          }\n",
      "        },\n",
      "        \"descriptionModule\": {\n",
      "          \"briefSummary\": \"This was a double-blind randomized trial comparing 1200 mg per day of gemfibrozil with placebo in 2531 men with coronary heart disease, an HDL-C of 40mg/dl or less, an LDL-C of 140 mg/dl or less, and triglycerides of 300mg/dl or less. The primary outcome was nonfatal myocardial infarction(MI) or death from coronary causes. The median follow-up was 5.1 years. There was a risk reduction of 22% in the primary outcome (p=.0006) and 24% risk reduction in the combined endpoint of stroke, MI, and CHD death. The rate of events was reduced by raising HDL-C and lowering triglycerides without lowering LDL-C (N Engl J Med 1999;341:410-418).\"\n",
      "        },\n",
      "        \"conditionsModule\": {\n",
      "          \"conditions\": [\n",
      "            \"Coronary Heart Disease\"\n",
      "          ]\n",
      "        },\n",
      "        \"designModule\": {\n",
      "          \"enrollmentInfo\": {\n",
      "            \"count\": 2531\n",
      "          }\n",
      "        },\n",
      "        \"eligibilityModule\": {\n",
      "          \"sex\": \"MALE\",\n",
      "          \"maximumAge\": \"73 Years\"\n",
      "        }\n",
      "      }\n",
      "    }\n",
      "  ],\n",
      "  \"nextPageToken\": \"NF0g5JSFkQ\"\n",
      "}\n"
     ]
    }
   ],
   "source": [
    "# Define the base URL for the API\n",
    "base_url = \"https://clinicaltrials.gov/api/v2/studies\"\n",
    "\n",
    "# Define the query parameters and desired fields\n",
    "params = {\n",
    "    'format': 'json',\n",
    "    'postFilter.overallStatus': 'COMPLETED',\n",
    "    'postFilter.advanced': '(AREA[StudyType]INTERVENTIONAL OR OBSERVATIONAL) AND (AREA[Sex]MALE OR AREA[Sex]FEMALE)',\n",
    "    'fields': 'NCTId|Condition|PrimaryCompletionDate|BriefSummary|EnrollmentCount|Sex|MinimumAge|MaximumAge',\n",
    "    'pageSize': 5  # Limit to 5 records for testing\n",
    "}\n",
    "\n",
    "# Function to make the API call\n",
    "def fetch_clinical_trials(params):\n",
    "    try:\n",
    "        response = requests.get(base_url, params=params, headers={\"accept\": \"application/json\"})\n",
    "        # Print the final URL to debug any issues with the query parameters\n",
    "        print(f\"Request URL: {response.url}\")\n",
    "        # Check if the request was successful\n",
    "        if response.status_code == 200:\n",
    "            return response.json()\n",
    "        else:\n",
    "            print(f\"Failed to retrieve data: {response.status_code} - {response.text}\")\n",
    "            return None\n",
    "    except requests.exceptions.RequestException as e:\n",
    "        print(f\"Request failed: {e}\")\n",
    "        return None\n",
    "\n",
    "# Fetch the data and print it to test the connection\n",
    "data = fetch_clinical_trials(params)\n",
    "\n",
    "# Check if data was retrieved successfully\n",
    "if data:\n",
    "    # Print the JSON data\n",
    "    print(json.dumps(data, indent=2))\n",
    "else:\n",
    "    print(\"No data retrieved or error occurred.\")\n",
    "\n"
   ]
  },
  {
   "cell_type": "markdown",
   "id": "52c03418-8275-427e-a70b-5e0335afa93e",
   "metadata": {},
   "source": [
    "## Run full call to API to call Equal Number of Male and Female Studies"
   ]
  },
  {
   "cell_type": "code",
   "execution_count": 49,
   "id": "7acc08b2-5c64-4f51-8ebf-61691c7318f6",
   "metadata": {},
   "outputs": [
    {
     "name": "stdout",
     "output_type": "stream",
     "text": [
      "API call successful\n",
      "Number of studies fetched: 1000\n",
      "API call successful\n",
      "Number of studies fetched: 1000\n",
      "API call successful\n",
      "Number of studies fetched: 1000\n",
      "API call successful\n",
      "Number of studies fetched: 1000\n",
      "API call successful\n",
      "Number of studies fetched: 1000\n",
      "API call successful\n",
      "Number of studies fetched: 1000\n",
      "API call successful\n",
      "Number of studies fetched: 1000\n",
      "API call successful\n",
      "Number of studies fetched: 1000\n",
      "API call successful\n",
      "Number of studies fetched: 1000\n",
      "API call successful\n",
      "Number of studies fetched: 1000\n",
      "Data fetching and processing complete.\n"
     ]
    }
   ],
   "source": [
    "# Define the base URL for the API\n",
    "base_url = \"https://clinicaltrials.gov/api/v2/studies\"\n",
    "\n",
    "# Define the query parameters and desired fields\n",
    "params = {\n",
    "    'format': 'json',\n",
    "    'postFilter.overallStatus': 'COMPLETED',\n",
    "    'postFilter.advanced': '(AREA[StudyType]INTERVENTIONAL OR OBSERVATIONAL) AND (AREA[Sex]MALE OR AREA[Sex]FEMALE)',\n",
    "    'fields': 'NCTId|Condition|PrimaryCompletionDate|BriefSummary|EnrollmentCount|Sex|MinimumAge|MaximumAge',\n",
    "    'pageSize': 1000  # Number of records to fetch per request\n",
    "}\n",
    "\n",
    "# Function to make the API call\n",
    "def fetch_clinical_trials(params):\n",
    "    try:\n",
    "        response = requests.get(base_url, params=params, headers={\"accept\": \"application/json\"})\n",
    "        # Print the final URL to debug any issues with the query parameters\n",
    "        #print(f\"Request URL: {response.url}\")\n",
    "        # Check if the request was successful\n",
    "        if response.status_code == 200:\n",
    "            print(\"API call successful\")\n",
    "            return response.json()\n",
    "        else:\n",
    "            print(f\"Failed to retrieve data: {response.status_code} - {response.text}\")\n",
    "            return None\n",
    "    except requests.exceptions.RequestException as e:\n",
    "        print(f\"Request failed: {e}\")\n",
    "        return None\n",
    "\n",
    "# Function to extract relevant data from the API response\n",
    "def extract_study_data(study):\n",
    "    protocol_section = study.get('protocolSection', {})\n",
    "    identification_module = protocol_section.get('identificationModule', {})\n",
    "    status_module = protocol_section.get('statusModule', {})\n",
    "    description_module = protocol_section.get('descriptionModule', {})\n",
    "    conditions_module = protocol_section.get('conditionsModule', {})\n",
    "    design_module = protocol_section.get('designModule', {})\n",
    "    eligibility_module = protocol_section.get('eligibilityModule', {})\n",
    "    \n",
    "    return {\n",
    "        'NCTId': identification_module.get('nctId', 'N/A'),\n",
    "        'Condition': conditions_module.get('conditions', ['N/A']),\n",
    "        'PrimaryCompletionDate': status_module.get('primaryCompletionDateStruct', {}).get('date', 'N/A'),\n",
    "        'BriefSummary': description_module.get('briefSummary', 'N/A'),\n",
    "        'EnrollmentCount': design_module.get('enrollmentInfo', {}).get('count', 'N/A'),\n",
    "        'Sex': eligibility_module.get('sex', 'N/A'),  \n",
    "        'MinimumAge': eligibility_module.get('minimumAge', 'N/A'),  \n",
    "        'MaximumAge': eligibility_module.get('maximumAge', 'N/A'), \n",
    "    }\n",
    "\n",
    "# Fetch and process the data with a delay between requests and avoid duplicates\n",
    "def fetch_and_process_data(params, max_requests=5):  # Increase max_requests for full data retrieval\n",
    "    all_extracted_data = []\n",
    "    seen_nct_ids = set()\n",
    "    next_page_token = None\n",
    "\n",
    "    for _ in range(max_requests):\n",
    "        if next_page_token:\n",
    "            params['pageToken'] = next_page_token\n",
    "\n",
    "        data = fetch_clinical_trials(params)\n",
    "        if data:\n",
    "            studies = data.get('studies', [])\n",
    "            next_page_token = data.get('nextPageToken', None)\n",
    "\n",
    "            print(f\"Number of studies fetched: {len(studies)}\")  # Debugging statement\n",
    "            for study in studies:\n",
    "                nct_id = study.get('protocolSection', {}).get('identificationModule', {}).get('nctId')\n",
    "                if nct_id and nct_id not in seen_nct_ids:\n",
    "                    seen_nct_ids.add(nct_id)\n",
    "                    extracted_data = extract_study_data(study)\n",
    "                    all_extracted_data.append(extracted_data)\n",
    "                    #print(json.dumps(extracted_data, indent=2))  # Debugging statement\n",
    "                else:\n",
    "                    print(f\"Duplicate or missing NCTId: {nct_id}\")\n",
    "\n",
    "            if not next_page_token:\n",
    "                break  # No more pages to fetch\n",
    "\n",
    "        # Pause the execution for a short, random period of time to avoid overwhelming the server\n",
    "        time.sleep(5 + 10 * random.random())\n",
    "    \n",
    "    return all_extracted_data\n",
    "\n",
    "# Fetch data for MALE studies\n",
    "male_params = params.copy()\n",
    "male_params['postFilter.advanced'] += ' AND AREA[Sex]MALE'\n",
    "male_studies = fetch_and_process_data(male_params)\n",
    "\n",
    "# Fetch data for FEMALE studies\n",
    "female_params = params.copy()\n",
    "female_params['postFilter.advanced'] += ' AND AREA[Sex]FEMALE'\n",
    "female_studies = fetch_and_process_data(female_params)\n",
    "\n",
    "# Combine both sets of data\n",
    "all_extracted_data = male_studies + female_studies\n",
    "\n",
    "# Optionally, save the data to a file\n",
    "with open('clinical_trials_data.json', 'w') as outfile:\n",
    "    json.dump(all_extracted_data, outfile, indent=2)\n",
    "\n",
    "print(\"Data fetching and processing complete.\")"
   ]
  },
  {
   "cell_type": "markdown",
   "id": "12ccafc8-235e-4ce6-96f7-c10d21e9a5e5",
   "metadata": {},
   "source": [
    "## Examine Compiled Data from API Call (100 records per quest, 100 requests total, n = 10,000)"
   ]
  },
  {
   "cell_type": "code",
   "execution_count": 50,
   "id": "e410fd00-3749-400e-a22e-a38cddb64da5",
   "metadata": {},
   "outputs": [
    {
     "data": {
      "text/plain": [
       "(10000, 8)"
      ]
     },
     "execution_count": 50,
     "metadata": {},
     "output_type": "execute_result"
    }
   ],
   "source": [
    "# Convert the extracted data to a DataFrame\n",
    "clinical_trials_df = pd.DataFrame(all_extracted_data)\n",
    "# Save DataFrame to a CSV file\n",
    "clinical_trials_df.to_csv('clinical_trials_data.csv', index=False)\n",
    "# Dataframe shape\n",
    "clinical_trials_df.shape"
   ]
  },
  {
   "cell_type": "code",
   "execution_count": 54,
   "id": "7cb70637-2912-471b-b022-ab31dd02704a",
   "metadata": {},
   "outputs": [
    {
     "data": {
      "text/plain": [
       "(         NCTId                                          Condition  \\\n",
       " 0  NCT00061035                              [Prostatic Neoplasms]   \n",
       " 1  NCT00283335                           [Coronary Heart Disease]   \n",
       " 2  NCT05734235  [Ultraviolet B Radiation, Microvesicle Particles]   \n",
       " 3  NCT03751735  [Erectile Dysfunction Associated With Type 2 D...   \n",
       " 4  NCT00821535     [Human Immunodeficiency Virus (HIV) Infection]   \n",
       " \n",
       "   PrimaryCompletionDate                                       BriefSummary  \\\n",
       " 0                   N/A  Dr. Frederick Millard, MD, Associate Clinical ...   \n",
       " 1               1998-09  This was a double-blind randomized trial compa...   \n",
       " 2            2020-03-05  This study is designed to assess if ultraviole...   \n",
       " 3            2019-01-13  Efficacy of Intracavernous injection of Wharto...   \n",
       " 4               2009-05  To confirm safety and pharmacokinetics of mara...   \n",
       " \n",
       "   EnrollmentCount   Sex MinimumAge MaximumAge  \n",
       " 0              18  MALE   18 Years        N/A  \n",
       " 1            2531  MALE        N/A   73 Years  \n",
       " 2               8  MALE   21 Years   45 Years  \n",
       " 3               9  MALE   25 Years   70 Years  \n",
       " 4              12  MALE   21 Years   50 Years  ,\n",
       "             NCTId                                          Condition  \\\n",
       " 9995  NCT01865929  [Menorrhagia, Metrorrhagia, Uterine Fibroids, ...   \n",
       " 9996  NCT02057029  [Breast Cancer, Early Stage Estrogen Receptor ...   \n",
       " 9997  NCT02562729  [Cervical Squamous Cell Carcinoma, Cervical Ad...   \n",
       " 9998  NCT01111929  [Pregnancy During Breastfeeding, Lactational A...   \n",
       " 9999  NCT00385229                              [Perinatal Morbidity]   \n",
       " \n",
       "      PrimaryCompletionDate                                       BriefSummary  \\\n",
       " 9995               2013-06  A randomised controlled trial comparing hyster...   \n",
       " 9996               2015-06  Investigators will examine the impact of the B...   \n",
       " 9997               2016-09  The purpose of this study is to evaluate the f...   \n",
       " 9998               2016-05  Prolonged breast-feeding is an encouraged trad...   \n",
       " 9999               2003-12  Post term pregnancy is a risk pregnancy. Aim o...   \n",
       " \n",
       "      EnrollmentCount     Sex MinimumAge MaximumAge  \n",
       " 9995             124  FEMALE   25 Years        N/A  \n",
       " 9996              96  FEMALE        N/A        N/A  \n",
       " 9997              62  FEMALE   18 Years   70 Years  \n",
       " 9998            1174  FEMALE   18 Years   45 Years  \n",
       " 9999             508  FEMALE        N/A        N/A  )"
      ]
     },
     "execution_count": 54,
     "metadata": {},
     "output_type": "execute_result"
    }
   ],
   "source": [
    "# Display the DataFrame\n",
    "clinical_trials_df.head(), clinical_trials_df.tail()"
   ]
  },
  {
   "cell_type": "markdown",
   "id": "daaa3fa6-420b-453b-9fb8-681b2e782548",
   "metadata": {},
   "source": [
    "# EDA of Data Other than Brief Summary"
   ]
  },
  {
   "cell_type": "code",
   "execution_count": null,
   "id": "9e684886-50a8-4c99-8665-d337d2d6ecf8",
   "metadata": {},
   "outputs": [],
   "source": [
    "# Missing values"
   ]
  },
  {
   "cell_type": "code",
   "execution_count": 55,
   "id": "ee24aa3a-02b4-41cb-bd1e-01271f0d3643",
   "metadata": {},
   "outputs": [
    {
     "data": {
      "text/plain": [
       "Sex\n",
       "MALE      5000\n",
       "FEMALE    5000\n",
       "Name: count, dtype: int64"
      ]
     },
     "execution_count": 55,
     "metadata": {},
     "output_type": "execute_result"
    }
   ],
   "source": [
    "# Gender stats\n",
    "clinical_trials_df['Sex'].value_counts()"
   ]
  },
  {
   "cell_type": "code",
   "execution_count": null,
   "id": "0c99882a-0d13-42b9-8604-0ee7c1cff5fd",
   "metadata": {},
   "outputs": [],
   "source": [
    "# Age stats by sex"
   ]
  },
  {
   "cell_type": "code",
   "execution_count": null,
   "id": "7d7db038-9109-450d-a91f-fe589be29d97",
   "metadata": {},
   "outputs": [],
   "source": [
    "# Date stats by sex"
   ]
  },
  {
   "cell_type": "code",
   "execution_count": null,
   "id": "363735a8-fe21-442f-9931-1dc04d01d36a",
   "metadata": {},
   "outputs": [],
   "source": [
    "# Number of conditions by sex"
   ]
  },
  {
   "cell_type": "code",
   "execution_count": null,
   "id": "8ddecb0f-a629-4423-8bae-18cb7a37e6c2",
   "metadata": {},
   "outputs": [],
   "source": [
    "# Enrollment Numbers by Sex"
   ]
  },
  {
   "cell_type": "code",
   "execution_count": null,
   "id": "2517254d-65d8-41c9-812e-22bd7799ff54",
   "metadata": {},
   "outputs": [],
   "source": []
  },
  {
   "cell_type": "markdown",
   "id": "55cd4e80-ec43-47d3-9987-e313f9307e79",
   "metadata": {},
   "source": [
    "# Apply Preprocessing Steps to Brief Summary Text Data"
   ]
  },
  {
   "cell_type": "code",
   "execution_count": null,
   "id": "014ef0e7-2fbe-430b-9335-463108bdb0e6",
   "metadata": {},
   "outputs": [],
   "source": []
  },
  {
   "cell_type": "code",
   "execution_count": null,
   "id": "5770ef48-62d9-4021-bec3-4e64fa5f35f6",
   "metadata": {},
   "outputs": [],
   "source": []
  },
  {
   "cell_type": "code",
   "execution_count": null,
   "id": "4b86e7bf-3e2d-4dd9-b9eb-57e52c3c96af",
   "metadata": {},
   "outputs": [],
   "source": []
  },
  {
   "cell_type": "code",
   "execution_count": null,
   "id": "8239fc45-9b0a-4ae4-b387-e63bce535bb0",
   "metadata": {},
   "outputs": [],
   "source": []
  }
 ],
 "metadata": {
  "kernelspec": {
   "display_name": "Python 3 (ipykernel)",
   "language": "python",
   "name": "python3"
  },
  "language_info": {
   "codemirror_mode": {
    "name": "ipython",
    "version": 3
   },
   "file_extension": ".py",
   "mimetype": "text/x-python",
   "name": "python",
   "nbconvert_exporter": "python",
   "pygments_lexer": "ipython3",
   "version": "3.9.18"
  }
 },
 "nbformat": 4,
 "nbformat_minor": 5
}
