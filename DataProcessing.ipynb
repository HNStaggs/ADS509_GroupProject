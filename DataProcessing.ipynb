{
 "cells": [
  {
   "cell_type": "markdown",
   "id": "ef7f37f0",
   "metadata": {},
   "source": [
    "# ADS 509 Final Team Project\n",
    "\n",
    "### Jessica Hin, Halee Staggs, Vicky van der Wagt\n",
    "\n",
    "----------------------------------------------------------------------------------"
   ]
  },
  {
   "cell_type": "markdown",
   "id": "2a616f8d-335e-4483-ada1-9f3f152aec75",
   "metadata": {},
   "source": [
    "# Call Data from Clinicaltrial.gov API"
   ]
  },
  {
   "cell_type": "code",
   "execution_count": 264,
   "id": "510e1deb-5929-4e0c-89b5-1f0c952ca9d2",
   "metadata": {},
   "outputs": [],
   "source": [
    "# Import libraries\n",
    "import requests\n",
    "import json\n",
    "import os\n",
    "import datetime\n",
    "import re\n",
    "import time\n",
    "import warnings\n",
    "\n",
    "from bs4 import BeautifulSoup\n",
    "from collections import defaultdict, Counter\n",
    "import random\n",
    "import shutil\n",
    "import pandas as pd\n",
    "import numpy as np\n",
    "from tabulate import tabulate\n",
    "import seaborn as sns\n",
    "import matplotlib.pyplot as plt\n",
    "from nltk.corpus import stopwords\n",
    "from string import punctuation\n",
    "from nltk.tokenize import word_tokenize\n",
    "from sklearn.model_selection import train_test_split\n",
    "from imblearn.over_sampling import SMOTE\n",
    "from sklearn.preprocessing import OneHotEncoder\n",
    "from sklearn.preprocessing import LabelEncoder\n",
    "from sklearn.feature_extraction.text import CountVectorizer\n",
    "from sklearn.metrics import accuracy_score, precision_score, recall_score, confusion_matrix, ConfusionMatrixDisplay, classification_report\n",
    "from sklearn.feature_extraction.text import TfidfVectorizer\n",
    "from sklearn.svm import LinearSVC\n",
    "from imblearn.metrics import specificity_score, sensitivity_score\n",
    "import nltk\n",
    "from nltk.classify import NaiveBayesClassifier\n",
    "from sklearn.linear_model import LogisticRegression\n",
    "from nltk.stem import WordNetLemmatizer\n",
    "from collections import OrderedDict\n",
    "# Download necessary NLTK data\n",
    "#nltk.download('wordnet')\n",
    "#nltk.download('omw-1.4')\n",
    "#nltk.download('stopwords')\n",
    "\n",
    "\n",
    "# Initialize the lemmatizer\n",
    "lemmatizer = WordNetLemmatizer()\n",
    "\n",
    "\n",
    "# Suppress FutureWarnings related to is_sparse\n",
    "warnings.filterwarnings(\"ignore\", category=FutureWarning, message=\"is_sparse is deprecated\")\n",
    "\n",
    "# Define figure parameters (feel free to change)\n",
    "custom_palette = {'FEMALE': '#80ff80', 'MALE': '#99ccff'}\n",
    "sns.set_style(\"darkgrid\")\n",
    "plt.rcParams.update({'axes.titlesize': 16,\n",
    "                     'axes.labelsize': 14,\n",
    "                     'xtick.labelsize': 12,\n",
    "                     'ytick.labelsize': 12})"
   ]
  },
  {
   "cell_type": "markdown",
   "id": "a98c8924-309e-4346-a248-27cb16792cff",
   "metadata": {},
   "source": [
    "### Do a Test Call to API to check for bugs"
   ]
  },
  {
   "cell_type": "code",
   "execution_count": 2,
   "id": "ae896b9a-9808-487b-a408-965bdd83b01a",
   "metadata": {},
   "outputs": [
    {
     "name": "stdout",
     "output_type": "stream",
     "text": [
      "Request URL: https://clinicaltrials.gov/api/v2/studies?format=json&postFilter.overallStatus=COMPLETED&postFilter.advanced=%28AREA%5BStudyType%5DINTERVENTIONAL+OR+OBSERVATIONAL%29+AND+%28AREA%5BSex%5DMALE+OR+AREA%5BSex%5DFEMALE%29&fields=NCTId%7CCondition%7CStartDate%7CPrimaryCompletionDate%7CBriefSummary%7CEnrollmentCount%7CSex%7CMinimumAge%7CMaximumAge&pageSize=5\n",
      "{\n",
      "  \"studies\": [\n",
      "    {\n",
      "      \"protocolSection\": {\n",
      "        \"identificationModule\": {\n",
      "          \"nctId\": \"NCT01221623\"\n",
      "        },\n",
      "        \"statusModule\": {\n",
      "          \"startDateStruct\": {\n",
      "            \"date\": \"2010-10\"\n",
      "          },\n",
      "          \"primaryCompletionDateStruct\": {\n",
      "            \"date\": \"2012-03\"\n",
      "          }\n",
      "        },\n",
      "        \"descriptionModule\": {\n",
      "          \"briefSummary\": \"This study is a Phase 3, double-blind, randomized, placebo-controlled study of the safety and efficacy of AA4500 0.58 mg in subjects with Peyronie's disease. Approximately 300 (200 AA4500 and 100 placebo) men will be randomized. Subjects will be screened for study eligibility within 21 days before the initial injection of study drug in the first treatment cycle.\\n\\nBefore dosing, subjects will be stratified by degree of penile curvature (ie, 30\\u00ba to 60\\u00ba or 61\\u00ba to 90\\u00ba) and then randomized into two treatment groups to receive in a 2:1 ratio either AA4500 0.58 mg or placebo.\\n\\nIn this study, qualified subjects may receive up to four treatment cycles; each cycle will be separated by a period of 42 days (\\u00b1 5 days). During each treatment cycle, subjects will receive two injections of study drug with at least 24 hours but not more than 72 hours between injections. After the final injection of each treatment cycle, the investigator or qualified designee will model the penile plaque in an attempt to stretch or elongate the plaque. If the subject's penile curvature is reduced to \\\\< 15 degrees after the first, second, or third cycle of injections or if the investigator determines further treatment is not clinically indicated (eg, adverse events; allergic reaction), subsequent treatment cycles will not be administered.\\n\\nFollowing the maximum of four treatment cycles, each subject will be followed for additional safety and efficacy assessments on Days 169 (\\u00b1 7 days), 232 (\\u00b1 7 days), 295 (\\u00b1 7 days), 365 (\\u00b1 7 days) (nominal weeks 24, 33, 42 and 52). Subjects randomized to placebo may receive open-label AA4500 treatment after completing this study as part of another protocol.\"\n",
      "        },\n",
      "        \"conditionsModule\": {\n",
      "          \"conditions\": [\n",
      "            \"Peyronie's Disease\"\n",
      "          ]\n",
      "        },\n",
      "        \"designModule\": {\n",
      "          \"enrollmentInfo\": {\n",
      "            \"count\": 418\n",
      "          }\n",
      "        },\n",
      "        \"eligibilityModule\": {\n",
      "          \"sex\": \"MALE\",\n",
      "          \"minimumAge\": \"18 Years\"\n",
      "        }\n",
      "      }\n",
      "    },\n",
      "    {\n",
      "      \"protocolSection\": {\n",
      "        \"identificationModule\": {\n",
      "          \"nctId\": \"NCT02831023\"\n",
      "        },\n",
      "        \"statusModule\": {\n",
      "          \"startDateStruct\": {\n",
      "            \"date\": \"2016-07\"\n",
      "          },\n",
      "          \"primaryCompletionDateStruct\": {\n",
      "            \"date\": \"2017-01\"\n",
      "          }\n",
      "        },\n",
      "        \"descriptionModule\": {\n",
      "          \"briefSummary\": \"The purpose of this study is to determine the most efficacious transmission blocking drug regimen for seasonal malaria chemoprophylaxis in Mali. The primary outcome measure will be the proportion of mosquitoes infected pre and post-treatment, assessed through membrane feeding and measured by oocyst prevalence in mosquitoes dissected on day 7 post feed. Primary endpoint will be a within group comparison between the mean of the pretreatment infectivity (Day 0) and infectivity at 7 days post first dose.\"\n",
      "        },\n",
      "        \"conditionsModule\": {\n",
      "          \"conditions\": [\n",
      "            \"Malaria\"\n",
      "          ]\n",
      "        },\n",
      "        \"designModule\": {\n",
      "          \"enrollmentInfo\": {\n",
      "            \"count\": 80\n",
      "          }\n",
      "        },\n",
      "        \"eligibilityModule\": {\n",
      "          \"sex\": \"MALE\",\n",
      "          \"minimumAge\": \"5 Years\",\n",
      "          \"maximumAge\": \"50 Years\"\n",
      "        }\n",
      "      }\n",
      "    },\n",
      "    {\n",
      "      \"protocolSection\": {\n",
      "        \"identificationModule\": {\n",
      "          \"nctId\": \"NCT06322823\"\n",
      "        },\n",
      "        \"statusModule\": {\n",
      "          \"startDateStruct\": {\n",
      "            \"date\": \"2020-01-01\"\n",
      "          },\n",
      "          \"primaryCompletionDateStruct\": {\n",
      "            \"date\": \"2022-12-31\"\n",
      "          }\n",
      "        },\n",
      "        \"descriptionModule\": {\n",
      "          \"briefSummary\": \"There are more than million frozen embryo transfers around the world each year; a faster, safer, and cheaper method can save a significant amount of money for patients undergoing IVF treatment worldwide.\"\n",
      "        },\n",
      "        \"conditionsModule\": {\n",
      "          \"conditions\": [\n",
      "            \"IVF\"\n",
      "          ]\n",
      "        },\n",
      "        \"designModule\": {\n",
      "          \"enrollmentInfo\": {\n",
      "            \"count\": 116\n",
      "          }\n",
      "        },\n",
      "        \"eligibilityModule\": {\n",
      "          \"sex\": \"FEMALE\"\n",
      "        }\n",
      "      }\n",
      "    },\n",
      "    {\n",
      "      \"protocolSection\": {\n",
      "        \"identificationModule\": {\n",
      "          \"nctId\": \"NCT01908023\"\n",
      "        },\n",
      "        \"statusModule\": {\n",
      "          \"startDateStruct\": {\n",
      "            \"date\": \"2013-05\"\n",
      "          },\n",
      "          \"primaryCompletionDateStruct\": {\n",
      "            \"date\": \"2013-11\"\n",
      "          }\n",
      "        },\n",
      "        \"descriptionModule\": {\n",
      "          \"briefSummary\": \"Every year, almost 3000 Norwegian women are diagnosed with breast cancer. Various symptoms of short-and long-term side effects may be experienced, such as physical deterioration, reduced quality of life and fatigue. At St.Olavs Hospital, Trondheim University Hospital, all out-patients undergoing post operative radiotherapy are currently offered participation in group exercise training sessions. The main purpose of this study is to evaluate these out-patient group exercise sessions.\"\n",
      "        },\n",
      "        \"conditionsModule\": {\n",
      "          \"conditions\": [\n",
      "            \"Breast Neoplasms\"\n",
      "          ]\n",
      "        },\n",
      "        \"designModule\": {\n",
      "          \"enrollmentInfo\": {\n",
      "            \"count\": 15\n",
      "          }\n",
      "        },\n",
      "        \"eligibilityModule\": {\n",
      "          \"sex\": \"FEMALE\",\n",
      "          \"minimumAge\": \"18 Years\",\n",
      "          \"maximumAge\": \"80 Years\"\n",
      "        }\n",
      "      }\n",
      "    },\n",
      "    {\n",
      "      \"protocolSection\": {\n",
      "        \"identificationModule\": {\n",
      "          \"nctId\": \"NCT01635023\"\n",
      "        },\n",
      "        \"statusModule\": {\n",
      "          \"startDateStruct\": {\n",
      "            \"date\": \"2012-07\"\n",
      "          },\n",
      "          \"primaryCompletionDateStruct\": {\n",
      "            \"date\": \"2012-10\"\n",
      "          }\n",
      "        },\n",
      "        \"descriptionModule\": {\n",
      "          \"briefSummary\": \"Study in Healthy Males to Compare the White and Blue Formulations of AZD6244.\"\n",
      "        },\n",
      "        \"conditionsModule\": {\n",
      "          \"conditions\": [\n",
      "            \"Healthy Volunteers\"\n",
      "          ]\n",
      "        },\n",
      "        \"designModule\": {\n",
      "          \"enrollmentInfo\": {\n",
      "            \"count\": 27\n",
      "          }\n",
      "        },\n",
      "        \"eligibilityModule\": {\n",
      "          \"sex\": \"MALE\",\n",
      "          \"minimumAge\": \"18 Years\",\n",
      "          \"maximumAge\": \"55 Years\"\n",
      "        }\n",
      "      }\n",
      "    }\n",
      "  ],\n",
      "  \"nextPageToken\": \"NF0g5JeAmw\"\n",
      "}\n"
     ]
    }
   ],
   "source": [
    "# Define the base URL for the API\n",
    "base_url = \"https://clinicaltrials.gov/api/v2/studies\"\n",
    "\n",
    "# Define the query parameters and desired fields\n",
    "params = {\n",
    "    'format': 'json',\n",
    "    'postFilter.overallStatus': 'COMPLETED',\n",
    "    'postFilter.advanced': '(AREA[StudyType]INTERVENTIONAL OR OBSERVATIONAL) AND (AREA[Sex]MALE OR AREA[Sex]FEMALE)',\n",
    "    'fields': 'NCTId|Condition|StartDate|PrimaryCompletionDate|BriefSummary|EnrollmentCount|Sex|MinimumAge|MaximumAge',\n",
    "    'pageSize': 5  # Limit to 5 records for testing\n",
    "}\n",
    "\n",
    "# Function to make the API call\n",
    "def fetch_clinical_trials(params):\n",
    "    try:\n",
    "        response = requests.get(base_url, params=params, headers={\"accept\": \"application/json\"})\n",
    "        # Print the final URL to debug any issues with the query parameters\n",
    "        print(f\"Request URL: {response.url}\")\n",
    "        # Check if the request was successful\n",
    "        if response.status_code == 200:\n",
    "            return response.json()\n",
    "        else:\n",
    "            print(f\"Failed to retrieve data: {response.status_code} - {response.text}\")\n",
    "            return None\n",
    "    except requests.exceptions.RequestException as e:\n",
    "        print(f\"Request failed: {e}\")\n",
    "        return None\n",
    "\n",
    "# Fetch the data and print it to test the connection\n",
    "data = fetch_clinical_trials(params)\n",
    "\n",
    "# Check if data was retrieved successfully\n",
    "if data:\n",
    "    # Print the JSON data\n",
    "    print(json.dumps(data, indent=2))\n",
    "else:\n",
    "    print(\"No data retrieved or error occurred.\")\n",
    "\n"
   ]
  },
  {
   "cell_type": "markdown",
   "id": "52c03418-8275-427e-a70b-5e0335afa93e",
   "metadata": {},
   "source": [
    "## Run full call to API"
   ]
  },
  {
   "cell_type": "code",
   "execution_count": 3,
   "id": "7acc08b2-5c64-4f51-8ebf-61691c7318f6",
   "metadata": {},
   "outputs": [
    {
     "name": "stdout",
     "output_type": "stream",
     "text": [
      "API call successful\n",
      "Number of studies fetched: 1000\n",
      "API call successful\n",
      "Number of studies fetched: 1000\n",
      "API call successful\n",
      "Number of studies fetched: 1000\n",
      "API call successful\n",
      "Number of studies fetched: 1000\n",
      "API call successful\n",
      "Number of studies fetched: 1000\n",
      "API call successful\n",
      "Number of studies fetched: 1000\n",
      "API call successful\n",
      "Number of studies fetched: 1000\n",
      "API call successful\n",
      "Number of studies fetched: 1000\n",
      "API call successful\n",
      "Number of studies fetched: 1000\n",
      "API call successful\n",
      "Number of studies fetched: 1000\n",
      "API call successful\n",
      "Number of studies fetched: 1000\n",
      "API call successful\n",
      "Number of studies fetched: 1000\n",
      "API call successful\n",
      "Number of studies fetched: 1000\n",
      "API call successful\n",
      "Number of studies fetched: 1000\n",
      "API call successful\n",
      "Number of studies fetched: 1000\n",
      "Data fetching and processing complete.\n"
     ]
    }
   ],
   "source": [
    "# Define the base URL for the API\n",
    "base_url = \"https://clinicaltrials.gov/api/v2/studies\"\n",
    "\n",
    "# Define the query parameters and desired fields\n",
    "params = {\n",
    "    'format': 'json',\n",
    "    'postFilter.overallStatus': 'COMPLETED',\n",
    "    'postFilter.advanced': '(AREA[StudyType]INTERVENTIONAL OR OBSERVATIONAL)',\n",
    "    'fields': 'NCTId|Condition|StartDate|PrimaryCompletionDate|BriefSummary|EnrollmentCount|Sex|MinimumAge|MaximumAge',\n",
    "    'pageSize': 1000  # Number of records to fetch per request\n",
    "}\n",
    "\n",
    "# Function to make the API call\n",
    "def fetch_clinical_trials(params):\n",
    "    try:\n",
    "        response = requests.get(base_url, params=params, headers={\"accept\": \"application/json\"})\n",
    "        # Print the final URL to debug any issues with the query parameters\n",
    "        #print(f\"Request URL: {response.url}\")\n",
    "        # Check if the request was successful\n",
    "        if response.status_code == 200:\n",
    "            print(\"API call successful\")\n",
    "            return response.json()\n",
    "        else:\n",
    "            print(f\"Failed to retrieve data: {response.status_code} - {response.text}\")\n",
    "            return None\n",
    "    except requests.exceptions.RequestException as e:\n",
    "        print(f\"Request failed: {e}\")\n",
    "        return None\n",
    "\n",
    "# Function to extract relevant data from the API response\n",
    "def extract_study_data(study):\n",
    "    protocol_section = study.get('protocolSection', {})\n",
    "    identification_module = protocol_section.get('identificationModule', {})\n",
    "    status_module = protocol_section.get('statusModule', {})\n",
    "    description_module = protocol_section.get('descriptionModule', {})\n",
    "    conditions_module = protocol_section.get('conditionsModule', {})\n",
    "    design_module = protocol_section.get('designModule', {})\n",
    "    eligibility_module = protocol_section.get('eligibilityModule', {})\n",
    "\n",
    "    # Exclude records where sex or brief summary is not available\n",
    "    if 'sex' not in eligibility_module or 'briefSummary' not in description_module:\n",
    "        return None\n",
    "\n",
    "    return {\n",
    "        'NCTId': identification_module.get('nctId', 'N/A'),\n",
    "        'Condition': conditions_module.get('conditions', ['N/A']),\n",
    "        'StartDate': status_module.get('startDateStruct', {}).get('date', 'N/A'),\n",
    "        'PrimaryCompletionDate': status_module.get('primaryCompletionDateStruct', {}).get('date', 'N/A'),\n",
    "        'BriefSummary': description_module.get('briefSummary', 'N/A'),\n",
    "        'EnrollmentCount': design_module.get('enrollmentInfo', {}).get('count', 'N/A'),\n",
    "        'Sex': eligibility_module.get('sex', 'N/A'),\n",
    "        'MinimumAge': eligibility_module.get('minimumAge', 'N/A'),\n",
    "        'MaximumAge': eligibility_module.get('maximumAge', 'N/A')\n",
    "    }\n",
    "\n",
    "# Fetch and process the data with a delay between requests and avoid duplicates\n",
    "def fetch_and_process_data(params, max_requests):  # Increase max_requests for full data retrieval\n",
    "    all_extracted_data = []\n",
    "    seen_nct_ids = set()\n",
    "    next_page_token = None\n",
    "\n",
    "    for _ in range(max_requests):\n",
    "        if next_page_token:\n",
    "            params['pageToken'] = next_page_token\n",
    "\n",
    "        data = fetch_clinical_trials(params)\n",
    "        if data:\n",
    "            studies = data.get('studies', [])\n",
    "            next_page_token = data.get('nextPageToken', None)\n",
    "\n",
    "            print(f\"Number of studies fetched: {len(studies)}\")  # Debugging statement\n",
    "            for study in studies:\n",
    "                nct_id = study.get('protocolSection', {}).get('identificationModule', {}).get('nctId')\n",
    "                if nct_id and nct_id not in seen_nct_ids:\n",
    "                    seen_nct_ids.add(nct_id)\n",
    "                    extracted_data = extract_study_data(study)\n",
    "                    all_extracted_data.append(extracted_data)\n",
    "                    #print(json.dumps(extracted_data, indent=2))  # Debugging statement\n",
    "                else:\n",
    "                    print(f\"Duplicate or missing NCTId: {nct_id}\")\n",
    "\n",
    "            if not next_page_token:\n",
    "                break  # No more pages to fetch\n",
    "\n",
    "        # Pause the execution for a short, random period of time to avoid overwhelming the server\n",
    "        time.sleep(5 + 10 * random.random())\n",
    "    \n",
    "    return all_extracted_data\n",
    "\n",
    "# Fetch data for random sample of MALE or FEMALE studies\n",
    "random_sample_params = params.copy()\n",
    "random_sample_params['postFilter.advanced'] += ' AND (AREA[Sex]MALE OR AREA[Sex]FEMALE)'\n",
    "random_sample_studies = fetch_and_process_data(random_sample_params, max_requests=15)\n",
    "\n",
    "# Combine both sets of data\n",
    "all_data = random_sample_studies \n",
    "\n",
    "# Save the data to a file in repository to avoid sending request to server\n",
    "with open('clinical_trials.json', 'w') as outfile:\n",
    "    json.dump(all_data, outfile, indent=2)\n",
    "\n",
    "print(\"Data fetching and processing complete.\")"
   ]
  },
  {
   "cell_type": "markdown",
   "id": "12ccafc8-235e-4ce6-96f7-c10d21e9a5e5",
   "metadata": {},
   "source": [
    "## Examine Data"
   ]
  },
  {
   "cell_type": "code",
   "execution_count": 68,
   "id": "e410fd00-3749-400e-a22e-a38cddb64da5",
   "metadata": {},
   "outputs": [
    {
     "ename": "NameError",
     "evalue": "name 'all_data' is not defined",
     "output_type": "error",
     "traceback": [
      "\u001b[1;31m---------------------------------------------------------------------------\u001b[0m",
      "\u001b[1;31mNameError\u001b[0m                                 Traceback (most recent call last)",
      "Cell \u001b[1;32mIn[68], line 2\u001b[0m\n\u001b[0;32m      1\u001b[0m \u001b[38;5;66;03m# Convert the extracted data to a DataFrame\u001b[39;00m\n\u001b[1;32m----> 2\u001b[0m all_df \u001b[38;5;241m=\u001b[39m pd\u001b[38;5;241m.\u001b[39mDataFrame(\u001b[43mall_data\u001b[49m)\n\u001b[0;32m      3\u001b[0m \u001b[38;5;66;03m# Save DataFrame to a CSV file\u001b[39;00m\n\u001b[0;32m      4\u001b[0m all_df\u001b[38;5;241m.\u001b[39mto_csv(\u001b[38;5;124m'\u001b[39m\u001b[38;5;124mclinical_trials.csv\u001b[39m\u001b[38;5;124m'\u001b[39m, index\u001b[38;5;241m=\u001b[39m\u001b[38;5;28;01mFalse\u001b[39;00m)\n",
      "\u001b[1;31mNameError\u001b[0m: name 'all_data' is not defined"
     ]
    }
   ],
   "source": [
    "# Convert the extracted data to a DataFrame\n",
    "all_df = pd.DataFrame(all_data)\n",
    "# Save DataFrame to a CSV file\n",
    "all_df.to_csv('clinical_trials.csv', index=False)"
   ]
  },
  {
   "cell_type": "code",
   "execution_count": null,
   "id": "31b04f89-8715-49f1-8335-56fd43fc55ea",
   "metadata": {},
   "outputs": [],
   "source": []
  },
  {
   "cell_type": "code",
   "execution_count": null,
   "id": "0f595314-03c3-48b0-be96-105318cb47f2",
   "metadata": {},
   "outputs": [],
   "source": []
  },
  {
   "cell_type": "markdown",
   "id": "b2d0fc18-949a-4401-ae74-d0a5f2c753de",
   "metadata": {},
   "source": [
    "# Start New File Here: EDA"
   ]
  },
  {
   "cell_type": "markdown",
   "id": "26bacc93-9fd6-4e2c-ba5b-fcbfa213b438",
   "metadata": {},
   "source": [
    "### Read in .csv file of data "
   ]
  },
  {
   "cell_type": "code",
   "execution_count": 121,
   "id": "61ca6d37-e45a-473a-b52e-9ece856831f9",
   "metadata": {},
   "outputs": [],
   "source": [
    "all_df = pd.read_csv(r\"clinical_trials.csv\")"
   ]
  },
  {
   "cell_type": "code",
   "execution_count": 122,
   "id": "91e150b2-383e-41fa-b5b3-1bc5aae79b91",
   "metadata": {},
   "outputs": [
    {
     "data": {
      "text/plain": [
       "(15000, 9)"
      ]
     },
     "execution_count": 122,
     "metadata": {},
     "output_type": "execute_result"
    }
   ],
   "source": [
    "# Dataframe shape\n",
    "all_df.shape"
   ]
  },
  {
   "cell_type": "code",
   "execution_count": 123,
   "id": "7cb70637-2912-471b-b022-ab31dd02704a",
   "metadata": {},
   "outputs": [
    {
     "data": {
      "text/plain": [
       "(         NCTId               Condition   StartDate PrimaryCompletionDate  \\\n",
       " 0  NCT01221623  [\"Peyronie's Disease\"]     2010-10               2012-03   \n",
       " 1  NCT02831023             ['Malaria']     2016-07               2017-01   \n",
       " 2  NCT06322823                 ['IVF']  2020-01-01            2022-12-31   \n",
       " 3  NCT01908023    ['Breast Neoplasms']     2013-05               2013-11   \n",
       " 4  NCT01635023  ['Healthy Volunteers']     2012-07               2012-10   \n",
       " \n",
       "                                         BriefSummary  EnrollmentCount     Sex  \\\n",
       " 0  This study is a Phase 3, double-blind, randomi...            418.0    MALE   \n",
       " 1  The purpose of this study is to determine the ...             80.0    MALE   \n",
       " 2  There are more than million frozen embryo tran...            116.0  FEMALE   \n",
       " 3  Every year, almost 3000 Norwegian women are di...             15.0  FEMALE   \n",
       " 4  Study in Healthy Males to Compare the White an...             27.0    MALE   \n",
       " \n",
       "   MinimumAge MaximumAge  \n",
       " 0   18 Years        NaN  \n",
       " 1    5 Years   50 Years  \n",
       " 2        NaN        NaN  \n",
       " 3   18 Years   80 Years  \n",
       " 4   18 Years   55 Years  ,\n",
       "              NCTId                                 Condition   StartDate  \\\n",
       " 14995  NCT00122681            ['Infections, Papillomavirus']  2004-05-06   \n",
       " 14996  NCT02401581          ['Benign Prostatic Hypertrophy']  2015-02-02   \n",
       " 14997  NCT03249181  ['HIV-1-infection', 'Pregnancy Related']  2018-01-22   \n",
       " 14998  NCT02348710                             ['Neoplasms']     2015-06   \n",
       " 14999  NCT01458210             ['Diabetes Mellitus, Type 2']     2011-10   \n",
       " \n",
       "       PrimaryCompletionDate  \\\n",
       " 14995            2006-11-03   \n",
       " 14996            2019-08-21   \n",
       " 14997            2020-10-20   \n",
       " 14998               2016-09   \n",
       " 14999               2012-02   \n",
       " \n",
       "                                             BriefSummary  EnrollmentCount  \\\n",
       " 14995  Human Papilloma virus (HPV) are viruses that c...          18729.0   \n",
       " 14996  Benign hypertrophy of the prostate (BPH) is th...            200.0   \n",
       " 14997  To evaluate dolutegravir (DTG) efficacy in wom...            268.0   \n",
       " 14998  This randomized controlled trial will test a m...             64.0   \n",
       " 14999  The purpose of this study is to look at how th...             22.0   \n",
       " \n",
       "           Sex MinimumAge MaximumAge  \n",
       " 14995  FEMALE   15 Years   25 Years  \n",
       " 14996    MALE   45 Years   80 Years  \n",
       " 14997  FEMALE   18 Years        NaN  \n",
       " 14998  FEMALE   19 Years   90 Years  \n",
       " 14999  FEMALE   18 Years   45 Years  )"
      ]
     },
     "execution_count": 123,
     "metadata": {},
     "output_type": "execute_result"
    }
   ],
   "source": [
    "# Display the DataFrame\n",
    "all_df.head(), all_df.tail()"
   ]
  },
  {
   "cell_type": "code",
   "execution_count": 124,
   "id": "5d310235-f64e-44dc-8b03-eb4b2e6902ac",
   "metadata": {},
   "outputs": [
    {
     "name": "stdout",
     "output_type": "stream",
     "text": [
      "<class 'pandas.core.frame.DataFrame'>\n",
      "RangeIndex: 15000 entries, 0 to 14999\n",
      "Data columns (total 9 columns):\n",
      " #   Column                 Non-Null Count  Dtype  \n",
      "---  ------                 --------------  -----  \n",
      " 0   NCTId                  15000 non-null  object \n",
      " 1   Condition              15000 non-null  object \n",
      " 2   StartDate              14882 non-null  object \n",
      " 3   PrimaryCompletionDate  14343 non-null  object \n",
      " 4   BriefSummary           15000 non-null  object \n",
      " 5   EnrollmentCount        14797 non-null  float64\n",
      " 6   Sex                    15000 non-null  object \n",
      " 7   MinimumAge             14178 non-null  object \n",
      " 8   MaximumAge             9919 non-null   object \n",
      "dtypes: float64(1), object(8)\n",
      "memory usage: 1.0+ MB\n"
     ]
    }
   ],
   "source": [
    "all_df.info()"
   ]
  },
  {
   "cell_type": "markdown",
   "id": "c749bc04",
   "metadata": {},
   "source": [
    "# Preprocess All Data + EDA\n",
    "    * Examine and handle missing values\n",
    "    * Fix column datatypes\n",
    "    * Feature creation"
   ]
  },
  {
   "cell_type": "markdown",
   "id": "87a28b52",
   "metadata": {},
   "source": [
    "### Examine and Handle Missing Values\n",
    "\n",
    "First handle missing values within the dataframe in preparation for plotting. "
   ]
  },
  {
   "cell_type": "code",
   "execution_count": 125,
   "id": "c82588ca-1334-42bd-9593-99acca90af20",
   "metadata": {},
   "outputs": [
    {
     "name": "stdout",
     "output_type": "stream",
     "text": [
      "DataFrame with counts and percentages of missing (NaN) values:\n",
      "+----+-----------------------+-----------------+----------------------+\n",
      "|    | Column                |   Missing Count |   Missing Proportion |\n",
      "+====+=======================+=================+======================+\n",
      "|  0 | NCTId                 |               0 |           0          |\n",
      "+----+-----------------------+-----------------+----------------------+\n",
      "|  1 | Condition             |               0 |           0          |\n",
      "+----+-----------------------+-----------------+----------------------+\n",
      "|  2 | StartDate             |             118 |           0.00786667 |\n",
      "+----+-----------------------+-----------------+----------------------+\n",
      "|  3 | PrimaryCompletionDate |             657 |           0.0438     |\n",
      "+----+-----------------------+-----------------+----------------------+\n",
      "|  4 | BriefSummary          |               0 |           0          |\n",
      "+----+-----------------------+-----------------+----------------------+\n",
      "|  5 | EnrollmentCount       |             203 |           0.0135333  |\n",
      "+----+-----------------------+-----------------+----------------------+\n",
      "|  6 | Sex                   |               0 |           0          |\n",
      "+----+-----------------------+-----------------+----------------------+\n",
      "|  7 | MinimumAge            |             822 |           0.0548     |\n",
      "+----+-----------------------+-----------------+----------------------+\n",
      "|  8 | MaximumAge            |            5081 |           0.338733   |\n",
      "+----+-----------------------+-----------------+----------------------+\n"
     ]
    }
   ],
   "source": [
    "# Count missing values (NaN) in each column\n",
    "na_counts = all_df.isna().sum()\n",
    "total_records = len(all_df)\n",
    "percentage_na = (na_counts / total_records)\n",
    "\n",
    "# Generate DataFrame from the counts and percentages\n",
    "na_counts_df = pd.DataFrame({'Missing Count': na_counts, 'Missing Proportion': percentage_na})\n",
    "\n",
    "# Reset index & rename the index column\n",
    "na_counts_df.reset_index(inplace=True)\n",
    "na_counts_df.rename(columns={'index': 'Column'}, inplace=True)\n",
    "\n",
    "print(\"DataFrame with counts and percentages of missing (NaN) values:\")\n",
    "print(tabulate(na_counts_df, headers='keys', tablefmt='grid'))"
   ]
  },
  {
   "cell_type": "markdown",
   "id": "3073605d",
   "metadata": {},
   "source": [
    "A new df \"no_nans\" was created in order to do EDA - this is to seperate it from all the preprocessing step when splitting the data into train and test dataframes."
   ]
  },
  {
   "cell_type": "code",
   "execution_count": 126,
   "id": "4c263f4b",
   "metadata": {},
   "outputs": [],
   "source": [
    "# Missing values to null for now (simplifies type conversions & plotting)\n",
    "def na_to_null(df, column):\n",
    "    \"\"\"This function replaces \"N/A\" values in a df column with null\"\"\"\n",
    "    df[column] = df[column].replace('N/A', np.nan)\n",
    "    return df\n",
    "\n",
    "no_nans = na_to_null(all_df, ['PrimaryCompletionDate', 'StartDate','EnrollmentCount','MinimumAge', 'MaximumAge'])"
   ]
  },
  {
   "cell_type": "markdown",
   "id": "29d3d611",
   "metadata": {},
   "source": [
    "### Feature Clean-up, Feature Creation\n",
    "\n",
    "New columns \"MinimumAgeYrs\" and \"MaximumAgeYrs\" are created to change all the values that are less than a year to 0."
   ]
  },
  {
   "cell_type": "code",
   "execution_count": 127,
   "id": "fd920b81",
   "metadata": {},
   "outputs": [],
   "source": [
    "# Extract years from age feature\n",
    "def extract_years(age_feature):\n",
    "    \"\"\"This function converts age features to years. If the feature\n",
    "    does not contain \"Year\" or \"Years\", needs to be 0 years. \"\"\"\n",
    "    # Check if the input value is already numeric\n",
    "    if isinstance(age_feature, (int, float)):\n",
    "        return age_feature\n",
    "    # If not numeric, split text\n",
    "    parts = age_feature.split()\n",
    "    # If unit is Year or Years, return number before the unit\n",
    "    if parts[1] == 'Years' or parts[1] == 'Year':\n",
    "        return int(parts[0])\n",
    "    # Else return 0 years (anything other than year is less than a year (weeks, months, etc))\n",
    "    return 0\n",
    "\n",
    "#convert age features to numerical\n",
    "no_nans['MinimumAgeYrs'] = no_nans['MinimumAge'].apply(extract_years)\n",
    "no_nans['MaximumAgeYrs'] = no_nans['MaximumAge'].apply(extract_years)\n",
    "\n",
    "# Convert StartDate PrimaryCompletionDate column to date type\n",
    "no_nans['StartDate'] = pd.to_datetime(no_nans['StartDate'], errors='coerce')\n",
    "no_nans['PrimaryCompletionDate'] = pd.to_datetime(no_nans['PrimaryCompletionDate'], errors='coerce')\n",
    "\n",
    "# Generate Year and Month columns \n",
    "no_nans['StartYear'] = no_nans['StartDate'].dt.year\n",
    "no_nans['StartMonth'] = no_nans['StartDate'].dt.month\n",
    "no_nans['StartDecade'] = (no_nans['StartYear'] // 10) * 10\n",
    "\n",
    "# Generate Column for Number of Conditions\n",
    "no_nans['ConditionCount'] = no_nans['Condition'].apply(lambda x: len(x.split(',')))\n",
    "\n",
    "# Generate Column for study Duration\n",
    "no_nans['Duration'] = (no_nans['PrimaryCompletionDate'] - no_nans['StartDate']).dt.days\n",
    "no_nans['DurationYrsRounded'] = (no_nans['Duration'] / 365).round(2)\n"
   ]
  },
  {
   "cell_type": "code",
   "execution_count": 128,
   "id": "920eca5f-b7d8-4ec0-8c58-5977514db45b",
   "metadata": {},
   "outputs": [],
   "source": [
    "# Combine \"condition\" description with \"brief summary\" description\n",
    "no_nans['all_text'] = no_nans['Condition']+\" \"+no_nans['BriefSummary']"
   ]
  },
  {
   "cell_type": "code",
   "execution_count": 129,
   "id": "4963ddc4-7ad1-4427-87f8-8fe36af8cc55",
   "metadata": {},
   "outputs": [
    {
     "data": {
      "text/plain": [
       "0    [\"Peyronie's Disease\"] This study is a Phase 3...\n",
       "1    ['Malaria'] The purpose of this study is to de...\n",
       "2    ['IVF'] There are more than million frozen emb...\n",
       "3    ['Breast Neoplasms'] Every year, almost 3000 N...\n",
       "4    ['Healthy Volunteers'] Study in Healthy Males ...\n",
       "Name: all_text, dtype: object"
      ]
     },
     "execution_count": 129,
     "metadata": {},
     "output_type": "execute_result"
    }
   ],
   "source": [
    "no_nans['all_text'].head()"
   ]
  },
  {
   "cell_type": "markdown",
   "id": "daaa3fa6-420b-453b-9fb8-681b2e782548",
   "metadata": {},
   "source": [
    "# EDA of Data Other than Brief Summary\n",
    "\n",
    "Let's first see how many different studies there are."
   ]
  },
  {
   "cell_type": "code",
   "execution_count": 130,
   "id": "080907ac",
   "metadata": {},
   "outputs": [
    {
     "data": {
      "text/plain": [
       "Condition\n",
       "['Healthy']                                 846\n",
       "['Breast Cancer']                           663\n",
       "['Prostate Cancer']                         506\n",
       "['Infertility']                             176\n",
       "['Healthy Volunteers']                      158\n",
       "                                           ... \n",
       "['Hysterosalpingography']                     1\n",
       "['Anxiety', 'Sleep Disturbance']              1\n",
       "['Healthy Volunteers - Haemophilia A']        1\n",
       "['Catheter-related Bladder Discomfort']       1\n",
       "['HIV-1-infection', 'Pregnancy Related']      1\n",
       "Name: count, Length: 7464, dtype: int64"
      ]
     },
     "execution_count": 130,
     "metadata": {},
     "output_type": "execute_result"
    }
   ],
   "source": [
    "no_nans['Condition'].value_counts()"
   ]
  },
  {
   "cell_type": "markdown",
   "id": "7d46a407",
   "metadata": {},
   "source": [
    "There are 7,417 different conditions that a person can possibly be in this dataframe. \"Healthy\" is amongst the most common conditions, we might need to consider only classifying for the top 5 conditions otherwise the counts are really low. "
   ]
  },
  {
   "cell_type": "code",
   "execution_count": 131,
   "id": "ee24aa3a-02b4-41cb-bd1e-01271f0d3643",
   "metadata": {},
   "outputs": [
    {
     "data": {
      "text/plain": [
       "Sex\n",
       "FEMALE    9656\n",
       "MALE      5344\n",
       "Name: count, dtype: int64"
      ]
     },
     "execution_count": 131,
     "metadata": {},
     "output_type": "execute_result"
    }
   ],
   "source": [
    "# Gender stats\n",
    "no_nans['Sex'].value_counts()"
   ]
  },
  {
   "cell_type": "code",
   "execution_count": 492,
   "id": "0c99882a-0d13-42b9-8604-0ee7c1cff5fd",
   "metadata": {},
   "outputs": [
    {
     "data": {
      "image/png": "[encoded data removed]",
      "text/plain": [
       "<Figure size 864x432 with 2 Axes>"
      ]
     },
     "metadata": {
      "needs_background": "light"
     },
     "output_type": "display_data"
    }
   ],
   "source": [
    "# Age stats by sex\n",
    "import matplotlib.pyplot as plt\n",
    "\n",
    "def plot_boxplot(data, column, ax, title, custom_palette):\n",
    "    \"\"\"Function to plot boxplots for a specific column, with annotations for male and female data\"\"\"\n",
    "    # Filter data by sex\n",
    "    data_male = data[data['Sex'] == 'MALE'][column].dropna()\n",
    "    data_female = data[data['Sex'] == 'FEMALE'][column].dropna()\n",
    "    \n",
    "    # Plot boxplots\n",
    "    male_boxes = ax.boxplot(data_male, positions=[1], patch_artist=True, medianprops=dict(color='black'), boxprops=dict(facecolor=custom_palette['MALE']))\n",
    "    female_boxes = ax.boxplot(data_female, positions=[2], patch_artist=True, medianprops=dict(color='black'), boxprops=dict(facecolor=custom_palette['FEMALE']))\n",
    "    \n",
    "    # Add labels and title\n",
    "    ax.set_title(title)\n",
    "    ax.set_xticks([1, 2])\n",
    "    ax.set_xticklabels(['MALE', 'FEMALE'])\n",
    "    \n",
    "    # Annotate median values for male and female data\n",
    "    male_median = male_boxes['medians'][0].get_ydata()[0]\n",
    "    ax.annotate(f'Median: {male_median:.2f}', xy=(1, male_median), xytext=(1, male_median + 0.1), ha='center', va='bottom', fontsize=10, color='black')\n",
    "    \n",
    "    female_median = female_boxes['medians'][0].get_ydata()[0]\n",
    "    ax.annotate(f'Median: {female_median:.2f}', xy=(2, female_median), xytext=(2, female_median + 0.1), ha='center', va='bottom', fontsize=10, color='black')\n",
    "\n",
    "# Set up subplots\n",
    "fig, axes = plt.subplots(1, 2, figsize=(12, 6))\n",
    "\n",
    "# Define palette\n",
    "custom_palette = {'FEMALE': '#99ff99', 'MALE': '#99ccff'} \n",
    "\n",
    "# Boxplot for MinimumAgeYrs\n",
    "plot_boxplot(all_df, 'MinimumAgeYrs', axes[0], 'Boxplot of Minimum Age by Sex', custom_palette)\n",
    "\n",
    "# Boxplot for MaximumAgeYrs\n",
    "plot_boxplot(all_df, 'MaximumAgeYrs', axes[1], 'Boxplot of Maximum Age by Sex', custom_palette)\n",
    "\n",
    "# Show plot\n",
    "plt.tight_layout()\n",
    "plt.show()\n",
    "\n"
   ]
  },
  {
   "cell_type": "code",
   "execution_count": 493,
   "id": "7d7db038-9109-450d-a91f-fe589be29d97",
   "metadata": {},
   "outputs": [
    {
     "data": {
      "image/png": "[encoded data removed]",
      "text/plain": [
       "<Figure size 432x288 with 1 Axes>"
      ]
     },
     "metadata": {
      "needs_background": "light"
     },
     "output_type": "display_data"
    }
   ],
   "source": [
    "# Date stats by sex\n",
    "\n",
    "#Could also do by year if desired\n",
    "counts = no_nans.groupby(['StartDecade', 'Sex']).size().unstack(fill_value=0)\n",
    "\n",
    "counts.index = counts.index.astype(int)\n",
    "\n",
    "ax = counts.plot(kind='bar', stacked=False, color=custom_palette)\n",
    "\n",
    "# Add labels and title\n",
    "plt.title('Count of Sex by Start Decade')\n",
    "plt.xlabel('Decade')\n",
    "plt.ylabel('Count')\n",
    "plt.legend(title='Sex')\n",
    " \n",
    "# Show plot\n",
    "plt.show()\n"
   ]
  },
  {
   "cell_type": "code",
   "execution_count": 494,
   "id": "363735a8-fe21-442f-9931-1dc04d01d36a",
   "metadata": {},
   "outputs": [
    {
     "data": {
      "image/png": "[encoded data removed]",
      "text/plain": [
       "<Figure size 432x288 with 1 Axes>"
      ]
     },
     "metadata": {
      "needs_background": "light"
     },
     "output_type": "display_data"
    }
   ],
   "source": [
    "# Number of conditions by sex\n",
    "\n",
    "counts = no_nans.groupby(['ConditionCount', 'Sex']).size().unstack(fill_value=0)\n",
    "\n",
    "counts.index = counts.index.astype(int)\n",
    "\n",
    "ax = counts.plot(kind='bar', stacked=False, color=custom_palette)\n",
    "\n",
    "# Add labels and title\n",
    "plt.title('Condition Count by Sex')\n",
    "plt.xlabel('Sex')\n",
    "plt.ylabel('ConditionCount')\n",
    " \n",
    "# Show plot\n",
    "plt.show()\n"
   ]
  },
  {
   "cell_type": "code",
   "execution_count": 495,
   "id": "8ddecb0f-a629-4423-8bae-18cb7a37e6c2",
   "metadata": {},
   "outputs": [
    {
     "name": "stdout",
     "output_type": "stream",
     "text": [
      "Enrollment Statistics by Sex:\n",
      "\n",
      "+--------+-------+------+-------+-----+-----+-----+-----+--------+\n",
      "|        | count | mean |  std  | min | 25% | 50% | 75% |  max   |\n",
      "+--------+-------+------+-------+-----+-----+-----+-----+--------+\n",
      "| FEMALE | 9535  | 691  | 10059 |  0  | 40  | 80  | 194 | 598682 |\n",
      "|  MALE  | 5262  | 171  | 1983  |  0  | 18  | 34  | 71  | 114035 |\n",
      "+--------+-------+------+-------+-----+-----+-----+-----+--------+\n"
     ]
    }
   ],
   "source": [
    "# Enrollment Numbers by Sex\n",
    "\n",
    "# Get descriptive statistics\n",
    "enrollment_stats = no_nans.groupby('Sex')['EnrollmentCount'].describe()\n",
    "\n",
    "# Round statistics to whole numbers\n",
    "rounded_enrollment_stats = enrollment_stats.astype(int)\n",
    "\n",
    "# Display table with title\n",
    "print(\"Enrollment Statistics by Sex:\\n\")\n",
    "print(tabulate(rounded_enrollment_stats, headers=rounded_enrollment_stats.columns, tablefmt='pretty'))"
   ]
  },
  {
   "cell_type": "code",
   "execution_count": 496,
   "id": "a5941873",
   "metadata": {},
   "outputs": [
    {
     "name": "stdout",
     "output_type": "stream",
     "text": [
      "Study Duration by Sex:\n",
      "\n",
      "+--------+--------+------+------+-----+------+------+------+-------+\n",
      "|        | count  | mean | std  | min | 25%  | 50%  | 75%  |  max  |\n",
      "+--------+--------+------+------+-----+------+------+------+-------+\n",
      "| FEMALE | 9237.0 | 2.28 | 2.21 | 0.0 | 0.75 | 1.66 | 3.08 | 24.17 |\n",
      "|  MALE  | 5087.0 | 1.63 | 2.29 | 0.0 | 0.25 | 0.82 | 2.17 | 46.95 |\n",
      "+--------+--------+------+------+-----+------+------+------+-------+\n"
     ]
    }
   ],
   "source": [
    "# Study Duration by Sex (rounded to closest # of years)\n",
    "\n",
    "# Get descriptive statistics\n",
    "duration_stats = no_nans.groupby('Sex')['DurationYrsRounded'].describe()\n",
    "\n",
    "# Round statistics to whole numbers\n",
    "rounded_duration_stats = round(duration_stats,2)\n",
    "\n",
    "# Display table with title\n",
    "print(\"Study Duration by Sex:\\n\")\n",
    "print(tabulate(rounded_duration_stats, headers=rounded_duration_stats.columns, tablefmt='pretty'))"
   ]
  },
  {
   "cell_type": "markdown",
   "id": "290d9d13",
   "metadata": {},
   "source": [
    "## Train/Test Split"
   ]
  },
  {
   "cell_type": "code",
   "execution_count": 132,
   "id": "7bca7923",
   "metadata": {},
   "outputs": [],
   "source": [
    "# Save SexString as a column for investigation/troubleshooting post-mapping\n",
    "no_nans['SexString'] = no_nans['Sex']\n",
    "no_nans['Sex'] = no_nans['Sex'].map({'FEMALE': 0, 'MALE': 1})\n",
    "\n",
    "\n",
    "# Split the DataFrame into features (X) and target variable (y)\n",
    "y = no_nans['Sex']\n",
    "X = no_nans.drop(['Sex', 'SexString'],axis = 1)  # Drop target variable\n",
    "\n",
    "\n",
    "# Split data into training and test sets\n",
    "\n",
    "X_train, X_test, y_train, y_test = train_test_split(X, y, test_size=0.2, random_state=42)\n"
   ]
  },
  {
   "cell_type": "markdown",
   "id": "1bd9637e",
   "metadata": {},
   "source": [
    "In order to resample, I can't use smote as we hae non-numeric and categorical variables. But, we can manually do it. The X_train and y_train have to be put back together in order to resample."
   ]
  },
  {
   "cell_type": "code",
   "execution_count": 133,
   "id": "8916fc2d",
   "metadata": {},
   "outputs": [],
   "source": [
    "# Create a synthetic DataFrame\n",
    "y_train = pd.DataFrame(y_train)\n",
    "y_train = y_train.rename(columns = {0:'Sex'})\n",
    "temp_df = pd.concat([X_train, y_train], axis=1)"
   ]
  },
  {
   "cell_type": "code",
   "execution_count": 134,
   "id": "d2b0292c-d2f0-4a05-956f-af4e28ba0ce4",
   "metadata": {},
   "outputs": [],
   "source": [
    "# Drop values of NaN for brieft summaries\n",
    "temp_df = temp_df.dropna(subset=['BriefSummary'])"
   ]
  },
  {
   "cell_type": "code",
   "execution_count": 135,
   "id": "5ed8c294",
   "metadata": {},
   "outputs": [
    {
     "name": "stdout",
     "output_type": "stream",
     "text": [
      "Original class distribution:\n",
      "Sex\n",
      "0    7718\n",
      "1    4282\n",
      "Name: count, dtype: int64\n"
     ]
    }
   ],
   "source": [
    "# Display class distribution\n",
    "print(\"Original class distribution:\")\n",
    "print(temp_df['Sex'].value_counts())"
   ]
  },
  {
   "cell_type": "markdown",
   "id": "150c042c-fcdb-478c-ab32-27ab6db7175d",
   "metadata": {},
   "source": [
    "## Oversampling method"
   ]
  },
  {
   "cell_type": "code",
   "execution_count": 501,
   "id": "40d53cee",
   "metadata": {},
   "outputs": [
    {
     "name": "stdout",
     "output_type": "stream",
     "text": [
      "\n",
      "Resampled class distribution:\n",
      "1    7718\n",
      "0    7718\n",
      "Name: Sex, dtype: int64\n"
     ]
    }
   ],
   "source": [
    "# Now we move on to resampling\n",
    "# Separate minority and majority classes\n",
    "\n",
    "# Male =1, Female = 0\n",
    "minority_class = temp_df[temp_df['Sex'] == 1]\n",
    "majority_class = temp_df[temp_df['Sex'] == 0]\n",
    "\n",
    "# Determine the number of samples in the majority class\n",
    "majority_count = len(majority_class)\n",
    "\n",
    "# Sample from the minority class with replacement to match the number of samples in the majority class\n",
    "minority_resampled = minority_class.sample(n=majority_count, replace=True, random_state=42)\n",
    "\n",
    "# Combine the resampled minority class with the original majority class\n",
    "resampled_df = pd.concat([majority_class, minority_resampled])\n",
    "\n",
    "# Shuffle the dataframe\n",
    "resampled_df = resampled_df.sample(frac=1, random_state=42).reset_index(drop=True)\n",
    "\n",
    "# Display resampled class distribution\n",
    "print(\"\\nResampled class distribution:\")\n",
    "print(resampled_df['Sex'].value_counts())"
   ]
  },
  {
   "cell_type": "markdown",
   "id": "8fae67e0-64ee-4aa3-9eca-7d35e4e9776c",
   "metadata": {},
   "source": [
    "## Undersampling method"
   ]
  },
  {
   "cell_type": "code",
   "execution_count": 136,
   "id": "efb6e1e4-2da2-4ec2-9f37-6c7c14341bbd",
   "metadata": {},
   "outputs": [
    {
     "name": "stdout",
     "output_type": "stream",
     "text": [
      "\n",
      "Resampled class distribution:\n",
      "Sex\n",
      "0    4282\n",
      "1    4282\n",
      "Name: count, dtype: int64\n"
     ]
    }
   ],
   "source": [
    "# Separate minority and majority classes\n",
    "minority_class = temp_df[temp_df['Sex'] == 1]\n",
    "majority_class = temp_df[temp_df['Sex'] == 0]\n",
    "\n",
    "# Determine the number of samples in the minority class\n",
    "minority_count = len(minority_class)\n",
    "\n",
    "# Sample from the majority class without replacement to match the number of samples in the minority class\n",
    "majority_resampled = majority_class.sample(n=minority_count, replace=False, random_state=42)\n",
    "\n",
    "# Combine the resampled majority class with the original minority class\n",
    "resampled_df = pd.concat([minority_class, majority_resampled])\n",
    "\n",
    "# Shuffle the dataframe\n",
    "resampled_df = resampled_df.sample(frac=1, random_state=42).reset_index(drop=True)\n",
    "\n",
    "# Display resampled class distribution\n",
    "print(\"\\nResampled class distribution:\")\n",
    "print(resampled_df['Sex'].value_counts())"
   ]
  },
  {
   "cell_type": "markdown",
   "id": "55cd4e80-ec43-47d3-9987-e313f9307e79",
   "metadata": {},
   "source": [
    "# Apply Preprocessing Steps to Brief Summary Text Data"
   ]
  },
  {
   "cell_type": "code",
   "execution_count": 381,
   "id": "f2708025-a102-4608-a4cd-846ddd095b3c",
   "metadata": {},
   "outputs": [],
   "source": [
    "sw = stopwords.words(\"english\")\n",
    "punctuation = set(punctuation)\n",
    "\n",
    "# List of dimorphic body parts/experiences and medical/anatomical lemmas \n",
    "dimorphic_terms = [\n",
    "    \"Penis\", \"Scrotum\", \"Testicles\",\"testicular\", \"Epididymis\", \"deferens\", \"Seminal vesicles\",\n",
    "    \"Prostate\", \"prostatic\", \"Cowpers\", \"Foreskin\",\n",
    "    \"Sperm\", \"Ejaculation\", \"Spermatogenesis\",\n",
    "    \"Erection\", \"erectile\", \"Vagina\", \"vaginal\", \"Vulva\", \"Labia\", \"Clitoris\",\n",
    "    \"clitoral\", \"ovarian\", \"uterine\", \"cervical\", \"menstrual\", \n",
    "    \"Vestibule\", \"Ovary\", \"Fallopian\", \"Uterus\", \"Cervix\", \"Bartholins\",\n",
    "    \"Skenes\", \"Hymen\", \"Endometrium\", \"Myometrium\", \"Placenta\",\n",
    "    \"Amniotic\", \"Umbilical\", \"Chorion\", \"Decidua\", \"Gestation\",\n",
    "    \"Yolk\", \"Amnion\", \"Lochia\", \"Menstruation\", \"Period\",\n",
    "    \"Menarche\", \"Menopause\", \"Ovulation\", \"Dysmenorrhea\", \"Labor\", \"Childbirth\", \"Lactation\",\n",
    "    \"Breastfeeding\", \"Pregnancy\", \"pregnant\", \"male\", \"female\", \"man\", \"woman\", \"men\", \"women\", \"girl\",\n",
    "    \"boy\", \"postmenopausal\", \"gestational\", \"polycystic\", \"contraception\", \"infant\",\n",
    "    \"estradiol\", \"maternal\", \"placental\", \"body\", \"human\", \"cancer\",\n",
    "    \"pcos\", \"endometriosis\"\n",
    "]\n",
    "\n",
    "# List of common academic/medical noise terms that don't provide information\n",
    "academic_stop_words = [\n",
    "    \"academic\", \"group\", \"study\", \"research\", \"blind\", \"recruit\", \"design\",\n",
    "    \"healthy\", \"subjects\", \"participants\", \"purpose\", \"effects\", \"clinical\",\n",
    "    \"trial\", \"single\", \"intervention\", \"disease\", \"patient\", \"day\", \"month\",\n",
    "    \"year\", \"week\", \"determine\", \"test\", \"volunteer\", \"investigate\", \"investigator\",\n",
    "    \"evaluate\", \"evaluated\", \"wa\", \"ha\", \"use\", \"difference\", \"demonstrate\", \"reliability\",\n",
    "    \"usability\", \"compare\", \"contrast\", \"conducted\", \"aim\", \"may\",\n",
    "    \"therapy\", \"treatment\", \"risk\", \"health\", \"efficacy\", \"effect\",\n",
    "    \"rate\", \"level\", \"randomize\", \"randomized\", \"objective\", \"outcome\",\n",
    "    \"primary\", \"secondary\", \"compared\", \"therapy\", \"treatment\", \"risk\",\n",
    "    \"health\", \"evidence\", \"background\", \"with\", \"without\", \"adverse\",\n",
    "    \"consequence\", \"consequences\", \"benefit\", \"form\", \"care\", \"using\",\n",
    "    \"two\", \"subset\", \"similarity\", \"similarities\", \"similarly\", \"latter\",\n",
    "    \"former\", \"use\", \"used\", \"concomitantly\", \"spontaneous\", \"responded\",\n",
    "    \"attendance\", \"open\", \"label\", \"effectiveness\", \"effective\", \"whether\",\n",
    "    \"state\", \"safety\", \"tolerability\", \"phase\", \"also\", \"time\", \"controlled\",\n",
    "    \"also\", \"reusable\", \"overall\", \"new\", \"matching\", \"correlation\", \"plus\",\n",
    "    \"addition\", \"characterize\", \"pilot\", \"behavior\", \"strong\", \"developed\",\n",
    "    \"developing\", \"rationale\", \"indication\", \"indicated\", \"standard\", \n",
    "    \"standardized\", \"undergo\", \"screening\", \"represents\", \"screened\",\n",
    "    \"represented\", \"representing\", \"tolerance\", \"people\", \"goal\",\n",
    "    \"structured\", \"supervised\", \"placement\", \"control\", \"proven\",\n",
    "    \"following\", \"followed\", \"designed\", \"describe\", \"described\", \n",
    "    \"implement\", \"implemented\", \"complete\", \"completed\", \"estimate\",\n",
    "    \"estimated\", \"get\", \"comparative\", \"compared\", \"intervene\", \n",
    "    \"determined\", \"tested\", \"common\", \"assessed\", \"assess\", \"event\",\n",
    "    \"find\", \"found\", \"first\", \"reducing\", \"openlabel\", \"marketed\", \n",
    "    \"asked\", \"take\", \"demonstrated\", \"conduct\", \"deliver\", \"delivered\",\n",
    "    \"followup\", \"individualized\", \"individualised\", \"prospective\",\n",
    "    \"currently\", \"current\", \"given\", \"experiment\", \"looking\", \"treated\",\n",
    "    \"looked\", \"treat\", \"including\", \"investigated\", \"frequently\", \"frequent\",\n",
    "    \"related\", \"relate\", \"interested\", \"taking\", \"conventional\", \"medical\",\n",
    "    \"quality\", \"assessing\", \"pattern\", \"additional\", \"well\", \"multiple\",\n",
    "    \"one\", \"life\", \"improve\", \"method\", \"increase\", \"symptom\", \"Do's\",\n",
    "    \"administration\", \"different\", \"mg\", \"condition\", \"receive\", \"received\",\n",
    "    \"result\", \"results\", \"reduce\", \"associated\", \"oral\", \"change\", \"changed\",\n",
    "    \"placebo\", \"dose\", \"program\", \"drug\", \"among\", \"data\", \"hypothesis\",\n",
    "    \"combination\", \"delivery\", \"however\", \"response\", \"high\", \"function\",\n",
    "    \"administered\", \"type\", \"blood\", \"impact\", \"either\", \"factor\",\n",
    "    \"undergoing\", \"crossover\", \"tablet\", \"disorder\", \"ii\", \"cell\",\n",
    "    \"activity\", \"pharmacokinetic\", \"low\", \"measure\", \"based\", \"three\",\n",
    "    \"four\", \"five\", \"six\", \"seven\", \"eight\", \"nine\", \"performance\", \n",
    "    \"performed\", \"pk\", \"main\", \"primary\", \"secondary\", \"efficient\",\n",
    "    \"preferred\", \"examined\", \"examine\", \"prefer\", \"tends\"\n",
    "]\n",
    "\n",
    "# Combine list\n",
    "extra_sw = dimorphic_terms+academic_stop_words\n",
    "\n",
    "# Lemmatize lists\n",
    "extra_sw = [lemmatizer.lemmatize(term.lower()) for term in extra_sw]\n",
    "\n",
    "\n",
    "# Combine NLTK stopwords with additional stopwords\n",
    "final_stopwords = set(sw + extra_sw)\n",
    "\n",
    "def remove_stopwords(tokens, sw):\n",
    "    \"\"\"This function removes stopwords (sw) from text\"\"\"\n",
    "    return [token for token in tokens if token not in sw]\n",
    "\n",
    "def tokenize(text):\n",
    "    \"\"\"This function splits text on whitespace.\"\"\"\n",
    "    return text.split()\n",
    "\n",
    "def remove_punctuation(text, punct_set=punctuation):\n",
    "    return \"\".join([ch for ch in text if ch not in punctuation])\n",
    "\n",
    "def remove_dimorphic_terms(tokens, terms):\n",
    "    \"\"\"This function removes dimorphic terms from tokens.\"\"\"\n",
    "    return [token for token in tokens if token.lower() not in terms]\n",
    "\n",
    "def lowercase_tokens(tokens):\n",
    "    \"\"\"This function converts all tokens to lowercase.\"\"\"\n",
    "    return [token.lower() for token in tokens]\n",
    "\n",
    "def remove_numerical_tokens(tokens):\n",
    "    \"\"\"This function removes numerical tokens.\"\"\"\n",
    "    return [token for token in tokens if not token.isdigit()]\n",
    "\n",
    "def lemmatize_tokens(tokens):\n",
    "    \"\"\"This function lemmatizes the tokens.\"\"\"\n",
    "    return [lemmatizer.lemmatize(token) for token in tokens]\n",
    "\n",
    "def remove_duplicate_tokens(tokens):\n",
    "    \"\"\"This function removes duplicate tokens within a row's set of tokens while preserving order.\"\"\"\n",
    "    return list(OrderedDict.fromkeys(tokens))\n",
    "\n",
    "def process_text(text, pipeline):\n",
    "    if pd.isnull(text):  # Check if text is NaN\n",
    "        return text  # Return NaN without processing\n",
    "    else:\n",
    "        for function in pipeline:\n",
    "            text = function(text)\n",
    "        return text\n",
    "\n",
    "# Define the text processing pipeline\n",
    "summary_pipeline = [\n",
    "    remove_punctuation,\n",
    "    tokenize,\n",
    "    lowercase_tokens,\n",
    "    remove_numerical_tokens,\n",
    "    lemmatize_tokens,\n",
    "    lambda tokens: remove_stopwords(tokens, final_stopwords),\n",
    "    lambda tokens: remove_dimorphic_terms(tokens, extra_sw),\n",
    "    remove_duplicate_tokens\n",
    "]\n"
   ]
  },
  {
   "cell_type": "code",
   "execution_count": 382,
   "id": "1a45df54-9679-48b2-952f-fe92d8655c8c",
   "metadata": {},
   "outputs": [],
   "source": [
    "# Save as new column, ProcessedSummmary for analysis\n",
    "resampled_df['ProcessedSummary'] = resampled_df['all_text'].apply(lambda x: process_text(x, summary_pipeline))"
   ]
  },
  {
   "cell_type": "code",
   "execution_count": 294,
   "id": "1e36795b-b2e2-448f-8744-c5c5a0527557",
   "metadata": {},
   "outputs": [
    {
     "data": {
      "text/plain": [
       "((8564, 22),\n",
       " Sex\n",
       " 0    4282\n",
       " 1    4282\n",
       " Name: count, dtype: int64)"
      ]
     },
     "execution_count": 294,
     "metadata": {},
     "output_type": "execute_result"
    }
   ],
   "source": [
    "resampled_df.shape, resampled_df['Sex'].value_counts()"
   ]
  },
  {
   "cell_type": "markdown",
   "id": "3d77ffcf-6ee7-4b50-b339-6de602abdaf5",
   "metadata": {},
   "source": [
    "### Examine Clean Tokens"
   ]
  },
  {
   "cell_type": "code",
   "execution_count": 310,
   "id": "ee033d3d-037e-458c-925e-a2f744cdb97d",
   "metadata": {},
   "outputs": [
    {
     "data": {
      "text/plain": [
       "0    [black, cohosh, extract, phytoestrogen, estrog...\n",
       "1    [brownieforsymphony, pump, set, home, system, ...\n",
       "2    [latent, tuberculosis, infection, vaccine, rut...\n",
       "3    [dysfunction, dos, vardenafil, placebo, chines...\n",
       "4    [major, obesity, development, nonalcoholic, fa...\n",
       "5    [cancer, drug, chemotherapy, eflornithine, wor...\n",
       "6    [capsiate, nonpungent, analogue, capsaicin, co...\n",
       "7    [recurrent, urinary, tract, infection, rutis, ...\n",
       "8    [steady, pharmacokinetics, desipramine, withwi...\n",
       "9    [cancer, superiority, cabazitaxel, prednisone,...\n",
       "Name: ProcessedSummary, dtype: object"
      ]
     },
     "execution_count": 310,
     "metadata": {},
     "output_type": "execute_result"
    }
   ],
   "source": [
    "resampled_df['ProcessedSummary'].head(10)"
   ]
  },
  {
   "cell_type": "code",
   "execution_count": null,
   "id": "048366be-ed5e-44f1-b9cf-6e47e007f84b",
   "metadata": {},
   "outputs": [],
   "source": []
  },
  {
   "cell_type": "code",
   "execution_count": 347,
   "id": "f04f9846-4537-4d2e-89d9-b871f23d17a0",
   "metadata": {},
   "outputs": [
    {
     "data": {
      "image/png": "[encoded data removed]",
      "text/plain": [
       "<Figure size 1000x600 with 1 Axes>"
      ]
     },
     "metadata": {},
     "output_type": "display_data"
    }
   ],
   "source": [
    "# Distribution of Number of Tokens by Sex\n",
    "# Count the number of tokens in each list\n",
    "# Function to count tokens in a list\n",
    "def count_tokens(token_list):\n",
    "    if isinstance(token_list, list):\n",
    "        return len(token_list)\n",
    "    else:\n",
    "        return 0  \n",
    "        \n",
    "resampled_df['num_tokens'] = resampled_df['ProcessedSummary'].apply(count_tokens)\n",
    "\n",
    "# Group by 'sex' and plot histogram\n",
    "male_tokens = resampled_df[resampled_df['Sex'] == 1]['num_tokens']\n",
    "female_tokens = resampled_df[resampled_df['Sex'] == 0]['num_tokens']\n",
    "\n",
    "plt.figure(figsize=(10, 6))\n",
    "\n",
    "plt.hist(male_tokens, bins=range(1, max(resampled_df['num_tokens']) + 2), alpha=0.5, label='Male', edgecolor='black')\n",
    "plt.hist(female_tokens, bins=range(1, max(resampled_df['num_tokens']) + 2), alpha=0.5, label='Female', edgecolor='black')\n",
    "\n",
    "plt.xlabel('Number of Tokens')\n",
    "plt.ylabel('Frequency')\n",
    "plt.title('Histogram of Number of Tokens Grouped by Sex')\n",
    "plt.legend(loc='upper right')\n",
    "\n",
    "plt.grid(axis='y', linestyle='--', alpha=0.7)\n",
    "plt.tight_layout()\n",
    "\n",
    "# Show the plot\n",
    "plt.show()"
   ]
  },
  {
   "cell_type": "markdown",
   "id": "cb406463-5de8-411f-81e6-072a1d8317bb",
   "metadata": {},
   "source": [
    "# Descriptive Stats of Text Data"
   ]
  },
  {
   "cell_type": "code",
   "execution_count": 89,
   "id": "4b1f8bb5-8c54-4a2c-9e62-6559178d0b19",
   "metadata": {},
   "outputs": [],
   "source": [
    "# I had to rewrite the descriptive_stats function in order to read in the nested list of words.\n",
    "def new_descriptive_stats(tokens, num_tokens = 5 , verbose=True) :\n",
    "\n",
    "    # Fill in the correct values here. \n",
    "    flat_tokens = [token for sublist in tokens if isinstance(sublist, list) for token in sublist if not isinstance(token, float)]\n",
    "    total_tokens = len(flat_tokens)  # total number of tokens\n",
    "    num_tokens = len(flat_tokens) # number of tokens\n",
    "    num_unique_tokens = len(set(flat_tokens)) # number of unique tokens\n",
    "    lexical_diversity = num_unique_tokens/num_tokens  # lexical diversity\n",
    "    num_characters = sum(len(token) for token in flat_tokens) # number of characters\n",
    "    most_common_tokens = Counter(flat_tokens).most_common(num_tokens)[0:11] # most common tokens\n",
    "   \n",
    "    \n",
    "    if verbose :        \n",
    "        print(f\"There are {num_tokens} tokens in the data.\")\n",
    "        print(f\"There are {num_unique_tokens} unique tokens in the data.\")\n",
    "        print(f\"There are {num_characters} characters in the data.\")\n",
    "        print(f\"The lexical diversity is {lexical_diversity:.3f} in the data.\")\n",
    "        \n",
    "    print(f\"The ten most common tokens are {most_common_tokens} in the data.\")      \n",
    "    \n",
    "    return([num_tokens, num_unique_tokens,\n",
    "            lexical_diversity,\n",
    "            num_characters])\n",
    "    "
   ]
  },
  {
   "cell_type": "markdown",
   "id": "2fcad01f-641e-4280-b3c9-f42b05bbed98",
   "metadata": {},
   "source": [
    "## Female descriptives"
   ]
  },
  {
   "cell_type": "code",
   "execution_count": 383,
   "id": "d21a674c-2d02-45ff-9c62-e3ca8b6263f6",
   "metadata": {},
   "outputs": [
    {
     "name": "stdout",
     "output_type": "stream",
     "text": [
      "There are 122062 tokens in the data.\n",
      "There are 18240 unique tokens in the data.\n",
      "There are 946261 characters in the data.\n",
      "The lexical diversity is 0.149 in the data.\n",
      "The ten most common tokens are [('breast', 794), ('pain', 508), ('surgery', 335), ('physical', 263), ('exercise', 241), ('chemotherapy', 239), ('tumor', 235), ('postoperative', 223), ('complication', 221), ('infection', 216), ('age', 213)] in the data.\n"
     ]
    },
    {
     "data": {
      "text/plain": [
       "[122062, 18240, 0.1494322557388868, 946261]"
      ]
     },
     "execution_count": 383,
     "metadata": {},
     "output_type": "execute_result"
    }
   ],
   "source": [
    "new_descriptive_stats(resampled_df[resampled_df['Sex'] == 0]['ProcessedSummary'])"
   ]
  },
  {
   "cell_type": "markdown",
   "id": "218f24ab-e302-4ba1-830d-dd57f263c40b",
   "metadata": {},
   "source": [
    "## Male descriptives"
   ]
  },
  {
   "cell_type": "code",
   "execution_count": 384,
   "id": "7c029bc9",
   "metadata": {},
   "outputs": [
    {
     "name": "stdout",
     "output_type": "stream",
     "text": [
      "There are 107423 tokens in the data.\n",
      "There are 18031 unique tokens in the data.\n",
      "There are 836226 characters in the data.\n",
      "The lexical diversity is 0.168 in the data.\n",
      "The ten most common tokens are [('pharmacokinetics', 551), ('dos', 395), ('exercise', 295), ('muscle', 292), ('adult', 291), ('diabetes', 223), ('metabolism', 207), ('hormone', 205), ('physical', 205), ('pain', 191), ('training', 185)] in the data.\n"
     ]
    },
    {
     "data": {
      "text/plain": [
       "[107423, 18031, 0.16785046032972456, 836226]"
      ]
     },
     "execution_count": 384,
     "metadata": {},
     "output_type": "execute_result"
    }
   ],
   "source": [
    "new_descriptive_stats(resampled_df[resampled_df['Sex'] == 1]['ProcessedSummary'])"
   ]
  },
  {
   "cell_type": "markdown",
   "id": "b8c06e2b-5236-4971-8991-66463520cecc",
   "metadata": {},
   "source": [
    "# Word Clouds of Top Tokens for Male and Female"
   ]
  },
  {
   "cell_type": "code",
   "execution_count": 385,
   "id": "e397e5aa-3967-429d-822a-9f2bd562ac50",
   "metadata": {},
   "outputs": [],
   "source": [
    "# Add Code"
   ]
  },
  {
   "cell_type": "markdown",
   "id": "9de45818-59ed-4c17-bfd4-f3932f342dec",
   "metadata": {},
   "source": [
    "# Further processing of tokens for model-specific format"
   ]
  },
  {
   "cell_type": "markdown",
   "id": "26008290-8cc5-4814-8fa6-60ea5da51ae9",
   "metadata": {},
   "source": [
    "#### Preprocessing for SVM using tfidf"
   ]
  },
  {
   "cell_type": "code",
   "execution_count": 224,
   "id": "b733c58f-5333-4405-b9a0-a207dc03d868",
   "metadata": {},
   "outputs": [],
   "source": [
    "# Function to safely join tokens into a string\n",
    "def safe_join(token_list):\n",
    "    if isinstance(token_list, list):\n",
    "        return ' '.join(token_list)\n",
    "    return ''"
   ]
  },
  {
   "cell_type": "code",
   "execution_count": 350,
   "id": "4ce56f2c-1bfa-4e41-b38a-238717746d54",
   "metadata": {},
   "outputs": [],
   "source": [
    "# Convert lists of tokens into string vectors\n",
    "resampled_df['vectors'] = resampled_df['ProcessedSummary'].apply(safe_join)"
   ]
  },
  {
   "cell_type": "code",
   "execution_count": 351,
   "id": "a91f6efb-87d9-4531-b14d-a39031f98e1f",
   "metadata": {},
   "outputs": [],
   "source": [
    "# Apply TfidfVectorizer\n",
    "tfidf = TfidfVectorizer(max_df = 0.1)\n",
    "resampled_tfidf = tfidf.fit_transform(resampled_df['vectors'])"
   ]
  },
  {
   "cell_type": "code",
   "execution_count": 352,
   "id": "0866dd91-0cae-4bd8-9f3f-6e73cf2b19a2",
   "metadata": {},
   "outputs": [
    {
     "name": "stdout",
     "output_type": "stream",
     "text": [
      "1831768\n"
     ]
    }
   ],
   "source": [
    "# Print the resulting TF-IDF matrix\n",
    "#print(resampled_tfidf.toarray()[0:2])\n",
    "print(resampled_tfidf.data.nbytes)"
   ]
  },
  {
   "cell_type": "code",
   "execution_count": 353,
   "id": "96afea7e-3ac2-44dd-8d39-c6427b0b38a6",
   "metadata": {},
   "outputs": [],
   "source": [
    "#np.set_printoptions(threshold=np.inf)\n",
    "#print(resampled_tfidf.toarray()[0])"
   ]
  },
  {
   "cell_type": "code",
   "execution_count": 354,
   "id": "c862244f-e852-4550-8b19-14a00a12720b",
   "metadata": {},
   "outputs": [
    {
     "data": {
      "text/plain": [
       "(8564, 27927)"
      ]
     },
     "execution_count": 354,
     "metadata": {},
     "output_type": "execute_result"
    }
   ],
   "source": [
    "resampled_tfidf.shape"
   ]
  },
  {
   "cell_type": "markdown",
   "id": "96ba5bbe-6a3b-432b-b129-62173117e1f4",
   "metadata": {},
   "source": [
    "### Preprocessing for Naive Bayes "
   ]
  },
  {
   "cell_type": "code",
   "execution_count": 359,
   "id": "10ad0ee4-3b7e-484f-ac1f-23b56588bd56",
   "metadata": {},
   "outputs": [
    {
     "name": "stdout",
     "output_type": "stream",
     "text": [
      "Top words:\n",
      "     feature_word\n",
      "0         fatigue\n",
      "1        exposure\n",
      "2        oxytocin\n",
      "3          frozen\n",
      "4       tolerable\n",
      "...           ...\n",
      "2743       pelvis\n",
      "2744    efficient\n",
      "2745    cognitive\n",
      "2746      adjunct\n",
      "2747      trigger\n",
      "\n",
      "[2748 rows x 1 columns]\n"
     ]
    }
   ],
   "source": [
    "# Function to get all tokens from the DataFrame\n",
    "def get_all_tokens(df):\n",
    "    return [token for sublist in df['ProcessedSummary'] for token in sublist]\n",
    "\n",
    "# Get all tokens\n",
    "all_tokens = get_all_tokens(resampled_df)\n",
    "\n",
    "# Create frequency distribution for all tokens\n",
    "word_dist = nltk.FreqDist(all_tokens)\n",
    "\n",
    "# Define a word frequency cutoff\n",
    "word_cutoff = 15  # Adjust this based on your data\n",
    "\n",
    "# Collect words that appear at least word_cutoff times\n",
    "feature_words = {word for word, count in word_dist.items() if count >= word_cutoff}\n",
    "\n",
    "# Make into dataframe\n",
    "feature_words_df = pd.DataFrame(list(feature_words), columns=['feature_word'])\n",
    "\n",
    "# Look at top words\n",
    "print(\"Top words:\")\n",
    "print(feature_words_df)"
   ]
  },
  {
   "cell_type": "code",
   "execution_count": 360,
   "id": "069ef889-db22-4e6e-a0e2-63bd70ae7bb0",
   "metadata": {},
   "outputs": [],
   "source": [
    "# Create function to identify if speeches contain the feature words identified above\n",
    "def conv_features(text, fw) :\n",
    "    # Initialize an empty dictionary to hold the feature words\n",
    "    ret_dict = []\n",
    "    \n",
    "    # Iterate over the words in the list\n",
    "    for word in text:\n",
    "        # If the word is in the feature words set and not already in the dictionary\n",
    "        if word in fw and word not in ret_dict:\n",
    "            # Add the word to the dictionary with the value True\n",
    "            ret_dict.append(word)\n",
    "    return ret_dict\n",
    "\n",
    "# Apply the function to the DataFrame\n",
    "resampled_df['feature_words'] = resampled_df['ProcessedSummary'].apply(lambda x: conv_features(x, feature_words))"
   ]
  },
  {
   "cell_type": "code",
   "execution_count": 361,
   "id": "43dd0199-0365-42f0-a61e-97d9dd20dbd3",
   "metadata": {},
   "outputs": [
    {
     "data": {
      "text/plain": [
       "0    [black, extract, estrogen, plant, origin, cont...\n",
       "1    [pump, set, home, system, scale, score, proble...\n",
       "2    [latent, infection, vaccine, adult, safe, dosa...\n",
       "3    [dysfunction, dos, vardenafil, chinese, ed, ma...\n",
       "4    [major, obesity, development, nonalcoholic, fa...\n",
       "Name: feature_words, dtype: object"
      ]
     },
     "execution_count": 361,
     "metadata": {},
     "output_type": "execute_result"
    }
   ],
   "source": [
    "resampled_df['feature_words'].head()"
   ]
  },
  {
   "cell_type": "markdown",
   "id": "618c6a9c-6d48-444f-959d-869d78fe2fff",
   "metadata": {},
   "source": [
    "## Apply preprocessing steps to test set"
   ]
  },
  {
   "cell_type": "code",
   "execution_count": 362,
   "id": "b489b8ad",
   "metadata": {},
   "outputs": [],
   "source": [
    "# Convert lists of tokens into strings\n",
    "X_test['ProcessedSummary'] = X_test['BriefSummary'].apply(lambda x: process_text(x, summary_pipeline))\n",
    "X_test['vectors'] = X_test['ProcessedSummary'].apply(safe_join)\n",
    "X_test_tfidf = tfidf.transform(X_test['vectors'])\n"
   ]
  },
  {
   "cell_type": "markdown",
   "id": "3c23fdb6-75c2-49ab-b607-654bf50f1c3d",
   "metadata": {},
   "source": [
    "# Model Training and Testing"
   ]
  },
  {
   "cell_type": "markdown",
   "id": "dd569d09-fba2-4d65-b368-665862a5e1d8",
   "metadata": {},
   "source": [
    "## Preliminary SVM Model"
   ]
  },
  {
   "cell_type": "code",
   "execution_count": 363,
   "id": "0f8bb0e0",
   "metadata": {},
   "outputs": [
    {
     "name": "stdout",
     "output_type": "stream",
     "text": [
      "+----+---------------------+----------+\n",
      "|    | Evaluation Metric   |      SVM |\n",
      "+====+=====================+==========+\n",
      "|  0 | Accuracy            | 0.847333 |\n",
      "+----+---------------------+----------+\n",
      "|  1 | Precision           | 0.73124  |\n",
      "+----+---------------------+----------+\n",
      "|  2 | Recall              | 0.899247 |\n",
      "+----+---------------------+----------+\n",
      "|  3 | Sensitivity         | 0.899247 |\n",
      "+----+---------------------+----------+\n",
      "|  4 | Specificity         | 0.818885 |\n",
      "+----+---------------------+----------+\n"
     ]
    },
    {
     "name": "stderr",
     "output_type": "stream",
     "text": [
      "C:\\Users\\halee\\anaconda3\\lib\\site-packages\\sklearn\\svm\\_classes.py:31: FutureWarning: The default value of `dual` will change from `True` to `'auto'` in 1.5. Set the value of `dual` explicitly to suppress the warning.\n",
      "  warnings.warn(\n"
     ]
    }
   ],
   "source": [
    "svm_model = LinearSVC(random_state = 1, tol = 1e-5)\n",
    "svm_model.fit(resampled_tfidf, resampled_df['Sex'])\n",
    "y_pred_svm = svm_model.predict(X_test_tfidf)\n",
    "\n",
    "svm_accuracy = accuracy_score(y_test, y_pred_svm)\n",
    "svm_precision = precision_score(y_test, y_pred_svm)\n",
    "svm_recall = recall_score(y_test, y_pred_svm)\n",
    "svm_sensitivity =sensitivity_score(y_test, y_pred_svm)\n",
    "svm_specificity = specificity_score(y_test, y_pred_svm)\n",
    "\n",
    "evaluation_metrics = ['Accuracy', 'Precision', 'Recall', 'Sensitivity', 'Specificity']\n",
    "svm_scores = [svm_accuracy, svm_precision, svm_recall, svm_sensitivity, svm_specificity]\n",
    "\n",
    "svm_results_df = pd.DataFrame({\n",
    "    'Evaluation Metric': evaluation_metrics,\n",
    "    'SVM': svm_scores\n",
    "})\n",
    "\n",
    "#SVM Evaluation Metrics\n",
    "\n",
    "print(tabulate(svm_results_df, headers='keys', tablefmt='grid'))\n"
   ]
  },
  {
   "cell_type": "code",
   "execution_count": 364,
   "id": "a30eab95",
   "metadata": {},
   "outputs": [
    {
     "data": {
      "image/png": "[encoded data removed]",
      "text/plain": [
       "<Figure size 640x480 with 2 Axes>"
      ]
     },
     "metadata": {},
     "output_type": "display_data"
    }
   ],
   "source": [
    "cm = confusion_matrix(y_test, y_pred_svm)\n",
    "#sns.heatmap(cm, annot=True, cmap='Blues', fmt='g', xticklabels=svm_model.classes_, yticklabels=svm_model.classes_)\n",
    "sns.heatmap(cm, annot=True, cmap='viridis', fmt='g', xticklabels=['Female', 'Male'], \n",
    "            yticklabels=['Female', 'Male'], annot_kws={\"size\": 12})\n",
    "plt.xlabel('Predicted')\n",
    "plt.ylabel('Actual')\n",
    "plt.title('Confusion Matrix - SVM\\n')\n",
    "plt.show()"
   ]
  },
  {
   "cell_type": "code",
   "execution_count": 365,
   "id": "a0341280-7368-418b-acc9-fac3b1766044",
   "metadata": {},
   "outputs": [
    {
     "name": "stdout",
     "output_type": "stream",
     "text": [
      "              precision    recall  f1-score   support\n",
      "\n",
      "           0       0.94      0.82      0.87      1938\n",
      "           1       0.73      0.90      0.81      1062\n",
      "\n",
      "    accuracy                           0.85      3000\n",
      "   macro avg       0.83      0.86      0.84      3000\n",
      "weighted avg       0.86      0.85      0.85      3000\n",
      "\n"
     ]
    }
   ],
   "source": [
    "print(classification_report(y_test, y_pred_svm))"
   ]
  },
  {
   "cell_type": "markdown",
   "id": "4fc2165a-ccf7-4811-8fcf-090d4d200927",
   "metadata": {},
   "source": [
    "## Preliminary Naive Bayes Model"
   ]
  },
  {
   "cell_type": "code",
   "execution_count": 366,
   "id": "d15cd94e-b88f-4871-827c-63e799a41fe9",
   "metadata": {},
   "outputs": [
    {
     "name": "stdout",
     "output_type": "stream",
     "text": [
      "Most Informative Features\n",
      "              postpartum = True                0 : 1      =    142.3 : 1.0\n",
      "                  mother = True                0 : 1      =    125.0 : 1.0\n",
      "                     psa = True                1 : 0      =     71.0 : 1.0\n",
      "                   fetal = True                0 : 1      =     69.7 : 1.0\n",
      "                  breast = True                0 : 1      =     69.1 : 1.0\n",
      "              peritoneal = True                0 : 1      =     56.3 : 1.0\n",
      "              hemophilia = True                1 : 0      =     49.0 : 1.0\n",
      "           contraceptive = True                0 : 1      =     45.4 : 1.0\n",
      "                    pcos = True                0 : 1      =     41.0 : 1.0\n",
      "            hypogonadism = True                1 : 0      =     38.3 : 1.0\n",
      "                  labour = True                0 : 1      =     34.3 : 1.0\n",
      "               antenatal = True                0 : 1      =     30.3 : 1.0\n",
      "               dystrophy = True                1 : 0      =     29.0 : 1.0\n",
      "                  oocyte = True                0 : 1      =     26.3 : 1.0\n",
      "                     14c = True                1 : 0      =     25.0 : 1.0\n",
      "             deprivation = True                1 : 0      =     23.8 : 1.0\n",
      "        prostatespecific = True                1 : 0      =     21.7 : 1.0\n",
      "              hemorrhage = True                0 : 1      =     21.0 : 1.0\n",
      "              follicular = True                0 : 1      =     20.3 : 1.0\n",
      "            fibromyalgia = True                0 : 1      =     19.7 : 1.0\n",
      "                  embryo = True                0 : 1      =     19.0 : 1.0\n",
      "            progesterone = True                0 : 1      =     19.0 : 1.0\n",
      "              tamsulosin = True                1 : 0      =     18.3 : 1.0\n",
      "           radioactivity = True                1 : 0      =     17.0 : 1.0\n",
      "               substrate = True                1 : 0      =     16.6 : 1.0\n",
      "               lowincome = True                0 : 1      =     16.3 : 1.0\n",
      "           transurethral = True                1 : 0      =     16.3 : 1.0\n",
      "                   birth = True                0 : 1      =     16.0 : 1.0\n",
      "               ascending = True                1 : 0      =     15.9 : 1.0\n",
      "                   ankle = True                1 : 0      =     15.0 : 1.0\n",
      "                  cyp3a4 = True                1 : 0      =     15.0 : 1.0\n",
      "                    baby = True                0 : 1      =     14.6 : 1.0\n",
      "              epithelial = True                0 : 1      =     14.3 : 1.0\n",
      "             hypotension = True                0 : 1      =     13.8 : 1.0\n",
      "                estrogen = True                0 : 1      =     13.7 : 1.0\n",
      "           prostaglandin = True                0 : 1      =     13.7 : 1.0\n",
      "              prednisone = True                1 : 0      =     13.6 : 1.0\n",
      "          bioequivalence = True                1 : 0      =     13.0 : 1.0\n",
      "                follicle = True                0 : 1      =     13.0 : 1.0\n",
      "                inguinal = True                1 : 0      =     13.0 : 1.0\n",
      "                 midwife = True                0 : 1      =     13.0 : 1.0\n",
      "             nulliparous = True                0 : 1      =     13.0 : 1.0\n",
      "               insertion = True                0 : 1      =     12.7 : 1.0\n",
      "                 nursing = True                0 : 1      =     12.3 : 1.0\n",
      "               parkinson = True                1 : 0      =     12.3 : 1.0\n",
      "                platinum = True                0 : 1      =     12.3 : 1.0\n",
      "                      bi = True                1 : 0      =     11.8 : 1.0\n",
      "            capecitabine = True                0 : 1      =     11.7 : 1.0\n",
      "                      e2 = True                0 : 1      =     11.7 : 1.0\n",
      "             endotoxemia = True                1 : 0      =     11.7 : 1.0\n",
      "                ischemic = True                1 : 0      =     11.7 : 1.0\n",
      "                 lactate = True                1 : 0      =     11.7 : 1.0\n",
      "            radiolabeled = True                1 : 0      =     11.7 : 1.0\n",
      "                   flush = True                0 : 1      =     11.0 : 1.0\n",
      "                   folic = True                0 : 1      =     11.0 : 1.0\n",
      "                  frozen = True                0 : 1      =     11.0 : 1.0\n",
      "                     hcl = True                1 : 0      =     11.0 : 1.0\n",
      "                     ivf = True                0 : 1      =     11.0 : 1.0\n",
      "             twosequence = True                1 : 0      =     11.0 : 1.0\n",
      "               vasomotor = True                0 : 1      =     10.6 : 1.0\n",
      "               alzheimer = True                1 : 0      =     10.3 : 1.0\n",
      "                      bc = True                0 : 1      =     10.3 : 1.0\n",
      "               dysplasia = True                0 : 1      =     10.3 : 1.0\n",
      "                     sad = True                1 : 0      =     10.3 : 1.0\n",
      "                sentinel = True                0 : 1      =     10.3 : 1.0\n",
      "               excretion = True                1 : 0      =     10.3 : 1.0\n",
      "                  faeces = True                1 : 0      =     10.2 : 1.0\n",
      "                     hcg = True                0 : 1      =     10.2 : 1.0\n",
      "                    situ = True                0 : 1      =     10.2 : 1.0\n",
      "                 antigen = True                1 : 0      =     10.1 : 1.0\n",
      "        pharmacodynamics = True                1 : 0      =      9.9 : 1.0\n",
      "           endometriosis = True                0 : 1      =      9.9 : 1.0\n",
      "            enzalutamide = True                1 : 0      =      9.9 : 1.0\n",
      "                neonatal = True                0 : 1      =      9.8 : 1.0\n",
      "              singledose = True                1 : 0      =      9.8 : 1.0\n",
      "              amlodipine = True                1 : 0      =      9.7 : 1.0\n",
      "              cytochrome = True                1 : 0      =      9.7 : 1.0\n",
      "                 invitro = True                0 : 1      =      9.7 : 1.0\n",
      "            nonalcoholic = True                1 : 0      =      9.7 : 1.0\n",
      "            practitioner = True                0 : 1      =      9.7 : 1.0\n",
      "                squamous = True                0 : 1      =      9.7 : 1.0\n",
      "                  turkey = True                0 : 1      =      9.7 : 1.0\n",
      "              unintended = True                0 : 1      =      9.7 : 1.0\n",
      "           fertilization = True                0 : 1      =      9.5 : 1.0\n",
      "                  liquid = True                1 : 0      =      9.4 : 1.0\n",
      "                    luts = True                1 : 0      =      9.4 : 1.0\n",
      "                    yoga = True                0 : 1      =      9.4 : 1.0\n",
      "               tamoxifen = True                0 : 1      =      9.3 : 1.0\n",
      "            rosuvastatin = True                1 : 0      =      9.0 : 1.0\n",
      "             dutasteride = True                1 : 0      =      8.2 : 1.0\n",
      "                elective = True                0 : 1      =      8.2 : 1.0\n",
      "                   feces = True                1 : 0      =      8.2 : 1.0\n",
      "               parenting = True                0 : 1      =      8.2 : 1.0\n",
      "                perineal = True                0 : 1      =      8.2 : 1.0\n",
      "             trastuzumab = True                0 : 1      =      8.1 : 1.0\n",
      "                epidural = True                0 : 1      =      8.1 : 1.0\n",
      "             hyperplasia = True                1 : 0      =      8.0 : 1.0\n",
      "             laparoscopy = True                0 : 1      =      7.9 : 1.0\n",
      "             radioactive = True                1 : 0      =      7.9 : 1.0\n",
      "               preferred = True                0 : 1      =      7.8 : 1.0\n"
     ]
    }
   ],
   "source": [
    "# Function to extract features from tokens\n",
    "def extract_features(tokens):\n",
    "    return {word: True for word in tokens}\n",
    "    \n",
    "# Prepare feature sets for training\n",
    "feature_sets = [(extract_features(row['feature_words']), row['Sex']) for index, row in resampled_df.iterrows()]\n",
    "\n",
    "# Train Naive Bayes classifier\n",
    "classifier = NaiveBayesClassifier.train(feature_sets)\n",
    "\n",
    "# Print the most informative features\n",
    "classifier.show_most_informative_features(100)"
   ]
  },
  {
   "cell_type": "markdown",
   "id": "2b18f5ba-df09-4012-975f-c0613c58a6e8",
   "metadata": {},
   "source": [
    "## Apply preprocessing to test set and get predictions"
   ]
  },
  {
   "cell_type": "code",
   "execution_count": 367,
   "id": "62fcb704-baaf-470f-a866-bbd64847a1c7",
   "metadata": {},
   "outputs": [],
   "source": [
    "# Prepare feature sets for testing\n",
    "test_feature_sets = [extract_features(row['ProcessedSummary']) for index, row in X_test.iterrows()]\n",
    "\n",
    "# Get predictions for each feature set\n",
    "y_pred_nb = [classifier.classify(features) for features in test_feature_sets]"
   ]
  },
  {
   "cell_type": "code",
   "execution_count": 368,
   "id": "4fdd7c47-e2c2-4c85-9691-88e45531335b",
   "metadata": {},
   "outputs": [
    {
     "data": {
      "text/plain": [
       "(3000, 3000)"
      ]
     },
     "execution_count": 368,
     "metadata": {},
     "output_type": "execute_result"
    }
   ],
   "source": [
    "len(y_test), len(y_pred_nb)"
   ]
  },
  {
   "cell_type": "code",
   "execution_count": 369,
   "id": "93a97607-1a5f-41c2-8a94-7abfb977242d",
   "metadata": {},
   "outputs": [],
   "source": [
    "# Prepare lists to store probabilities and labels\n",
    "probs = []\n",
    "labels = []\n",
    "\n",
    "# Classify and get probabilities for each entry\n",
    "for i in test_feature_sets:\n",
    "    prob_dist = classifier.prob_classify(i)\n",
    "    estimated_sex = prob_dist.max()\n",
    "    prob = prob_dist.prob(estimated_sex)\n",
    "    probs.append(prob)\n",
    "    labels.append(estimated_sex)"
   ]
  },
  {
   "cell_type": "code",
   "execution_count": 370,
   "id": "c1f74a43-3576-4d67-8758-b6894259302c",
   "metadata": {},
   "outputs": [],
   "source": [
    "# Add probability metrics to dataframe\n",
    "X_test['probs'] = probs\n",
    "X_test['est_labels'] = labels"
   ]
  },
  {
   "cell_type": "code",
   "execution_count": 371,
   "id": "18f1589d-fb40-4f4b-aa43-efd08ac9b6d6",
   "metadata": {},
   "outputs": [
    {
     "data": {
      "image/png": "[encoded data removed]",
      "text/plain": [
       "<Figure size 640x480 with 1 Axes>"
      ]
     },
     "metadata": {},
     "output_type": "display_data"
    }
   ],
   "source": [
    "# Distribution of probabilities for Female\n",
    "female_probs = X_test[X_test['est_labels'] == 0]['probs']\n",
    "\n",
    "# Plot the histogram\n",
    "plt.hist(female_probs, bins=100, edgecolor='black')\n",
    "plt.title('Distribution of Probabilities for Female Classifications')\n",
    "plt.xlabel('Probability')\n",
    "plt.ylabel('Frequency')\n",
    "plt.show()"
   ]
  },
  {
   "cell_type": "code",
   "execution_count": 372,
   "id": "7d8a8f83-88d1-4961-9d55-b5adea9905be",
   "metadata": {},
   "outputs": [
    {
     "data": {
      "image/png": "[encoded data removed]",
      "text/plain": [
       "<Figure size 640x480 with 1 Axes>"
      ]
     },
     "metadata": {},
     "output_type": "display_data"
    }
   ],
   "source": [
    "# Distributio of probabilities for Female\n",
    "male_probs = X_test[X_test['est_labels'] == 1]['probs']\n",
    "\n",
    "# Plot the histogram\n",
    "plt.hist(male_probs, bins=100, edgecolor='black')\n",
    "plt.title('Distribution of Probabilities for Male Classifications')\n",
    "plt.xlabel('Probability')\n",
    "plt.ylabel('Frequency')\n",
    "plt.show()"
   ]
  },
  {
   "cell_type": "code",
   "execution_count": 373,
   "id": "443632c3",
   "metadata": {},
   "outputs": [
    {
     "name": "stdout",
     "output_type": "stream",
     "text": [
      "+----+---------------------+----------+\n",
      "|    | Evaluation Metric   |       NB |\n",
      "+====+=====================+==========+\n",
      "|  0 | Accuracy            | 0.842667 |\n",
      "+----+---------------------+----------+\n",
      "|  1 | Precision           | 0.811181 |\n",
      "+----+---------------------+----------+\n",
      "|  2 | Recall              | 0.724105 |\n",
      "+----+---------------------+----------+\n",
      "|  3 | Sensitivity         | 0.724105 |\n",
      "+----+---------------------+----------+\n",
      "|  4 | Specificity         | 0.907637 |\n",
      "+----+---------------------+----------+\n"
     ]
    }
   ],
   "source": [
    "nb_accuracy = accuracy_score(y_test, y_pred_nb)\n",
    "nb_precision = precision_score(y_test, y_pred_nb)\n",
    "nb_recall = recall_score(y_test, y_pred_nb)\n",
    "nb_sensitivity =sensitivity_score(y_test, y_pred_nb)\n",
    "nb_specificity = specificity_score(y_test, y_pred_nb)\n",
    "\n",
    "evaluation_metrics = ['Accuracy', 'Precision', 'Recall', 'Sensitivity', 'Specificity']\n",
    "nb_scores = [nb_accuracy, nb_precision, nb_recall, nb_sensitivity, nb_specificity]\n",
    "\n",
    "nb_results_df = pd.DataFrame({\n",
    "    'Evaluation Metric': evaluation_metrics,\n",
    "    'NB': nb_scores\n",
    "})\n",
    "\n",
    "#nb Evaluation Metrics\n",
    "\n",
    "print(tabulate(nb_results_df, headers='keys', tablefmt='grid'))"
   ]
  },
  {
   "cell_type": "code",
   "execution_count": 374,
   "id": "13b80206",
   "metadata": {},
   "outputs": [
    {
     "data": {
      "image/png": "[encoded data removed]",
      "text/plain": [
       "<Figure size 640x480 with 2 Axes>"
      ]
     },
     "metadata": {},
     "output_type": "display_data"
    }
   ],
   "source": [
    "cm = confusion_matrix(y_test, y_pred_nb)\n",
    "#sns.heatmap(cm, annot=True, cmap='Blues', fmt='g', xticklabels=svm_model.classes_, yticklabels=svm_model.classes_)\n",
    "sns.heatmap(cm, annot=True, cmap='viridis', fmt='g', xticklabels=['Female', 'Male'], \n",
    "            yticklabels=['Female', 'Male'], annot_kws={\"size\": 12})\n",
    "plt.xlabel('Predicted')\n",
    "plt.ylabel('Actual')\n",
    "plt.title('Confusion Matrix - Naive Bayes\\n')\n",
    "plt.show()\n",
    "\n"
   ]
  },
  {
   "cell_type": "code",
   "execution_count": 375,
   "id": "871d5e88-da68-47f5-9d45-5dcafd6f51fa",
   "metadata": {},
   "outputs": [
    {
     "name": "stdout",
     "output_type": "stream",
     "text": [
      "              precision    recall  f1-score   support\n",
      "\n",
      "           0       0.86      0.91      0.88      1938\n",
      "           1       0.81      0.72      0.77      1062\n",
      "\n",
      "    accuracy                           0.84      3000\n",
      "   macro avg       0.83      0.82      0.82      3000\n",
      "weighted avg       0.84      0.84      0.84      3000\n",
      "\n"
     ]
    }
   ],
   "source": [
    "print(classification_report(y_test, y_pred_nb))"
   ]
  },
  {
   "cell_type": "markdown",
   "id": "0b3883ef",
   "metadata": {},
   "source": [
    "## Initial Logistic Regression Model"
   ]
  },
  {
   "cell_type": "code",
   "execution_count": 376,
   "id": "d7aaf02b",
   "metadata": {},
   "outputs": [
    {
     "name": "stdout",
     "output_type": "stream",
     "text": [
      "+----+---------------------+----------+\n",
      "|    | Evaluation Metric   |   logreg |\n",
      "+====+=====================+==========+\n",
      "|  0 | Accuracy            | 0.847    |\n",
      "+----+---------------------+----------+\n",
      "|  1 | Precision           | 0.736842 |\n",
      "+----+---------------------+----------+\n",
      "|  2 | Recall              | 0.883239 |\n",
      "+----+---------------------+----------+\n",
      "|  3 | Sensitivity         | 0.883239 |\n",
      "+----+---------------------+----------+\n",
      "|  4 | Specificity         | 0.827141 |\n",
      "+----+---------------------+----------+\n"
     ]
    }
   ],
   "source": [
    "logreg = LogisticRegression(max_iter=100)\n",
    "logreg.fit(resampled_tfidf, resampled_df['Sex'])\n",
    "y_pred_logreg = logreg.predict(X_test_tfidf)\n",
    "\n",
    "\n",
    "logreg_accuracy = accuracy_score(y_test, y_pred_logreg)\n",
    "logreg_precision = precision_score(y_test, y_pred_logreg)\n",
    "logreg_recall = recall_score(y_test, y_pred_logreg)\n",
    "logreg_sensitivity =sensitivity_score(y_test, y_pred_logreg)\n",
    "logreg_specificity = specificity_score(y_test, y_pred_logreg)\n",
    "\n",
    "evaluation_metrics = ['Accuracy', 'Precision', 'Recall', 'Sensitivity', 'Specificity']\n",
    "logreg_scores = [logreg_accuracy, logreg_precision, logreg_recall, logreg_sensitivity, logreg_specificity]\n",
    "\n",
    "logreg_results_df = pd.DataFrame({\n",
    "    'Evaluation Metric': evaluation_metrics,\n",
    "    'logreg': logreg_scores\n",
    "})\n",
    "\n",
    "#logreg Evaluation Metrics\n",
    "\n",
    "print(tabulate(logreg_results_df, headers='keys', tablefmt='grid'))"
   ]
  },
  {
   "cell_type": "code",
   "execution_count": 377,
   "id": "9044587f",
   "metadata": {},
   "outputs": [
    {
     "data": {
      "image/png": "[encoded data removed]",
      "text/plain": [
       "<Figure size 640x480 with 2 Axes>"
      ]
     },
     "metadata": {},
     "output_type": "display_data"
    }
   ],
   "source": [
    "cm = confusion_matrix(y_test, y_pred_logreg)\n",
    "#sns.heatmap(cm, annot=True, cmap='Blues', fmt='g', xticklabels=svm_model.classes_, yticklabels=svm_model.classes_)\n",
    "sns.heatmap(cm, annot=True, cmap='viridis', fmt='g', xticklabels=['Female', 'Male'], \n",
    "            yticklabels=['Female', 'Male'], annot_kws={\"size\": 12})\n",
    "plt.xlabel('Predicted')\n",
    "plt.ylabel('Actual')\n",
    "plt.title('Confusion Matrix - Logistic Regression\\n')\n",
    "plt.show()"
   ]
  },
  {
   "cell_type": "code",
   "execution_count": 378,
   "id": "2313cd74",
   "metadata": {},
   "outputs": [
    {
     "name": "stdout",
     "output_type": "stream",
     "text": [
      "              precision    recall  f1-score   support\n",
      "\n",
      "           0       0.93      0.83      0.87      1938\n",
      "           1       0.74      0.88      0.80      1062\n",
      "\n",
      "    accuracy                           0.85      3000\n",
      "   macro avg       0.83      0.86      0.84      3000\n",
      "weighted avg       0.86      0.85      0.85      3000\n",
      "\n"
     ]
    }
   ],
   "source": [
    "print(classification_report(y_test, y_pred_logreg))"
   ]
  },
  {
   "cell_type": "code",
   "execution_count": null,
   "id": "11d25278",
   "metadata": {},
   "outputs": [],
   "source": []
  },
  {
   "cell_type": "markdown",
   "id": "3888c431",
   "metadata": {},
   "source": [
    "## Model Comparison"
   ]
  },
  {
   "cell_type": "code",
   "execution_count": 379,
   "id": "5ddd207b",
   "metadata": {},
   "outputs": [
    {
     "name": "stdout",
     "output_type": "stream",
     "text": [
      "+----+---------------------+----------+----------+----------+\n",
      "|    | Evaluation Metric   |      SVM |       NB |   LogReg |\n",
      "+====+=====================+==========+==========+==========+\n",
      "|  0 | Accuracy            | 0.847333 | 0.842667 | 0.847    |\n",
      "+----+---------------------+----------+----------+----------+\n",
      "|  1 | Precision           | 0.73124  | 0.811181 | 0.736842 |\n",
      "+----+---------------------+----------+----------+----------+\n",
      "|  2 | Recall              | 0.899247 | 0.724105 | 0.883239 |\n",
      "+----+---------------------+----------+----------+----------+\n",
      "|  3 | Sensitivity         | 0.899247 | 0.724105 | 0.883239 |\n",
      "+----+---------------------+----------+----------+----------+\n",
      "|  4 | Specificity         | 0.818885 | 0.907637 | 0.827141 |\n",
      "+----+---------------------+----------+----------+----------+\n"
     ]
    }
   ],
   "source": [
    "results_df = pd.DataFrame({\n",
    "    'Evaluation Metric': ['Accuracy', 'Precision', 'Recall', 'Sensitivity', 'Specificity'],\n",
    "    'SVM': [svm_accuracy, svm_precision, svm_recall, svm_sensitivity, svm_specificity],\n",
    "    'NB': [nb_accuracy, nb_precision, nb_recall, nb_sensitivity, nb_specificity],\n",
    "    'LogReg': [logreg_accuracy, logreg_precision, logreg_recall, logreg_sensitivity, logreg_specificity]\n",
    "})\n",
    "\n",
    "print(tabulate(results_df, headers='keys', tablefmt='grid'))\n"
   ]
  },
  {
   "cell_type": "code",
   "execution_count": 380,
   "id": "c60f89de",
   "metadata": {},
   "outputs": [
    {
     "data": {
      "image/png": "[encoded data removed]",
      "text/plain": [
       "<Figure size 640x480 with 2 Axes>"
      ]
     },
     "metadata": {},
     "output_type": "display_data"
    }
   ],
   "source": [
    "# Results Heatmap\n",
    "\n",
    "sns.heatmap(results_df.set_index('Evaluation Metric'), annot=True, cmap='viridis', fmt=\".3f\", linewidths=.5)\n",
    "plt.title('Evaluation Metrics')\n",
    "plt.xlabel('Model')\n",
    "plt.ylabel('Evaluation Metric')\n",
    "\n",
    "plt.xticks(rotation=0)\n",
    "plt.yticks(rotation=0)\n",
    "plt.tight_layout()\n",
    "plt.show()\n"
   ]
  },
  {
   "cell_type": "code",
   "execution_count": null,
   "id": "4dbb90d8-e091-49c4-8ba3-56bdd3ca6079",
   "metadata": {},
   "outputs": [],
   "source": []
  }
 ],
 "metadata": {
  "kernelspec": {
   "display_name": "Python 3 (ipykernel)",
   "language": "python",
   "name": "python3"
  },
  "language_info": {
   "codemirror_mode": {
    "name": "ipython",
    "version": 3
   },
   "file_extension": ".py",
   "mimetype": "text/x-python",
   "name": "python",
   "nbconvert_exporter": "python",
   "pygments_lexer": "ipython3",
   "version": "3.9.18"
  }
 },
 "nbformat": 4,
 "nbformat_minor": 5
}
