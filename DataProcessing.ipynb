{
 "cells": [
  {
   "cell_type": "markdown",
   "id": "ef7f37f0",
   "metadata": {},
   "source": [
    "# ADS 509 Final Team Project\n",
    "\n",
    "### Jessica Hin, Halee Staggs, Vicky van der Wagt\n",
    "\n",
    "----------------------------------------------------------------------------------"
   ]
  },
  {
   "cell_type": "markdown",
   "id": "2a616f8d-335e-4483-ada1-9f3f152aec75",
   "metadata": {},
   "source": [
    "# Call Data from Clinicaltrial.gov API"
   ]
  },
  {
   "cell_type": "code",
   "execution_count": 2,
   "id": "510e1deb-5929-4e0c-89b5-1f0c952ca9d2",
   "metadata": {},
   "outputs": [],
   "source": [
    "# Import libraries\n",
    "import requests\n",
    "import json\n",
    "import os\n",
    "import datetime\n",
    "import re\n",
    "import time\n",
    "import warnings\n",
    "\n",
    "from bs4 import BeautifulSoup\n",
    "from collections import defaultdict, Counter\n",
    "import random\n",
    "import shutil\n",
    "import pandas as pd\n",
    "import numpy as np\n",
    "from tabulate import tabulate\n",
    "import seaborn as sns\n",
    "import matplotlib.pyplot as plt\n",
    "from nltk.corpus import stopwords\n",
    "from string import punctuation\n",
    "from nltk.tokenize import word_tokenize\n",
    "from sklearn.model_selection import train_test_split\n",
    "from imblearn.over_sampling import SMOTE\n",
    "from sklearn.preprocessing import OneHotEncoder\n",
    "from sklearn.preprocessing import LabelEncoder\n",
    "\n",
    "# Suppress FutureWarnings related to is_sparse\n",
    "warnings.filterwarnings(\"ignore\", category=FutureWarning, message=\"is_sparse is deprecated\")\n",
    "\n",
    "# Define figure parameters (feel free to change)\n",
    "custom_palette = {'FEMALE': '#80ff80', 'MALE': '#99ccff'}\n",
    "sns.set_style(\"darkgrid\")\n",
    "plt.rcParams.update({'axes.titlesize': 16,\n",
    "                     'axes.labelsize': 14,\n",
    "                     'xtick.labelsize': 12,\n",
    "                     'ytick.labelsize': 12})"
   ]
  },
  {
   "cell_type": "markdown",
   "id": "a98c8924-309e-4346-a248-27cb16792cff",
   "metadata": {},
   "source": [
    "### Do a Test Call to API to check for bugs"
   ]
  },
  {
   "cell_type": "code",
   "execution_count": 2,
   "id": "ae896b9a-9808-487b-a408-965bdd83b01a",
   "metadata": {},
   "outputs": [
    {
     "name": "stdout",
     "output_type": "stream",
     "text": [
      "Request URL: https://clinicaltrials.gov/api/v2/studies?format=json&postFilter.overallStatus=COMPLETED&postFilter.advanced=%28AREA%5BStudyType%5DINTERVENTIONAL+OR+OBSERVATIONAL%29+AND+%28AREA%5BSex%5DMALE+OR+AREA%5BSex%5DFEMALE%29&fields=NCTId%7CCondition%7CStartDate%7CPrimaryCompletionDate%7CBriefSummary%7CEnrollmentCount%7CSex%7CMinimumAge%7CMaximumAge&pageSize=5\n",
      "{\n",
      "  \"studies\": [\n",
      "    {\n",
      "      \"protocolSection\": {\n",
      "        \"identificationModule\": {\n",
      "          \"nctId\": \"NCT01775462\"\n",
      "        },\n",
      "        \"statusModule\": {\n",
      "          \"startDateStruct\": {\n",
      "            \"date\": \"2013-04\"\n",
      "          },\n",
      "          \"primaryCompletionDateStruct\": {\n",
      "            \"date\": \"2015-12\"\n",
      "          }\n",
      "        },\n",
      "        \"descriptionModule\": {\n",
      "          \"briefSummary\": \"This Phase 2 first-in-neonate EDI200 study will enroll treatment-na\\u00efve, XLHED-affected male newborns in the first two weeks of life. All subjects will meet entry criteria including documentation of an Ectodysplasin (EDA) mutation associated with XLHED. Following Baseline evaluations, EDI200 dosing will be initiated between day-of-life 2 and 14, with each study subject receiving 2 doses/week for a total of 5 doses. The study will enroll subjects in two cohorts with subjects in cohort 1 dosed at 3 mg/kg/dose, associated with partial efficacy, and cohort 2 dosed at 10 mg/kg/dose where enhanced efficacy was demonstrated in the most relevant preclinical model. Given the challenge of identifying families where the subject is yet to be born, it is expected that cohort size and time for recruitment will be variable.\"\n",
      "        },\n",
      "        \"conditionsModule\": {\n",
      "          \"conditions\": [\n",
      "            \"X-Linked Hypohidrotic Ectodermal Dysplasia\"\n",
      "          ]\n",
      "        },\n",
      "        \"designModule\": {\n",
      "          \"enrollmentInfo\": {\n",
      "            \"count\": 6\n",
      "          }\n",
      "        },\n",
      "        \"eligibilityModule\": {\n",
      "          \"sex\": \"MALE\",\n",
      "          \"minimumAge\": \"48 Hours\",\n",
      "          \"maximumAge\": \"14 Days\"\n",
      "        }\n",
      "      }\n",
      "    },\n",
      "    {\n",
      "      \"protocolSection\": {\n",
      "        \"identificationModule\": {\n",
      "          \"nctId\": \"NCT01978262\"\n",
      "        },\n",
      "        \"statusModule\": {\n",
      "          \"startDateStruct\": {\n",
      "            \"date\": \"2013-10\"\n",
      "          },\n",
      "          \"primaryCompletionDateStruct\": {\n",
      "            \"date\": \"2017-08\"\n",
      "          }\n",
      "        },\n",
      "        \"descriptionModule\": {\n",
      "          \"briefSummary\": \"The purpose of this pilot research project is to look at the effect of the inactivated influenza vaccine (seasonal flu shot) on early signs of immune or germ-fighting response known as cytokines or signal molecules. The investigators also want to see if the timing of vaccine administration has any effect on women's reproductive hormones. The investigators hypothesis is that influenza vaccine given right before ovulation may change the hormone levels usually seen after ovulation. Thi\"\n",
      "        },\n",
      "        \"conditionsModule\": {\n",
      "          \"conditions\": [\n",
      "            \"Healthy\"\n",
      "          ]\n",
      "        },\n",
      "        \"designModule\": {\n",
      "          \"enrollmentInfo\": {\n",
      "            \"count\": 103\n",
      "          }\n",
      "        },\n",
      "        \"eligibilityModule\": {\n",
      "          \"sex\": \"FEMALE\",\n",
      "          \"minimumAge\": \"18 Years\",\n",
      "          \"maximumAge\": \"39 Years\"\n",
      "        }\n",
      "      }\n",
      "    },\n",
      "    {\n",
      "      \"protocolSection\": {\n",
      "        \"identificationModule\": {\n",
      "          \"nctId\": \"NCT01356862\"\n",
      "        },\n",
      "        \"statusModule\": {\n",
      "          \"startDateStruct\": {\n",
      "            \"date\": \"2010-09\"\n",
      "          },\n",
      "          \"primaryCompletionDateStruct\": {\n",
      "            \"date\": \"2012-10\"\n",
      "          }\n",
      "        },\n",
      "        \"descriptionModule\": {\n",
      "          \"briefSummary\": \"The principal morbidity following axillary node dissection within the scope of breast cancer surgery is the post-operative development of lymphocele. According to the literature, incidence can vary from 4 to 89% depending on the type of surgery, whether or not a drain is inserted or a compression dressing applied and the time at which the drain is removed... In our experience, the incidence is 40% \\\\[IGR (Gustave Roussy Institute) data focusing on 70 patients between November 2008 and February 2009\\\\]\\n\\nEncouraging results in terms of reducing postoperative lymphoceles as well as drainage duration and volume using Octreotide have been recorded in two recent studies. A new molecule developed by Novartis Laboratories, namely pasireotide, is a somatostatin analog possessing strong affinity for several somatostatin receptors (30 to 40 times greater for sst1 and sst5, 5 times greater for sst3 and equivalent for sst2)\\n\\nThe purpose of this trial is to assess the efficacy of a pre-surgical injection of pasireotide LAR in reducing the postoperative incidence of symptomatic lymphoceles following axillary node dissection.\\n\\nThe secondary objectives are to assess the efficacy of prolonged release pasireotide on the duration of postoperative drainage, the daily drainage volume, the total drainage volume, the number of repeated lymphocele aspirations and the volume, the total volume of lymph aspirated, the incidence of postoperative febrile episodes, the length of hospital stay, and the length of time to onset of adjuvant chemotherapy. It is also to assess the safety of prolonged release pasireotide.\\n\\nThe primary objective of this study is to assess the efficacy of a preoperative prolonged release pasireotide injection in the reduction in the incidence of symptomatic, postoperative axillary lymphoceles following mastectomy-axillary node dissection.\"\n",
      "        },\n",
      "        \"conditionsModule\": {\n",
      "          \"conditions\": [\n",
      "            \"Breast Cancer\"\n",
      "          ]\n",
      "        },\n",
      "        \"designModule\": {\n",
      "          \"enrollmentInfo\": {\n",
      "            \"count\": 91\n",
      "          }\n",
      "        },\n",
      "        \"eligibilityModule\": {\n",
      "          \"sex\": \"FEMALE\",\n",
      "          \"minimumAge\": \"18 Years\"\n",
      "        }\n",
      "      }\n",
      "    },\n",
      "    {\n",
      "      \"protocolSection\": {\n",
      "        \"identificationModule\": {\n",
      "          \"nctId\": \"NCT00908362\"\n",
      "        },\n",
      "        \"statusModule\": {\n",
      "          \"startDateStruct\": {\n",
      "            \"date\": \"2009-05\"\n",
      "          },\n",
      "          \"primaryCompletionDateStruct\": {\n",
      "            \"date\": \"2009-10\"\n",
      "          }\n",
      "        },\n",
      "        \"descriptionModule\": {\n",
      "          \"briefSummary\": \"Airway dendritic cells (DCs) play a key role in smoke-related lung diseases. In this study, the researchers investigate the effects of fluticasone and salmeterol on human airway DCs in smokers. The researchers hypothesize that fluticasone and salmeterol impact on the number and the characteristics of airway DCs in smokers.\"\n",
      "        },\n",
      "        \"conditionsModule\": {\n",
      "          \"conditions\": [\n",
      "            \"Smoke-related Lung Diseases\",\n",
      "            \"Chronic Obstructive Pulmonary Disease\"\n",
      "          ]\n",
      "        },\n",
      "        \"designModule\": {\n",
      "          \"enrollmentInfo\": {\n",
      "            \"count\": 45\n",
      "          }\n",
      "        },\n",
      "        \"eligibilityModule\": {\n",
      "          \"sex\": \"MALE\",\n",
      "          \"minimumAge\": \"30 Years\",\n",
      "          \"maximumAge\": \"60 Years\"\n",
      "        }\n",
      "      }\n",
      "    },\n",
      "    {\n",
      "      \"protocolSection\": {\n",
      "        \"identificationModule\": {\n",
      "          \"nctId\": \"NCT01450462\"\n",
      "        },\n",
      "        \"statusModule\": {\n",
      "          \"startDateStruct\": {\n",
      "            \"date\": \"2011-09\"\n",
      "          },\n",
      "          \"primaryCompletionDateStruct\": {\n",
      "            \"date\": \"2013-01\"\n",
      "          }\n",
      "        },\n",
      "        \"descriptionModule\": {\n",
      "          \"briefSummary\": \"Bacterial vaginosis (BV) develops when the concentration of healthy Lactobacillus species in the vagina declines and is replaced by other bacterial species. BV is the most common vaginal infection worldwide, but the etiology of this complex condition is not clear. BV is associated with a 60% increased risk of HIV acquisition as well as numerous other detrimental reproductive outcomes. A profound racial disparity exists in BV prevalence in women in the United States (US): 23% of white women versus. 52% of black women have BV. The investigators hypothesize that inadequate vitamin D contributes to BV development and/or recurrence. Vitamin D is essential to immune function, serving both to stimulate mechanisms associated with pathogen elimination and to regulate immune response. According to nationally-representative data, 90% of US blacks have insufficient vitamin D levels. In two recent analyses, low vitamin D was associated with higher BV prevalence in pregnant African-Americans; a third replicated this finding in pregnant African-American and white women. The investigators wish to conduct a small, pilot randomized controlled trial (RCT) to assess the effect of vitamin D supplementation among non-pregnant, BV-positive women at a public sexually transmitted disease (STD) clinic. This small (n=150), two-arm, placebo-controlled, masked, 24-week RCT of high-dose vitamin D supplementation will inform the development of future large-scale RCT design and implementation.\"\n",
      "        },\n",
      "        \"conditionsModule\": {\n",
      "          \"conditions\": [\n",
      "            \"Bacterial Vaginosis\"\n",
      "          ]\n",
      "        },\n",
      "        \"designModule\": {\n",
      "          \"enrollmentInfo\": {\n",
      "            \"count\": 118\n",
      "          }\n",
      "        },\n",
      "        \"eligibilityModule\": {\n",
      "          \"sex\": \"FEMALE\",\n",
      "          \"minimumAge\": \"18 Years\",\n",
      "          \"maximumAge\": \"50 Years\"\n",
      "        }\n",
      "      }\n",
      "    }\n",
      "  ],\n",
      "  \"nextPageToken\": \"NF0g5JKPlg\"\n",
      "}\n"
     ]
    }
   ],
   "source": [
    "# Define the base URL for the API\n",
    "base_url = \"https://clinicaltrials.gov/api/v2/studies\"\n",
    "\n",
    "# Define the query parameters and desired fields\n",
    "params = {\n",
    "    'format': 'json',\n",
    "    'postFilter.overallStatus': 'COMPLETED',\n",
    "    'postFilter.advanced': '(AREA[StudyType]INTERVENTIONAL OR OBSERVATIONAL) AND (AREA[Sex]MALE OR AREA[Sex]FEMALE)',\n",
    "    'fields': 'NCTId|Condition|StartDate|PrimaryCompletionDate|BriefSummary|EnrollmentCount|Sex|MinimumAge|MaximumAge',\n",
    "    'pageSize': 5  # Limit to 5 records for testing\n",
    "}\n",
    "\n",
    "# Function to make the API call\n",
    "def fetch_clinical_trials(params):\n",
    "    try:\n",
    "        response = requests.get(base_url, params=params, headers={\"accept\": \"application/json\"})\n",
    "        # Print the final URL to debug any issues with the query parameters\n",
    "        print(f\"Request URL: {response.url}\")\n",
    "        # Check if the request was successful\n",
    "        if response.status_code == 200:\n",
    "            return response.json()\n",
    "        else:\n",
    "            print(f\"Failed to retrieve data: {response.status_code} - {response.text}\")\n",
    "            return None\n",
    "    except requests.exceptions.RequestException as e:\n",
    "        print(f\"Request failed: {e}\")\n",
    "        return None\n",
    "\n",
    "# Fetch the data and print it to test the connection\n",
    "data = fetch_clinical_trials(params)\n",
    "\n",
    "# Check if data was retrieved successfully\n",
    "if data:\n",
    "    # Print the JSON data\n",
    "    print(json.dumps(data, indent=2))\n",
    "else:\n",
    "    print(\"No data retrieved or error occurred.\")\n",
    "\n"
   ]
  },
  {
   "cell_type": "markdown",
   "id": "52c03418-8275-427e-a70b-5e0335afa93e",
   "metadata": {},
   "source": [
    "## Run full call to API"
   ]
  },
  {
   "cell_type": "code",
   "execution_count": 3,
   "id": "7acc08b2-5c64-4f51-8ebf-61691c7318f6",
   "metadata": {},
   "outputs": [
    {
     "name": "stdout",
     "output_type": "stream",
     "text": [
      "API call successful\n",
      "Number of studies fetched: 1000\n",
      "API call successful\n",
      "Number of studies fetched: 1000\n",
      "API call successful\n",
      "Number of studies fetched: 1000\n",
      "API call successful\n",
      "Number of studies fetched: 1000\n",
      "API call successful\n",
      "Number of studies fetched: 1000\n",
      "API call successful\n",
      "Number of studies fetched: 1000\n",
      "API call successful\n",
      "Number of studies fetched: 1000\n",
      "API call successful\n",
      "Number of studies fetched: 1000\n",
      "API call successful\n",
      "Number of studies fetched: 1000\n",
      "API call successful\n",
      "Number of studies fetched: 1000\n",
      "API call successful\n",
      "Number of studies fetched: 1000\n",
      "API call successful\n",
      "Number of studies fetched: 1000\n",
      "API call successful\n",
      "Number of studies fetched: 1000\n",
      "API call successful\n",
      "Number of studies fetched: 1000\n",
      "API call successful\n",
      "Number of studies fetched: 1000\n",
      "Data fetching and processing complete.\n"
     ]
    }
   ],
   "source": [
    "# Define the base URL for the API\n",
    "base_url = \"https://clinicaltrials.gov/api/v2/studies\"\n",
    "\n",
    "# Define the query parameters and desired fields\n",
    "params = {\n",
    "    'format': 'json',\n",
    "    'postFilter.overallStatus': 'COMPLETED',\n",
    "    'postFilter.advanced': '(AREA[StudyType]INTERVENTIONAL OR OBSERVATIONAL)',\n",
    "    'fields': 'NCTId|Condition|StartDate|PrimaryCompletionDate|BriefSummary|EnrollmentCount|Sex|MinimumAge|MaximumAge',\n",
    "    'pageSize': 1000  # Number of records to fetch per request\n",
    "}\n",
    "\n",
    "# Function to make the API call\n",
    "def fetch_clinical_trials(params):\n",
    "    try:\n",
    "        response = requests.get(base_url, params=params, headers={\"accept\": \"application/json\"})\n",
    "        # Print the final URL to debug any issues with the query parameters\n",
    "        #print(f\"Request URL: {response.url}\")\n",
    "        # Check if the request was successful\n",
    "        if response.status_code == 200:\n",
    "            print(\"API call successful\")\n",
    "            return response.json()\n",
    "        else:\n",
    "            print(f\"Failed to retrieve data: {response.status_code} - {response.text}\")\n",
    "            return None\n",
    "    except requests.exceptions.RequestException as e:\n",
    "        print(f\"Request failed: {e}\")\n",
    "        return None\n",
    "\n",
    "# Function to extract relevant data from the API response\n",
    "def extract_study_data(study):\n",
    "    protocol_section = study.get('protocolSection', {})\n",
    "    identification_module = protocol_section.get('identificationModule', {})\n",
    "    status_module = protocol_section.get('statusModule', {})\n",
    "    description_module = protocol_section.get('descriptionModule', {})\n",
    "    conditions_module = protocol_section.get('conditionsModule', {})\n",
    "    design_module = protocol_section.get('designModule', {})\n",
    "    eligibility_module = protocol_section.get('eligibilityModule', {})\n",
    "\n",
    "    # Exclude records where sex is not available\n",
    "    if 'sex' not in eligibility_module:\n",
    "        return None\n",
    "    \n",
    "    return {\n",
    "        'NCTId': identification_module.get('nctId', 'N/A'),\n",
    "        'Condition': conditions_module.get('conditions', ['N/A']),\n",
    "        'StartDate': status_module.get('startDateStruct', {}).get('date', 'N/A'),\n",
    "        'PrimaryCompletionDate': status_module.get('primaryCompletionDateStruct', {}).get('date', 'N/A'),\n",
    "        'BriefSummary': description_module.get('briefSummary', 'N/A'),\n",
    "        'EnrollmentCount': design_module.get('enrollmentInfo', {}).get('count', 'N/A'),\n",
    "        'Sex': eligibility_module.get('sex'),  \n",
    "        'MinimumAge': eligibility_module.get('minimumAge', 'N/A'),  \n",
    "        'MaximumAge': eligibility_module.get('maximumAge', 'N/A')\n",
    "    }\n",
    "\n",
    "# Fetch and process the data with a delay between requests and avoid duplicates\n",
    "def fetch_and_process_data(params, max_requests):  # Increase max_requests for full data retrieval\n",
    "    all_extracted_data = []\n",
    "    seen_nct_ids = set()\n",
    "    next_page_token = None\n",
    "\n",
    "    for _ in range(max_requests):\n",
    "        if next_page_token:\n",
    "            params['pageToken'] = next_page_token\n",
    "\n",
    "        data = fetch_clinical_trials(params)\n",
    "        if data:\n",
    "            studies = data.get('studies', [])\n",
    "            next_page_token = data.get('nextPageToken', None)\n",
    "\n",
    "            print(f\"Number of studies fetched: {len(studies)}\")  # Debugging statement\n",
    "            for study in studies:\n",
    "                nct_id = study.get('protocolSection', {}).get('identificationModule', {}).get('nctId')\n",
    "                if nct_id and nct_id not in seen_nct_ids:\n",
    "                    seen_nct_ids.add(nct_id)\n",
    "                    extracted_data = extract_study_data(study)\n",
    "                    all_extracted_data.append(extracted_data)\n",
    "                    #print(json.dumps(extracted_data, indent=2))  # Debugging statement\n",
    "                else:\n",
    "                    print(f\"Duplicate or missing NCTId: {nct_id}\")\n",
    "\n",
    "            if not next_page_token:\n",
    "                break  # No more pages to fetch\n",
    "\n",
    "        # Pause the execution for a short, random period of time to avoid overwhelming the server\n",
    "        time.sleep(5 + 10 * random.random())\n",
    "    \n",
    "    return all_extracted_data\n",
    "\n",
    "# Fetch data for random sample of MALE or FEMALE studies\n",
    "random_sample_params = params.copy()\n",
    "random_sample_params['postFilter.advanced'] += ' AND (AREA[Sex]MALE OR AREA[Sex]FEMALE)'\n",
    "random_sample_studies = fetch_and_process_data(random_sample_params, max_requests=15)\n",
    "\n",
    "# Combine both sets of data\n",
    "all_data = random_sample_studies \n",
    "\n",
    "# Save the data to a file in repository to avoid sending request to server\n",
    "with open('clinical_trials.json', 'w') as outfile:\n",
    "    json.dump(all_data, outfile, indent=2)\n",
    "\n",
    "print(\"Data fetching and processing complete.\")"
   ]
  },
  {
   "cell_type": "markdown",
   "id": "12ccafc8-235e-4ce6-96f7-c10d21e9a5e5",
   "metadata": {},
   "source": [
    "## Examine Data"
   ]
  },
  {
   "cell_type": "code",
   "execution_count": 5,
   "id": "e410fd00-3749-400e-a22e-a38cddb64da5",
   "metadata": {},
   "outputs": [
    {
     "data": {
      "text/plain": [
       "(15000, 9)"
      ]
     },
     "execution_count": 5,
     "metadata": {},
     "output_type": "execute_result"
    }
   ],
   "source": [
    "# Convert the extracted data to a DataFrame\n",
    "all_df = pd.DataFrame(all_data)\n",
    "# Save DataFrame to a CSV file\n",
    "all_df.to_csv('clinical_trials.csv', index=False)"
   ]
  },
  {
   "cell_type": "code",
   "execution_count": null,
   "id": "31b04f89-8715-49f1-8335-56fd43fc55ea",
   "metadata": {},
   "outputs": [],
   "source": []
  },
  {
   "cell_type": "code",
   "execution_count": null,
   "id": "0f595314-03c3-48b0-be96-105318cb47f2",
   "metadata": {},
   "outputs": [],
   "source": []
  },
  {
   "cell_type": "markdown",
   "id": "b2d0fc18-949a-4401-ae74-d0a5f2c753de",
   "metadata": {},
   "source": [
    "# Start New File Here: EDA"
   ]
  },
  {
   "cell_type": "markdown",
   "id": "26bacc93-9fd6-4e2c-ba5b-fcbfa213b438",
   "metadata": {},
   "source": [
    "### Read in .csv file of data "
   ]
  },
  {
   "cell_type": "code",
   "execution_count": 3,
   "id": "61ca6d37-e45a-473a-b52e-9ece856831f9",
   "metadata": {},
   "outputs": [],
   "source": [
    "all_df = pd.read_csv(r\"clinical_trials.csv\")"
   ]
  },
  {
   "cell_type": "code",
   "execution_count": 4,
   "id": "91e150b2-383e-41fa-b5b3-1bc5aae79b91",
   "metadata": {},
   "outputs": [
    {
     "data": {
      "text/plain": [
       "(15000, 9)"
      ]
     },
     "execution_count": 4,
     "metadata": {},
     "output_type": "execute_result"
    }
   ],
   "source": [
    "# Dataframe shape\n",
    "all_df.shape"
   ]
  },
  {
   "cell_type": "code",
   "execution_count": 5,
   "id": "7cb70637-2912-471b-b022-ab31dd02704a",
   "metadata": {},
   "outputs": [
    {
     "data": {
      "text/plain": [
       "(         NCTId                                          Condition StartDate  \\\n",
       " 0  NCT01775462     ['X-Linked Hypohidrotic Ectodermal Dysplasia']   2013-04   \n",
       " 1  NCT01978262                                        ['Healthy']   2013-10   \n",
       " 2  NCT01356862                                  ['Breast Cancer']   2010-09   \n",
       " 3  NCT00908362  ['Smoke-related Lung Diseases', 'Chronic Obstr...   2009-05   \n",
       " 4  NCT01450462                            ['Bacterial Vaginosis']   2011-09   \n",
       " \n",
       "   PrimaryCompletionDate                                       BriefSummary  \\\n",
       " 0               2015-12  This Phase 2 first-in-neonate EDI200 study wil...   \n",
       " 1               2017-08  The purpose of this pilot research project is ...   \n",
       " 2               2012-10  The principal morbidity following axillary nod...   \n",
       " 3               2009-10  Airway dendritic cells (DCs) play a key role i...   \n",
       " 4               2013-01  Bacterial vaginosis (BV) develops when the con...   \n",
       " \n",
       "    EnrollmentCount     Sex MinimumAge MaximumAge  \n",
       " 0              6.0    MALE   48 Hours    14 Days  \n",
       " 1            103.0  FEMALE   18 Years   39 Years  \n",
       " 2             91.0  FEMALE   18 Years        NaN  \n",
       " 3             45.0    MALE   30 Years   60 Years  \n",
       " 4            118.0  FEMALE   18 Years   50 Years  ,\n",
       "              NCTId                                          Condition  \\\n",
       " 14995  NCT03239769         ['Differentiated Thyroid Carcinoma (DTC)']   \n",
       " 14996  NCT01535846                         ['Other Eating Disorders']   \n",
       " 14997  NCT03016546                   ['HIV Infections', 'Depression']   \n",
       " 14998  NCT05903846  ['Breastfeeding', 'Engorgement of Breast Assoc...   \n",
       " 14999  NCT02496546                              ['Atopic Dermatitis']   \n",
       " \n",
       "         StartDate PrimaryCompletionDate  \\\n",
       " 14995  2012-06-01            2015-06-01   \n",
       " 14996     2011-01               2012-04   \n",
       " 14997  2016-12-01            2018-07-31   \n",
       " 14998  2022-11-01            2023-02-01   \n",
       " 14999     2015-07               2016-03   \n",
       " \n",
       "                                             BriefSummary  EnrollmentCount  \\\n",
       " 14995  One hundred twenty female patients who underwe...            120.0   \n",
       " 14996  Energy-restricted diets often require dieting ...             50.0   \n",
       " 14997  Depression is a common perinatal complication ...             40.0   \n",
       " 14998  The aim of this study was to examine the effec...            116.0   \n",
       " 14999  The aim of this trial is to assess the efficac...             30.0   \n",
       " \n",
       "           Sex MinimumAge MaximumAge  \n",
       " 14995  FEMALE   18 Years        NaN  \n",
       " 14996  FEMALE   25 Years   60 Years  \n",
       " 14997  FEMALE   18 Years        NaN  \n",
       " 14998  FEMALE   18 Years        NaN  \n",
       " 14999    MALE   18 Years        NaN  )"
      ]
     },
     "execution_count": 5,
     "metadata": {},
     "output_type": "execute_result"
    }
   ],
   "source": [
    "# Display the DataFrame\n",
    "all_df.head(), all_df.tail()"
   ]
  },
  {
   "cell_type": "markdown",
   "id": "c749bc04",
   "metadata": {},
   "source": [
    "# Preprocess All Data + EDA\n",
    "    * Examine and handle missing values\n",
    "    * Fix column datatypes\n",
    "    * Feature creation"
   ]
  },
  {
   "cell_type": "markdown",
   "id": "87a28b52",
   "metadata": {},
   "source": [
    "### Examine and Handle Missing Values\n",
    "\n",
    "First handle missing values within the dataframe in preparation for plotting. "
   ]
  },
  {
   "cell_type": "code",
   "execution_count": 6,
   "id": "c1909e2b",
   "metadata": {},
   "outputs": [
    {
     "name": "stdout",
     "output_type": "stream",
     "text": [
      "DataFrame with counts and percentages of 'N/A' values:\n",
      "+----+-----------------------+-----------------+----------------------+\n",
      "|    | Column                |   Missing Count |   Missing Proportion |\n",
      "+====+=======================+=================+======================+\n",
      "|  0 | NCTId                 |               0 |                    0 |\n",
      "+----+-----------------------+-----------------+----------------------+\n",
      "|  1 | Condition             |               0 |                    0 |\n",
      "+----+-----------------------+-----------------+----------------------+\n",
      "|  2 | StartDate             |               0 |                    0 |\n",
      "+----+-----------------------+-----------------+----------------------+\n",
      "|  3 | PrimaryCompletionDate |               0 |                    0 |\n",
      "+----+-----------------------+-----------------+----------------------+\n",
      "|  4 | BriefSummary          |               0 |                    0 |\n",
      "+----+-----------------------+-----------------+----------------------+\n",
      "|  5 | EnrollmentCount       |               0 |                    0 |\n",
      "+----+-----------------------+-----------------+----------------------+\n",
      "|  6 | Sex                   |               0 |                    0 |\n",
      "+----+-----------------------+-----------------+----------------------+\n",
      "|  7 | MinimumAge            |               0 |                    0 |\n",
      "+----+-----------------------+-----------------+----------------------+\n",
      "|  8 | MaximumAge            |               0 |                    0 |\n",
      "+----+-----------------------+-----------------+----------------------+\n"
     ]
    }
   ],
   "source": [
    "na_counts = (all_df == 'N/A').sum()\n",
    "total_records = len(all_df)\n",
    "percentage_na = (na_counts / total_records)\n",
    "\n",
    "# Generate Dataframe from the counts and percentages\n",
    "na_counts_df = pd.DataFrame({'Missing Count': na_counts, 'Missing Proportion': percentage_na})\n",
    "\n",
    "# Reset index & rename the index column\n",
    "na_counts_df.reset_index(inplace=True)\n",
    "na_counts_df.rename(columns={'index': 'Column'}, inplace=True)\n",
    "\n",
    "print(\"DataFrame with counts and percentages of 'N/A' values:\")\n",
    "print(tabulate(na_counts_df, headers='keys', tablefmt='grid'))\n"
   ]
  },
  {
   "cell_type": "markdown",
   "id": "3073605d",
   "metadata": {},
   "source": [
    "A new df \"no_nans\" was created in order to do EDA - this is to seperate it from all the preprocessing step when splitting the data into train and test dataframes."
   ]
  },
  {
   "cell_type": "code",
   "execution_count": 7,
   "id": "4c263f4b",
   "metadata": {},
   "outputs": [],
   "source": [
    "# Missing values to null for now (simplifies type conversions & plotting)\n",
    "\n",
    "def na_to_null(df, column):\n",
    "    \"\"\"This function replaces \"N/A\" values in a df column with null\"\"\"\n",
    "    df[column] = df[column].replace('N/A', np.nan)\n",
    "    return df\n",
    "\n",
    "no_nans = na_to_null(all_df, ['PrimaryCompletionDate', 'StartDate','EnrollmentCount','MinimumAge', 'MaximumAge'])"
   ]
  },
  {
   "cell_type": "markdown",
   "id": "29d3d611",
   "metadata": {},
   "source": [
    "### Feature Clean-up, Feature Creation\n",
    "\n",
    "New columns \"MinimumAgeYrs\" and \"MaximumAgeYrs\" are created to change all the values that are less than a year to 0."
   ]
  },
  {
   "cell_type": "code",
   "execution_count": 8,
   "id": "fd920b81",
   "metadata": {},
   "outputs": [
    {
     "data": {
      "text/html": [
       "<div>\n",
       "<style scoped>\n",
       "    .dataframe tbody tr th:only-of-type {\n",
       "        vertical-align: middle;\n",
       "    }\n",
       "\n",
       "    .dataframe tbody tr th {\n",
       "        vertical-align: top;\n",
       "    }\n",
       "\n",
       "    .dataframe thead th {\n",
       "        text-align: right;\n",
       "    }\n",
       "</style>\n",
       "<table border=\"1\" class=\"dataframe\">\n",
       "  <thead>\n",
       "    <tr style=\"text-align: right;\">\n",
       "      <th></th>\n",
       "      <th>NCTId</th>\n",
       "      <th>Condition</th>\n",
       "      <th>StartDate</th>\n",
       "      <th>PrimaryCompletionDate</th>\n",
       "      <th>BriefSummary</th>\n",
       "      <th>EnrollmentCount</th>\n",
       "      <th>Sex</th>\n",
       "      <th>MinimumAge</th>\n",
       "      <th>MaximumAge</th>\n",
       "      <th>MinimumAgeYrs</th>\n",
       "      <th>MaximumAgeYrs</th>\n",
       "      <th>StartYear</th>\n",
       "      <th>StartMonth</th>\n",
       "      <th>StartDecade</th>\n",
       "      <th>ConditionCount</th>\n",
       "      <th>Duration</th>\n",
       "      <th>DurationYrsRounded</th>\n",
       "    </tr>\n",
       "  </thead>\n",
       "  <tbody>\n",
       "    <tr>\n",
       "      <th>0</th>\n",
       "      <td>NCT01775462</td>\n",
       "      <td>['X-Linked Hypohidrotic Ectodermal Dysplasia']</td>\n",
       "      <td>2013-04-01</td>\n",
       "      <td>2015-12-01</td>\n",
       "      <td>This Phase 2 first-in-neonate EDI200 study wil...</td>\n",
       "      <td>6.0</td>\n",
       "      <td>MALE</td>\n",
       "      <td>48 Hours</td>\n",
       "      <td>14 Days</td>\n",
       "      <td>0.0</td>\n",
       "      <td>0.0</td>\n",
       "      <td>2013.0</td>\n",
       "      <td>4.0</td>\n",
       "      <td>2010.0</td>\n",
       "      <td>46</td>\n",
       "      <td>974.0</td>\n",
       "      <td>2.67</td>\n",
       "    </tr>\n",
       "    <tr>\n",
       "      <th>1</th>\n",
       "      <td>NCT01978262</td>\n",
       "      <td>['Healthy']</td>\n",
       "      <td>2013-10-01</td>\n",
       "      <td>2017-08-01</td>\n",
       "      <td>The purpose of this pilot research project is ...</td>\n",
       "      <td>103.0</td>\n",
       "      <td>FEMALE</td>\n",
       "      <td>18 Years</td>\n",
       "      <td>39 Years</td>\n",
       "      <td>18.0</td>\n",
       "      <td>39.0</td>\n",
       "      <td>2013.0</td>\n",
       "      <td>10.0</td>\n",
       "      <td>2010.0</td>\n",
       "      <td>11</td>\n",
       "      <td>1400.0</td>\n",
       "      <td>3.84</td>\n",
       "    </tr>\n",
       "    <tr>\n",
       "      <th>2</th>\n",
       "      <td>NCT01356862</td>\n",
       "      <td>['Breast Cancer']</td>\n",
       "      <td>2010-09-01</td>\n",
       "      <td>2012-10-01</td>\n",
       "      <td>The principal morbidity following axillary nod...</td>\n",
       "      <td>91.0</td>\n",
       "      <td>FEMALE</td>\n",
       "      <td>18 Years</td>\n",
       "      <td>NaN</td>\n",
       "      <td>18.0</td>\n",
       "      <td>NaN</td>\n",
       "      <td>2010.0</td>\n",
       "      <td>9.0</td>\n",
       "      <td>2010.0</td>\n",
       "      <td>17</td>\n",
       "      <td>761.0</td>\n",
       "      <td>2.08</td>\n",
       "    </tr>\n",
       "    <tr>\n",
       "      <th>3</th>\n",
       "      <td>NCT00908362</td>\n",
       "      <td>['Smoke-related Lung Diseases', 'Chronic Obstr...</td>\n",
       "      <td>2009-05-01</td>\n",
       "      <td>2009-10-01</td>\n",
       "      <td>Airway dendritic cells (DCs) play a key role i...</td>\n",
       "      <td>45.0</td>\n",
       "      <td>MALE</td>\n",
       "      <td>30 Years</td>\n",
       "      <td>60 Years</td>\n",
       "      <td>30.0</td>\n",
       "      <td>60.0</td>\n",
       "      <td>2009.0</td>\n",
       "      <td>5.0</td>\n",
       "      <td>2000.0</td>\n",
       "      <td>72</td>\n",
       "      <td>153.0</td>\n",
       "      <td>0.42</td>\n",
       "    </tr>\n",
       "    <tr>\n",
       "      <th>4</th>\n",
       "      <td>NCT01450462</td>\n",
       "      <td>['Bacterial Vaginosis']</td>\n",
       "      <td>2011-09-01</td>\n",
       "      <td>2013-01-01</td>\n",
       "      <td>Bacterial vaginosis (BV) develops when the con...</td>\n",
       "      <td>118.0</td>\n",
       "      <td>FEMALE</td>\n",
       "      <td>18 Years</td>\n",
       "      <td>50 Years</td>\n",
       "      <td>18.0</td>\n",
       "      <td>50.0</td>\n",
       "      <td>2011.0</td>\n",
       "      <td>9.0</td>\n",
       "      <td>2010.0</td>\n",
       "      <td>23</td>\n",
       "      <td>488.0</td>\n",
       "      <td>1.34</td>\n",
       "    </tr>\n",
       "  </tbody>\n",
       "</table>\n",
       "</div>"
      ],
      "text/plain": [
       "         NCTId                                          Condition  StartDate  \\\n",
       "0  NCT01775462     ['X-Linked Hypohidrotic Ectodermal Dysplasia'] 2013-04-01   \n",
       "1  NCT01978262                                        ['Healthy'] 2013-10-01   \n",
       "2  NCT01356862                                  ['Breast Cancer'] 2010-09-01   \n",
       "3  NCT00908362  ['Smoke-related Lung Diseases', 'Chronic Obstr... 2009-05-01   \n",
       "4  NCT01450462                            ['Bacterial Vaginosis'] 2011-09-01   \n",
       "\n",
       "  PrimaryCompletionDate                                       BriefSummary  \\\n",
       "0            2015-12-01  This Phase 2 first-in-neonate EDI200 study wil...   \n",
       "1            2017-08-01  The purpose of this pilot research project is ...   \n",
       "2            2012-10-01  The principal morbidity following axillary nod...   \n",
       "3            2009-10-01  Airway dendritic cells (DCs) play a key role i...   \n",
       "4            2013-01-01  Bacterial vaginosis (BV) develops when the con...   \n",
       "\n",
       "   EnrollmentCount     Sex MinimumAge MaximumAge  MinimumAgeYrs  \\\n",
       "0              6.0    MALE   48 Hours    14 Days            0.0   \n",
       "1            103.0  FEMALE   18 Years   39 Years           18.0   \n",
       "2             91.0  FEMALE   18 Years        NaN           18.0   \n",
       "3             45.0    MALE   30 Years   60 Years           30.0   \n",
       "4            118.0  FEMALE   18 Years   50 Years           18.0   \n",
       "\n",
       "   MaximumAgeYrs  StartYear  StartMonth  StartDecade  ConditionCount  \\\n",
       "0            0.0     2013.0         4.0       2010.0              46   \n",
       "1           39.0     2013.0        10.0       2010.0              11   \n",
       "2            NaN     2010.0         9.0       2010.0              17   \n",
       "3           60.0     2009.0         5.0       2000.0              72   \n",
       "4           50.0     2011.0         9.0       2010.0              23   \n",
       "\n",
       "   Duration  DurationYrsRounded  \n",
       "0     974.0                2.67  \n",
       "1    1400.0                3.84  \n",
       "2     761.0                2.08  \n",
       "3     153.0                0.42  \n",
       "4     488.0                1.34  "
      ]
     },
     "execution_count": 8,
     "metadata": {},
     "output_type": "execute_result"
    }
   ],
   "source": [
    "# Extract years from age feature\n",
    "def extract_years(age_feature):\n",
    "    \"\"\"This function converts age features to years. If the feature\n",
    "    does not contain \"Year\" or \"Years\", needs to be 0 years. \"\"\"\n",
    "    # Check if the input value is already numeric\n",
    "    if isinstance(age_feature, (int, float)):\n",
    "        return age_feature\n",
    "    # If not numeric, split text\n",
    "    parts = age_feature.split()\n",
    "    # If unit is Year or Years, return number before the unit\n",
    "    if parts[1] == 'Years' or parts[1] == 'Year':\n",
    "        return int(parts[0])\n",
    "    # Else return 0 years (anything other than year is less than a year (weeks, months, etc))\n",
    "    return 0\n",
    "\n",
    "#convert age features to numerical\n",
    "no_nans['MinimumAgeYrs'] = no_nans['MinimumAge'].apply(extract_years)\n",
    "no_nans['MaximumAgeYrs'] = no_nans['MaximumAge'].apply(extract_years)\n",
    "\n",
    "# Convert StartDate PrimaryCompletionDate column to date type\n",
    "no_nans['StartDate'] = pd.to_datetime(no_nans['StartDate'], errors='coerce')\n",
    "no_nans['PrimaryCompletionDate'] = pd.to_datetime(no_nans['PrimaryCompletionDate'], errors='coerce')\n",
    "\n",
    "# Generate Year and Month columns \n",
    "no_nans['StartYear'] = no_nans['StartDate'].dt.year\n",
    "no_nans['StartMonth'] = no_nans['StartDate'].dt.month\n",
    "no_nans['StartDecade'] = (no_nans['StartYear'] // 10) * 10\n",
    "\n",
    "# Generate Column for Number of Conditions\n",
    "no_nans['ConditionCount'] = no_nans['Condition'].apply(len)\n",
    "\n",
    "# Generate Column for study Duration\n",
    "no_nans['Duration'] = (no_nans['PrimaryCompletionDate'] - no_nans['StartDate']).dt.days\n",
    "no_nans['DurationYrsRounded'] = (no_nans['Duration'] / 365).round(2)\n",
    "\n",
    "no_nans.head()"
   ]
  },
  {
   "cell_type": "markdown",
   "id": "daaa3fa6-420b-453b-9fb8-681b2e782548",
   "metadata": {},
   "source": [
    "# EDA of Data Other than Brief Summary\n",
    "\n",
    "Let's first see how many different studies there are."
   ]
  },
  {
   "cell_type": "code",
   "execution_count": 9,
   "id": "080907ac",
   "metadata": {},
   "outputs": [
    {
     "data": {
      "text/plain": [
       "Condition\n",
       "['Healthy']                                                                          861\n",
       "['Breast Cancer']                                                                    656\n",
       "['Prostate Cancer']                                                                  514\n",
       "['Infertility']                                                                      187\n",
       "['Healthy Volunteers']                                                               149\n",
       "                                                                                    ... \n",
       "['Breast Cancer Female', 'Anxiety', 'Fatigue']                                         1\n",
       "['Cerebral Stroke']                                                                    1\n",
       "['Neoplasms, Prostate']                                                                1\n",
       "['Postpartum Depression', 'Pregnancy', 'Depression']                                   1\n",
       "['Breastfeeding', 'Engorgement of Breast Associated With Childbirth, Postpartum']      1\n",
       "Name: count, Length: 7417, dtype: int64"
      ]
     },
     "execution_count": 9,
     "metadata": {},
     "output_type": "execute_result"
    }
   ],
   "source": [
    "no_nans['Condition'].value_counts()"
   ]
  },
  {
   "cell_type": "markdown",
   "id": "7d46a407",
   "metadata": {},
   "source": [
    "There are 7,417 different conditions that a person can possibly be in this dataframe. \"Healthy\" is amongst the most common conditions, we might need to consider only classifying for the top 5 conditions otherwise the counts are really low. "
   ]
  },
  {
   "cell_type": "code",
   "execution_count": 10,
   "id": "ee24aa3a-02b4-41cb-bd1e-01271f0d3643",
   "metadata": {},
   "outputs": [
    {
     "data": {
      "text/plain": [
       "Sex\n",
       "FEMALE    9627\n",
       "MALE      5373\n",
       "Name: count, dtype: int64"
      ]
     },
     "execution_count": 10,
     "metadata": {},
     "output_type": "execute_result"
    }
   ],
   "source": [
    "# Gender stats\n",
    "no_nans['Sex'].value_counts()"
   ]
  },
  {
   "cell_type": "code",
   "execution_count": 11,
   "id": "0c99882a-0d13-42b9-8604-0ee7c1cff5fd",
   "metadata": {},
   "outputs": [
    {
     "data": {
      "image/png": "[encoded data removed]",
      "text/plain": [
       "<Figure size 1200x600 with 2 Axes>"
      ]
     },
     "metadata": {},
     "output_type": "display_data"
    }
   ],
   "source": [
    "# Age stats by sex\n",
    "\n",
    "import matplotlib.pyplot as plt\n",
    "\n",
    "def plot_boxplot(data, column, ax, title, custom_palette):\n",
    "    \"\"\"Function to plot boxplots for a specific column, with annotations for male and female data\"\"\"\n",
    "    # Filter data by sex\n",
    "    data_male = data[data['Sex'] == 'MALE'][column].dropna()\n",
    "    data_female = data[data['Sex'] == 'FEMALE'][column].dropna()\n",
    "    \n",
    "    # Plot boxplots\n",
    "    male_boxes = ax.boxplot(data_male, positions=[1], patch_artist=True, medianprops=dict(color='black'), boxprops=dict(facecolor=custom_palette['MALE']))\n",
    "    female_boxes = ax.boxplot(data_female, positions=[2], patch_artist=True, medianprops=dict(color='black'), boxprops=dict(facecolor=custom_palette['FEMALE']))\n",
    "    \n",
    "    # Add labels and title\n",
    "    ax.set_title(title)\n",
    "    ax.set_xticks([1, 2])\n",
    "    ax.set_xticklabels(['MALE', 'FEMALE'])\n",
    "    \n",
    "    # Annotate median values for male and female data\n",
    "    male_median = male_boxes['medians'][0].get_ydata()[0]\n",
    "    ax.annotate(f'Median: {male_median:.2f}', xy=(1, male_median), xytext=(1, male_median + 0.1), ha='center', va='bottom', fontsize=10, color='black')\n",
    "    \n",
    "    female_median = female_boxes['medians'][0].get_ydata()[0]\n",
    "    ax.annotate(f'Median: {female_median:.2f}', xy=(2, female_median), xytext=(2, female_median + 0.1), ha='center', va='bottom', fontsize=10, color='black')\n",
    "\n",
    "# Set up subplots\n",
    "fig, axes = plt.subplots(1, 2, figsize=(12, 6))\n",
    "\n",
    "# Define palette\n",
    "custom_palette = {'FEMALE': '#99ff99', 'MALE': '#99ccff'} \n",
    "\n",
    "# Boxplot for MinimumAgeYrs\n",
    "plot_boxplot(all_df, 'MinimumAgeYrs', axes[0], 'Boxplot of Minimum Age by Sex', custom_palette)\n",
    "\n",
    "# Boxplot for MaximumAgeYrs\n",
    "plot_boxplot(all_df, 'MaximumAgeYrs', axes[1], 'Boxplot of Maximum Age by Sex', custom_palette)\n",
    "\n",
    "# Show plot\n",
    "plt.tight_layout()\n",
    "plt.show()\n",
    "\n"
   ]
  },
  {
   "cell_type": "code",
   "execution_count": 40,
   "id": "7d7db038-9109-450d-a91f-fe589be29d97",
   "metadata": {},
   "outputs": [
    {
     "data": {
      "image/png": "[encoded data removed]",
      "text/plain": [
       "<Figure size 432x288 with 1 Axes>"
      ]
     },
     "metadata": {},
     "output_type": "display_data"
    }
   ],
   "source": [
    "# Date stats by sex\n",
    "\n",
    "#Could also do by year if desired\n",
    "counts = no_nans.groupby(['StartDecade', 'Sex']).size().unstack(fill_value=0)\n",
    "\n",
    "counts.index = counts.index.astype(int)\n",
    "\n",
    "ax = counts.plot(kind='bar', stacked=False, color=custom_palette)\n",
    "\n",
    "# Add labels and title\n",
    "plt.title('Count of Sex by Start Decade')\n",
    "plt.xlabel('Decade')\n",
    "plt.ylabel('Count')\n",
    "plt.legend(title='Sex')\n",
    " \n",
    "# Show plot\n",
    "plt.show()\n"
   ]
  },
  {
   "cell_type": "code",
   "execution_count": 41,
   "id": "363735a8-fe21-442f-9931-1dc04d01d36a",
   "metadata": {},
   "outputs": [
    {
     "data": {
      "image/png": "[encoded data removed]",
      "text/plain": [
       "<Figure size 432x288 with 1 Axes>"
      ]
     },
     "metadata": {},
     "output_type": "display_data"
    }
   ],
   "source": [
    "# Number of conditions by sex\n",
    "\n",
    "counts = no_nans.groupby(['ConditionCount', 'Sex']).size().unstack(fill_value=0)\n",
    "\n",
    "counts.index = counts.index.astype(int)\n",
    "\n",
    "ax = counts.plot(kind='bar', stacked=False, color=custom_palette)\n",
    "\n",
    "# Add labels and title\n",
    "plt.title('Condition Count by Sex')\n",
    "plt.xlabel('Sex')\n",
    "plt.ylabel('ConditionCount')\n",
    " \n",
    "# Show plot\n",
    "plt.show()\n"
   ]
  },
  {
   "cell_type": "code",
   "execution_count": 42,
   "id": "8ddecb0f-a629-4423-8bae-18cb7a37e6c2",
   "metadata": {},
   "outputs": [
    {
     "name": "stdout",
     "output_type": "stream",
     "text": [
      "Enrollment Statistics by Sex:\n",
      "\n",
      "+--------+-------+------+------+-----+-----+-----+-----+--------+\n",
      "|        | count | mean | std  | min | 25% | 50% | 75% |  max   |\n",
      "+--------+-------+------+------+-----+-----+-----+-----+--------+\n",
      "| FEMALE | 9491  | 604  | 7075 |  0  | 40  | 80  | 190 | 430830 |\n",
      "|  MALE  | 5279  | 130  | 791  |  0  | 18  | 34  | 71  | 35533  |\n",
      "+--------+-------+------+------+-----+-----+-----+-----+--------+\n"
     ]
    }
   ],
   "source": [
    "# Enrollment Numbers by Sex\n",
    "\n",
    "# Get descriptive statistics\n",
    "enrollment_stats = no_nans.groupby('Sex')['EnrollmentCount'].describe()\n",
    "\n",
    "# Round statistics to whole numbers\n",
    "rounded_enrollment_stats = enrollment_stats.astype(int)\n",
    "\n",
    "# Display table with title\n",
    "print(\"Enrollment Statistics by Sex:\\n\")\n",
    "print(tabulate(rounded_enrollment_stats, headers=rounded_enrollment_stats.columns, tablefmt='pretty'))"
   ]
  },
  {
   "cell_type": "code",
   "execution_count": 43,
   "id": "a5941873",
   "metadata": {},
   "outputs": [
    {
     "name": "stdout",
     "output_type": "stream",
     "text": [
      "Enrollment Statistics by Sex:\n",
      "\n",
      "+--------+--------+------+------+-----+------+------+------+-------+\n",
      "|        | count  | mean | std  | min | 25%  | 50%  | 75%  |  max  |\n",
      "+--------+--------+------+------+-----+------+------+------+-------+\n",
      "| FEMALE | 4537.0 | 2.58 | 2.25 | 0.0 | 1.0  | 2.0  | 3.5  | 21.27 |\n",
      "|  MALE  | 2780.0 | 1.67 | 2.45 | 0.0 | 0.25 | 0.83 | 2.33 | 46.95 |\n",
      "+--------+--------+------+------+-----+------+------+------+-------+\n"
     ]
    }
   ],
   "source": [
    "# Study Duration by Sex (rounded to closest # of years)\n",
    "\n",
    "# Get descriptive statistics\n",
    "duration_stats = no_nans.groupby('Sex')['DurationYrsRounded'].describe()\n",
    "\n",
    "# Round statistics to whole numbers\n",
    "rounded_duration_stats = round(duration_stats,2)\n",
    "\n",
    "# Display table with title\n",
    "print(\"Enrollment Statistics by Sex:\\n\")\n",
    "print(tabulate(rounded_duration_stats, headers=rounded_duration_stats.columns, tablefmt='pretty'))"
   ]
  },
  {
   "cell_type": "markdown",
   "id": "290d9d13",
   "metadata": {},
   "source": [
    "## Train/Test Split"
   ]
  },
  {
   "cell_type": "code",
   "execution_count": 12,
   "id": "7bca7923",
   "metadata": {},
   "outputs": [],
   "source": [
    "# Split the DataFrame into features (X) and target variable (y)\n",
    "y = no_nans['Sex']\n",
    "X = no_nans.drop(['Sex'],axis = 1)  # Features\n",
    "                   # Target variable\n",
    "\n",
    "# Step 1: Encode the categorical response variable\n",
    "label_encoder = LabelEncoder()\n",
    "y_encoded = label_encoder.fit_transform(y)\n",
    "\n",
    "# Step 2: Split the data into training and test sets\n",
    "X_train, X_test, y_train, y_test = train_test_split(X, y_encoded, test_size=0.2, random_state=42)"
   ]
  },
  {
   "cell_type": "markdown",
   "id": "9d29054e",
   "metadata": {},
   "source": [
    "Now, we can get what the label encoded each class to be."
   ]
  },
  {
   "cell_type": "code",
   "execution_count": 13,
   "id": "9e0e1ccf",
   "metadata": {},
   "outputs": [
    {
     "name": "stdout",
     "output_type": "stream",
     "text": [
      "Label mapping:\n",
      "{'FEMALE': 0, 'MALE': 1}\n"
     ]
    }
   ],
   "source": [
    "# Retrieve the mapping between original labels and encoded values\n",
    "label_mapping = {label: encoded_value for label, encoded_value in zip(label_encoder.classes_, label_encoder.transform(label_encoder.classes_))}\n",
    "\n",
    "print(\"Label mapping:\")\n",
    "print(label_mapping)"
   ]
  },
  {
   "cell_type": "markdown",
   "id": "1bd9637e",
   "metadata": {},
   "source": [
    "In order to resample, I can't use smote as we hae non-numeric and categorical variables. But, we can manually do it. The X_train and y_train have to be put back together in order to resample."
   ]
  },
  {
   "cell_type": "code",
   "execution_count": 14,
   "id": "8916fc2d",
   "metadata": {},
   "outputs": [],
   "source": [
    "# Create a synthetic DataFrame\n",
    "y_train = pd.DataFrame(y_train)\n",
    "y_train = y_train.rename(columns = {0:'Sex'})\n",
    "temp_df = pd.concat([X_train, y_train], axis=1)"
   ]
  },
  {
   "cell_type": "code",
   "execution_count": 15,
   "id": "5ed8c294",
   "metadata": {},
   "outputs": [
    {
     "name": "stdout",
     "output_type": "stream",
     "text": [
      "Original class distribution:\n",
      "Sex\n",
      "0.0    7728\n",
      "1.0    4272\n",
      "Name: count, dtype: int64\n"
     ]
    }
   ],
   "source": [
    "# Display class distribution\n",
    "print(\"Original class distribution:\")\n",
    "print(temp_df['Sex'].value_counts())"
   ]
  },
  {
   "cell_type": "code",
   "execution_count": 16,
   "id": "40d53cee",
   "metadata": {},
   "outputs": [
    {
     "name": "stdout",
     "output_type": "stream",
     "text": [
      "\n",
      "Resampled class distribution:\n",
      "Sex\n",
      "0.0    7728\n",
      "1.0    7728\n",
      "Name: count, dtype: int64\n"
     ]
    }
   ],
   "source": [
    "# Now we move on to resampling\n",
    "# Separate minority and majority classes\n",
    "minority_class = temp_df[temp_df['Sex'] == 1]\n",
    "majority_class = temp_df[temp_df['Sex'] == 0]\n",
    "\n",
    "# Determine the number of samples in the majority class\n",
    "majority_count = len(majority_class)\n",
    "\n",
    "# Sample from the minority class with replacement to match the number of samples in the majority class\n",
    "minority_resampled = minority_class.sample(n=majority_count, replace=True, random_state=42)\n",
    "\n",
    "# Combine the resampled minority class with the original majority class\n",
    "resampled_df = pd.concat([majority_class, minority_resampled])\n",
    "\n",
    "# Shuffle the dataframe\n",
    "resampled_df = resampled_df.sample(frac=1, random_state=42).reset_index(drop=True)\n",
    "\n",
    "# Display resampled class distribution\n",
    "print(\"\\nResampled class distribution:\")\n",
    "print(resampled_df['Sex'].value_counts())\n"
   ]
  },
  {
   "cell_type": "code",
   "execution_count": 17,
   "id": "8d9f52c3",
   "metadata": {},
   "outputs": [
    {
     "data": {
      "text/html": [
       "<div>\n",
       "<style scoped>\n",
       "    .dataframe tbody tr th:only-of-type {\n",
       "        vertical-align: middle;\n",
       "    }\n",
       "\n",
       "    .dataframe tbody tr th {\n",
       "        vertical-align: top;\n",
       "    }\n",
       "\n",
       "    .dataframe thead th {\n",
       "        text-align: right;\n",
       "    }\n",
       "</style>\n",
       "<table border=\"1\" class=\"dataframe\">\n",
       "  <thead>\n",
       "    <tr style=\"text-align: right;\">\n",
       "      <th></th>\n",
       "      <th>NCTId</th>\n",
       "      <th>Condition</th>\n",
       "      <th>StartDate</th>\n",
       "      <th>PrimaryCompletionDate</th>\n",
       "      <th>BriefSummary</th>\n",
       "      <th>EnrollmentCount</th>\n",
       "      <th>MinimumAge</th>\n",
       "      <th>MaximumAge</th>\n",
       "      <th>MinimumAgeYrs</th>\n",
       "      <th>MaximumAgeYrs</th>\n",
       "      <th>StartYear</th>\n",
       "      <th>StartMonth</th>\n",
       "      <th>StartDecade</th>\n",
       "      <th>ConditionCount</th>\n",
       "      <th>Duration</th>\n",
       "      <th>DurationYrsRounded</th>\n",
       "      <th>Sex</th>\n",
       "    </tr>\n",
       "  </thead>\n",
       "  <tbody>\n",
       "    <tr>\n",
       "      <th>0</th>\n",
       "      <td>NCT00534274</td>\n",
       "      <td>['Breast Cancer']</td>\n",
       "      <td>2006-11-01</td>\n",
       "      <td>2012-04-01</td>\n",
       "      <td>RATIONALE: Diagnostic procedures, such as posi...</td>\n",
       "      <td>97.0</td>\n",
       "      <td>18 Years</td>\n",
       "      <td>65 Years</td>\n",
       "      <td>18.0</td>\n",
       "      <td>65.0</td>\n",
       "      <td>2006.0</td>\n",
       "      <td>11.0</td>\n",
       "      <td>2000.0</td>\n",
       "      <td>17.0</td>\n",
       "      <td>1978.0</td>\n",
       "      <td>5.42</td>\n",
       "      <td>0.0</td>\n",
       "    </tr>\n",
       "    <tr>\n",
       "      <th>1</th>\n",
       "      <td>NCT00665860</td>\n",
       "      <td>['Osteoporosis']</td>\n",
       "      <td>2001-04-01</td>\n",
       "      <td>2006-06-01</td>\n",
       "      <td>The purpose of this study is to determine whet...</td>\n",
       "      <td>403.0</td>\n",
       "      <td>40 Years</td>\n",
       "      <td>60 Years</td>\n",
       "      <td>40.0</td>\n",
       "      <td>60.0</td>\n",
       "      <td>2001.0</td>\n",
       "      <td>4.0</td>\n",
       "      <td>2000.0</td>\n",
       "      <td>16.0</td>\n",
       "      <td>1887.0</td>\n",
       "      <td>5.17</td>\n",
       "      <td>1.0</td>\n",
       "    </tr>\n",
       "    <tr>\n",
       "      <th>2</th>\n",
       "      <td>NCT00452673</td>\n",
       "      <td>['Advanced Breast Cancer']</td>\n",
       "      <td>2007-06-01</td>\n",
       "      <td>2012-10-01</td>\n",
       "      <td>The purpose of this study is to learn about th...</td>\n",
       "      <td>52.0</td>\n",
       "      <td>18 Years</td>\n",
       "      <td>NaN</td>\n",
       "      <td>18.0</td>\n",
       "      <td>NaN</td>\n",
       "      <td>2007.0</td>\n",
       "      <td>6.0</td>\n",
       "      <td>2000.0</td>\n",
       "      <td>26.0</td>\n",
       "      <td>1949.0</td>\n",
       "      <td>5.34</td>\n",
       "      <td>0.0</td>\n",
       "    </tr>\n",
       "    <tr>\n",
       "      <th>3</th>\n",
       "      <td>NCT02142127</td>\n",
       "      <td>['Healthy']</td>\n",
       "      <td>2014-04-01</td>\n",
       "      <td>2014-06-01</td>\n",
       "      <td>Human mass-balance studies with radiolabelled ...</td>\n",
       "      <td>6.0</td>\n",
       "      <td>55 Years</td>\n",
       "      <td>65 Years</td>\n",
       "      <td>55.0</td>\n",
       "      <td>65.0</td>\n",
       "      <td>2014.0</td>\n",
       "      <td>4.0</td>\n",
       "      <td>2010.0</td>\n",
       "      <td>11.0</td>\n",
       "      <td>61.0</td>\n",
       "      <td>0.17</td>\n",
       "      <td>1.0</td>\n",
       "    </tr>\n",
       "    <tr>\n",
       "      <th>4</th>\n",
       "      <td>NCT03956082</td>\n",
       "      <td>['Endometriosis']</td>\n",
       "      <td>NaT</td>\n",
       "      <td>NaT</td>\n",
       "      <td>This is a prospective single arm study. The st...</td>\n",
       "      <td>15.0</td>\n",
       "      <td>18 Years</td>\n",
       "      <td>NaN</td>\n",
       "      <td>18.0</td>\n",
       "      <td>NaN</td>\n",
       "      <td>NaN</td>\n",
       "      <td>NaN</td>\n",
       "      <td>NaN</td>\n",
       "      <td>17.0</td>\n",
       "      <td>NaN</td>\n",
       "      <td>NaN</td>\n",
       "      <td>0.0</td>\n",
       "    </tr>\n",
       "  </tbody>\n",
       "</table>\n",
       "</div>"
      ],
      "text/plain": [
       "         NCTId                   Condition  StartDate PrimaryCompletionDate  \\\n",
       "0  NCT00534274           ['Breast Cancer'] 2006-11-01            2012-04-01   \n",
       "1  NCT00665860            ['Osteoporosis'] 2001-04-01            2006-06-01   \n",
       "2  NCT00452673  ['Advanced Breast Cancer'] 2007-06-01            2012-10-01   \n",
       "3  NCT02142127                 ['Healthy'] 2014-04-01            2014-06-01   \n",
       "4  NCT03956082           ['Endometriosis']        NaT                   NaT   \n",
       "\n",
       "                                        BriefSummary  EnrollmentCount  \\\n",
       "0  RATIONALE: Diagnostic procedures, such as posi...             97.0   \n",
       "1  The purpose of this study is to determine whet...            403.0   \n",
       "2  The purpose of this study is to learn about th...             52.0   \n",
       "3  Human mass-balance studies with radiolabelled ...              6.0   \n",
       "4  This is a prospective single arm study. The st...             15.0   \n",
       "\n",
       "  MinimumAge MaximumAge  MinimumAgeYrs  MaximumAgeYrs  StartYear  StartMonth  \\\n",
       "0   18 Years   65 Years           18.0           65.0     2006.0        11.0   \n",
       "1   40 Years   60 Years           40.0           60.0     2001.0         4.0   \n",
       "2   18 Years        NaN           18.0            NaN     2007.0         6.0   \n",
       "3   55 Years   65 Years           55.0           65.0     2014.0         4.0   \n",
       "4   18 Years        NaN           18.0            NaN        NaN         NaN   \n",
       "\n",
       "   StartDecade  ConditionCount  Duration  DurationYrsRounded  Sex  \n",
       "0       2000.0            17.0    1978.0                5.42  0.0  \n",
       "1       2000.0            16.0    1887.0                5.17  1.0  \n",
       "2       2000.0            26.0    1949.0                5.34  0.0  \n",
       "3       2010.0            11.0      61.0                0.17  1.0  \n",
       "4          NaN            17.0       NaN                 NaN  0.0  "
      ]
     },
     "execution_count": 17,
     "metadata": {},
     "output_type": "execute_result"
    }
   ],
   "source": [
    "resampled_df.head()"
   ]
  },
  {
   "cell_type": "markdown",
   "id": "55cd4e80-ec43-47d3-9987-e313f9307e79",
   "metadata": {},
   "source": [
    "# Apply Preprocessing Steps to Brief Summary Text Data"
   ]
  },
  {
   "cell_type": "code",
   "execution_count": 18,
   "id": "f2708025-a102-4608-a4cd-846ddd095b3c",
   "metadata": {},
   "outputs": [],
   "source": [
    "sw = stopwords.words(\"english\")\n",
    "punctuation = set(punctuation)\n",
    "\n",
    "def remove_stopwords(tokens) :\n",
    "    \"\"\"This function removes stopwords (sw) from text\"\"\"\n",
    "    \n",
    "    tokens = [token for token in tokens if token not in sw]\n",
    "    \n",
    "    return(tokens)\n",
    "\n",
    "def tokenize(text) : \n",
    "    \"\"\" This function splits text on whitespace. \"\"\"\n",
    "    text = text.split()\n",
    "    return(text)\n",
    "\n",
    "def remove_punctuation(text, punct_set=punctuation) : \n",
    "    \n",
    "    return(\"\".join([ch for ch in text if ch not in punctuation]))\n",
    "\n",
    "def process_text(text, pipeline):\n",
    "    if pd.isnull(text):  # Check if text is NaN\n",
    "        return text  # Return NaN without processing\n",
    "    else:\n",
    "        for function in pipeline:\n",
    "            text = function(text)\n",
    "        return text\n",
    "\n",
    "summary_pipeline = [str.lower, remove_punctuation, tokenize, remove_stopwords]\n",
    "\n",
    "\n",
    "# Save as new column, ProcessedSummmary for analysis\n",
    "resampled_df['ProcessedSummary'] = resampled_df['BriefSummary'].apply(lambda x: process_text(x, summary_pipeline))\n"
   ]
  },
  {
   "cell_type": "markdown",
   "id": "3d77ffcf-6ee7-4b50-b339-6de602abdaf5",
   "metadata": {},
   "source": [
    "### Examine Clean Tokens"
   ]
  },
  {
   "cell_type": "code",
   "execution_count": 19,
   "id": "ee033d3d-037e-458c-925e-a2f744cdb97d",
   "metadata": {},
   "outputs": [
    {
     "data": {
      "text/plain": [
       "0     [rationale, diagnostic, procedures, positron, ...\n",
       "1     [purpose, study, determine, whether, soy, isof...\n",
       "2     [purpose, study, learn, safety, efficacy, dasa...\n",
       "3     [human, massbalance, studies, radiolabelled, s...\n",
       "4     [prospective, single, arm, study, study, enrol...\n",
       "5     [study, quantitatively, evaluate, metabolic, r...\n",
       "6     [purpose, study, determine, whether, effects, ...\n",
       "7     [comparison, effect, three, times, week, proph...\n",
       "8                                                   NaN\n",
       "9     [sixweek, study, evaluate, efficacy, safety, t...\n",
       "10    [objective, current, study, assess, effect, 6d...\n",
       "11    [analyze, human, skeletal, muscle, learn, abil...\n",
       "12    [assess, effects, bms650032, pharmacokinetics,...\n",
       "13    [bs01, randomised, doubleblind, placebocontrol...\n",
       "14    [purpose, study, examine, whether, dehydroepia...\n",
       "15    [aim, study, find, whether, functional, dry, n...\n",
       "16    [researchers, looking, better, way, treat, wom...\n",
       "17    [purpose, study, determine, whether, reenforce...\n",
       "18    [purpose, study, investigate, patients, selfre...\n",
       "19    [statins, class, drugs, highly, effective, low...\n",
       "20    [analyze, effectiveness, 16week, resistance, e...\n",
       "21                                                  NaN\n",
       "22    [purpose, study, determine, metabolic, disposi...\n",
       "23    [hypothesise, fish, oils, beneficial, effect, ...\n",
       "24    [fluid, management, plays, essential, role, ce...\n",
       "Name: ProcessedSummary, dtype: object"
      ]
     },
     "execution_count": 19,
     "metadata": {},
     "output_type": "execute_result"
    }
   ],
   "source": [
    "resampled_df['ProcessedSummary'].head(25)"
   ]
  },
  {
   "cell_type": "code",
   "execution_count": 23,
   "id": "f04f9846-4537-4d2e-89d9-b871f23d17a0",
   "metadata": {},
   "outputs": [
    {
     "data": {
      "image/png": "[encoded data removed]",
      "text/plain": [
       "<Figure size 1000x600 with 1 Axes>"
      ]
     },
     "metadata": {},
     "output_type": "display_data"
    }
   ],
   "source": [
    "# Distribution of Number of Tokens by Sex\n",
    "# Count the number of tokens in each list\n",
    "# Function to count tokens in a list\n",
    "def count_tokens(token_list):\n",
    "    if isinstance(token_list, list):\n",
    "        return len(token_list)\n",
    "    else:\n",
    "        return 0  \n",
    "        \n",
    "resampled_df['num_tokens'] = resampled_df['ProcessedSummary'].apply(count_tokens)\n",
    "\n",
    "# Group by 'sex' and plot histogram\n",
    "male_tokens = resampled_df[resampled_df['Sex'] == 1]['num_tokens']\n",
    "female_tokens = resampled_df[resampled_df['Sex'] == 0]['num_tokens']\n",
    "\n",
    "plt.figure(figsize=(10, 6))\n",
    "\n",
    "plt.hist(male_tokens, bins=range(1, max(resampled_df['num_tokens']) + 2), alpha=0.5, label='Male', edgecolor='black')\n",
    "plt.hist(female_tokens, bins=range(1, max(resampled_df['num_tokens']) + 2), alpha=0.5, label='Female', edgecolor='black')\n",
    "\n",
    "plt.xlabel('Number of Tokens')\n",
    "plt.ylabel('Frequency')\n",
    "plt.title('Histogram of Number of Tokens Grouped by Sex')\n",
    "plt.legend(loc='upper right')\n",
    "\n",
    "plt.grid(axis='y', linestyle='--', alpha=0.7)\n",
    "plt.tight_layout()\n",
    "\n",
    "# Show the plot\n",
    "plt.show()"
   ]
  },
  {
   "cell_type": "markdown",
   "id": "a3d61734-91d0-46a2-8878-95cbda40389e",
   "metadata": {},
   "source": [
    "# Drop NaN values from "
   ]
  },
  {
   "cell_type": "code",
   "execution_count": null,
   "id": "c1b3a882-28c8-46b7-b9a1-a73eecf792e2",
   "metadata": {},
   "outputs": [],
   "source": []
  },
  {
   "cell_type": "markdown",
   "id": "cb406463-5de8-411f-81e6-072a1d8317bb",
   "metadata": {},
   "source": [
    "# Descriptive Stats of Text Data"
   ]
  },
  {
   "cell_type": "code",
   "execution_count": 24,
   "id": "4b1f8bb5-8c54-4a2c-9e62-6559178d0b19",
   "metadata": {},
   "outputs": [],
   "source": [
    "# I had to rewrite the descriptive_stats function in order to read in the nested list of words.\n",
    "def new_descriptive_stats(tokens, num_tokens = 5 , verbose=True) :\n",
    "\n",
    "    # Fill in the correct values here. \n",
    "    flat_tokens = [token for sublist in tokens if isinstance(sublist, list) for token in sublist if not isinstance(token, float)]\n",
    "    total_tokens = len(flat_tokens)  # total number of tokens\n",
    "    num_tokens = len(flat_tokens) # number of tokens\n",
    "    num_unique_tokens = len(set(flat_tokens)) # number of unique tokens\n",
    "    lexical_diversity = num_unique_tokens/num_tokens  # lexical diversity\n",
    "    num_characters = sum(len(token) for token in flat_tokens) # number of characters\n",
    "    most_common_tokens = Counter(flat_tokens).most_common(num_tokens)[0:5] # most common tokens\n",
    "   \n",
    "    \n",
    "    if verbose :        \n",
    "        print(f\"There are {num_tokens} tokens in the data.\")\n",
    "        print(f\"There are {num_unique_tokens} unique tokens in the data.\")\n",
    "        print(f\"There are {num_characters} characters in the data.\")\n",
    "        print(f\"The lexical diversity is {lexical_diversity:.3f} in the data.\")\n",
    "        \n",
    "    print(f\"The five most common tokens are {most_common_tokens} in the data.\")      \n",
    "    \n",
    "    return([num_tokens, num_unique_tokens,\n",
    "            lexical_diversity,\n",
    "            num_characters])\n",
    "    "
   ]
  },
  {
   "cell_type": "markdown",
   "id": "2fcad01f-641e-4280-b3c9-f42b05bbed98",
   "metadata": {},
   "source": [
    "## Female descriptives"
   ]
  },
  {
   "cell_type": "code",
   "execution_count": 26,
   "id": "d21a674c-2d02-45ff-9c62-e3ca8b6263f6",
   "metadata": {},
   "outputs": [
    {
     "name": "stdout",
     "output_type": "stream",
     "text": [
      "There are 340301 tokens in the data.\n",
      "There are 25813 unique tokens in the data.\n",
      "There are 2448917 characters in the data.\n",
      "The lexical diversity is 0.076 in the data.\n",
      "The five most common tokens are [('study', 6640), ('women', 2920), ('patients', 2740), ('treatment', 2227), ('cancer', 2182)] in the data.\n"
     ]
    },
    {
     "data": {
      "text/plain": [
       "[340301, 25813, 0.0758534356349232, 2448917]"
      ]
     },
     "execution_count": 26,
     "metadata": {},
     "output_type": "execute_result"
    }
   ],
   "source": [
    "new_descriptive_stats(resampled_df[resampled_df['Sex'] == 0]['ProcessedSummary'])"
   ]
  },
  {
   "cell_type": "markdown",
   "id": "218f24ab-e302-4ba1-830d-dd57f263c40b",
   "metadata": {},
   "source": [
    "## Male descriptives"
   ]
  },
  {
   "cell_type": "code",
   "execution_count": 28,
   "id": "7c029bc9",
   "metadata": {},
   "outputs": [
    {
     "name": "stdout",
     "output_type": "stream",
     "text": [
      "There are 345292 tokens in the data.\n",
      "There are 17084 unique tokens in the data.\n",
      "There are 2488902 characters in the data.\n",
      "The lexical diversity is 0.049 in the data.\n",
      "The five most common tokens are [('study', 6727), ('women', 3221), ('patients', 2598), ('treatment', 2355), ('cancer', 2228)] in the data.\n"
     ]
    },
    {
     "data": {
      "text/plain": [
       "[345292, 17084, 0.04947696442431333, 2488902]"
      ]
     },
     "execution_count": 28,
     "metadata": {},
     "output_type": "execute_result"
    }
   ],
   "source": [
    "new_descriptive_stats(resampled_df[resampled_df['Sex'] == 1]['ProcessedSummary'])"
   ]
  },
  {
   "cell_type": "markdown",
   "id": "9de45818-59ed-4c17-bfd4-f3932f342dec",
   "metadata": {},
   "source": [
    "# Further processing of tokens"
   ]
  },
  {
   "cell_type": "code",
   "execution_count": null,
   "id": "0f8bb0e0",
   "metadata": {},
   "outputs": [],
   "source": []
  },
  {
   "cell_type": "code",
   "execution_count": null,
   "id": "b489b8ad",
   "metadata": {},
   "outputs": [],
   "source": []
  }
 ],
 "metadata": {
  "kernelspec": {
   "display_name": "Python 3 (ipykernel)",
   "language": "python",
   "name": "python3"
  },
  "language_info": {
   "codemirror_mode": {
    "name": "ipython",
    "version": 3
   },
   "file_extension": ".py",
   "mimetype": "text/x-python",
   "name": "python",
   "nbconvert_exporter": "python",
   "pygments_lexer": "ipython3",
   "version": "3.9.18"
  }
 },
 "nbformat": 4,
 "nbformat_minor": 5
}
